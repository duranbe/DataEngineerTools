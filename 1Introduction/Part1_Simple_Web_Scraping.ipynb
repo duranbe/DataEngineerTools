{
 "cells": [
  {
   "cell_type": "markdown",
   "metadata": {},
   "source": [
    "# Introduction"
   ]
  },
  {
   "cell_type": "markdown",
   "metadata": {},
   "source": [
    "Avant de commencer, parcourer le fichier README.rst"
   ]
  },
  {
   "cell_type": "markdown",
   "metadata": {},
   "source": [
    "# Requête HTTP "
   ]
  },
  {
   "cell_type": "markdown",
   "metadata": {},
   "source": [
    "Un requête HTTP est une requête basé sur le protocole TCP, elle fait partie de la couche application de la couche OSI. Elle permet d'accéder aux données mise à disposition sur une adresse IP (ou url résolue par un DNS) et un port. \n",
    "\n",
    "Les deux ports les plus utilisé dans le web sont le 80 pour les sites en HTTP et le 443 pour les sites en HTTPS. HTTPS est une variable du protocole HTTP basé sur le protocole TLS.\n",
    "\n",
    "Il existe de nombreux types de requêtes selon la convention `REST`: \n",
    "- GET\n",
    "- POST\n",
    "- PUT \n",
    "- DELETE\n",
    "- UPDATE.\n",
    "\n",
    "Dans notre cas nous allons utiliser la plupart du temps des GET et potentiellement des POST. \n",
    "- Le GET permet comme sont nom l'indique de récupérer des informations en fonction de certain paramètres. \n",
    "- Le POST nécéssite un envoie de données pour récupérer des données. Le body du post est, la plupart du temps, envoyé sous la forme d'un objet JSON.\n",
    "\n",
    "Ces requêtes encapsulent un certain nombre de paramètres qui permettent soient d'identifier une provenance et un utilisateur ou de réaliser différentes actions."
   ]
  },
  {
   "cell_type": "code",
   "execution_count": 24,
   "metadata": {},
   "outputs": [],
   "source": [
    "import requests\n",
    "from bs4 import BeautifulSoup"
   ]
  },
  {
   "cell_type": "code",
   "execution_count": 25,
   "metadata": {},
   "outputs": [
    {
     "data": {
      "text/plain": [
       "200"
      ]
     },
     "execution_count": 25,
     "metadata": {},
     "output_type": "execute_result"
    }
   ],
   "source": [
    "url = \"http://www.esiee.fr/\"\n",
    "response = requests.get(url)\n",
    "response.status_code"
   ]
  },
  {
   "cell_type": "markdown",
   "metadata": {},
   "source": [
    "Il existe deux méthodes pour récupérer le contenu de la page :\n",
    "\n",
    "- `response.text` qui permet de retourner le texte sous la forme d'une chaine de charactères.\n",
    "- `response.content` qui permet de récupérer le contenu de la page sous la forme de bytes"
   ]
  },
  {
   "cell_type": "code",
   "execution_count": 26,
   "metadata": {},
   "outputs": [
    {
     "data": {
      "text/plain": [
       "bytes"
      ]
     },
     "execution_count": 26,
     "metadata": {},
     "output_type": "execute_result"
    }
   ],
   "source": [
    "type(response.content)"
   ]
  },
  {
   "cell_type": "code",
   "execution_count": 27,
   "metadata": {},
   "outputs": [
    {
     "data": {
      "text/plain": [
       "str"
      ]
     },
     "execution_count": 27,
     "metadata": {},
     "output_type": "execute_result"
    }
   ],
   "source": [
    "type(response.text)"
   ]
  },
  {
   "cell_type": "markdown",
   "metadata": {},
   "source": [
    "Pour récupérer les 1000 premiers charactères de la page :"
   ]
  },
  {
   "cell_type": "code",
   "execution_count": 28,
   "metadata": {},
   "outputs": [
    {
     "data": {
      "text/plain": [
       "'<!DOCTYPE html>\\n<!--[if lt IE 7]>      <html class=\"no-js lt-ie9 lt-ie8 lt-ie7\"> <![endif]-->\\n<!--[if IE 7]>         <html class=\"no-js lt-ie9 lt-ie8\"> <![endif]-->\\n<!--[if IE 8]>         <html class=\"no-js lt-ie9\"> <![endif]-->\\n<!--[if IE 9]>         <html class=\"no-js ie9\"> <![endif]-->\\n<!--[if gt IE 9]><!--> <html class=\"no-js\"> <!--<![endif]-->\\n<head profile=\"http://www.w3.org/1999/xhtml/vocab\">\\n\\t<!-- Google Tag Manager -->\\n\\t<script>\\n\\t\\t(function(w,d,s,l,i){\\n\\t\\t\\tw[l]=w[l]||[];w[l].push({\\'gtm.start\\':new Date().getTime(),event:\\'gtm.js\\'});\\n\\t\\t\\tvar f=d.getElementsByTagName(s)[0],\\tj=d.createElement(s),dl=l!=\\'dataLayer\\'?\\'&l=\\'+l:\\'\\';\\n\\t\\t\\tj.async=true;\\n\\t\\t\\tj.src=\\'https://www.googletagmanager.com/gtm.js?id=\\'+i+dl;f.parentNode.insertBefore(j,f);\\n\\t\\t\\t}\\n\\t\\t)\\n\\t\\t(window,document,\\'script\\',\\'dataLayer\\',\\'GTM-MQF5LJB\\');\\n\\t</script>\\n\\t<!-- End Google Tag Manager -->\\n  <meta name=\"google-site-verification\" content=\"JnG7DTdhQuWTeSHlWC63CeWpb3WValiOorksYjoYOWI\" />\\n  <meta http-equiv=\"Content-Type\" content=\"text/ht'"
      ]
     },
     "execution_count": 28,
     "metadata": {},
     "output_type": "execute_result"
    }
   ],
   "source": [
    "response.text[0:1000]"
   ]
  },
  {
   "cell_type": "markdown",
   "metadata": {},
   "source": [
    "Pour récupérer les headers HTTP de la réponse :"
   ]
  },
  {
   "cell_type": "code",
   "execution_count": 29,
   "metadata": {},
   "outputs": [
    {
     "data": {
      "text/plain": [
       "{'Date': 'Mon, 09 Nov 2020 20:53:27 GMT', 'Server': 'Apache/2.4.25 (Debian)', 'Expires': 'Sun, 19 Nov 1978 05:00:00 GMT', 'Cache-Control': 'no-cache, must-revalidate', 'X-Content-Type-Options': 'nosniff', 'Content-Language': 'fr', 'X-Frame-Options': 'SAMEORIGIN', 'X-Generator': 'Drupal 7 (http://drupal.org)', 'Vary': 'Accept-Encoding', 'Content-Encoding': 'gzip', 'Content-Length': '16072', 'Keep-Alive': 'timeout=5, max=150', 'Connection': 'Keep-Alive', 'Content-Type': 'text/html; charset=utf-8'}"
      ]
     },
     "execution_count": 29,
     "metadata": {},
     "output_type": "execute_result"
    }
   ],
   "source": [
    "response.headers"
   ]
  },
  {
   "cell_type": "markdown",
   "metadata": {},
   "source": [
    "On peut modifier les paramêtres de la requête et/ou ses headers. On peut par exemple ajouter un UserAgent et un timeout de 10 secondes:"
   ]
  },
  {
   "cell_type": "code",
   "execution_count": 30,
   "metadata": {},
   "outputs": [
    {
     "data": {
      "text/plain": [
       "b'<!DOCTYPE html>\\n<!--[if lt IE 7]>      <html class=\"no-js lt-ie9 lt-ie8 lt-ie7\"> <![endif]-->\\n<!--[if IE 7]>         <html class=\"no-js lt-ie9 lt-ie8\"> <![endif]-->\\n<!--[if IE 8]>         <html class=\"no-js lt-ie9\"> <![endif]-->\\n<!--[if IE 9]>         <html class=\"no-js ie9\"> <![endif]-->\\n<!--[if gt IE 9]><!--> <html class=\"no-js\"> <!--<![endif]-->\\n<head profile=\"http://www.w3.org/1999/xhtml/vocab\">\\n\\t<!-- Google Tag Manager -->\\n\\t<script>\\n\\t\\t(function(w,d,s,l,i){\\n\\t\\t\\tw[l]=w[l]||[];w[l].push({\\'gtm.start\\':new Date().getTime(),event:\\'gtm.js\\'});\\n\\t\\t\\tvar f=d.getElementsByTagName(s)[0],\\tj=d.createElement(s),dl=l!=\\'dataLayer\\'?\\'&l=\\'+l:\\'\\';\\n\\t\\t\\tj.async=true;\\n\\t\\t\\tj.src=\\'https://www.googletagmanager.com/gtm.js?id=\\'+i+dl;f.parentNode.insertBefore(j,f);\\n\\t\\t\\t}\\n\\t\\t)\\n\\t\\t(window,document,\\'script\\',\\'dataLayer\\',\\'GTM-MQF5LJB\\');\\n\\t</script>\\n\\t<!-- End Google Tag Manager -->\\n  <meta name=\"google-site-verification\" content=\"JnG7DTdhQuWTeSHlWC63CeWpb3WValiOorksYjoYOWI\" />\\n  <meta http-equiv=\"Content-Type\" content=\"text/ht'"
      ]
     },
     "execution_count": 30,
     "metadata": {},
     "output_type": "execute_result"
    }
   ],
   "source": [
    "headers = {'User-Agent': 'Mozilla/5.0 (Macintosh; Intel Mac OS X 10_10_1) AppleWebKit/537.36 (KHTML, like Gecko) Chrome/39.0.2171.95 Safari/537.36'}\n",
    "response = requests.get(url, headers=headers, timeout = 10)\n",
    "response.content[0:1000]"
   ]
  },
  {
   "cell_type": "markdown",
   "metadata": {},
   "source": [
    "## Exercice"
   ]
  },
  {
   "cell_type": "markdown",
   "metadata": {},
   "source": [
    "## Exercice 1\n",
    "\n",
    "- Créer une classe Python permettant de faire des requêtes HTTP.\n",
    "- Cette classe doit utiliser toujours le même UserAgent.\n",
    "- Le TimeOut sera spécifié à chaque appelle avec une valeur par défaut.\n",
    "- Un mécanisme de retry sera mis en place de façon recursive.\n",
    "\n",
    "## Exercice 2\n",
    "\n",
    "- Faire une fonction permettant de supprimer tous les espaces supperflus d'une string\n",
    "- Faire une fonction qui prend une string html et renvois une string intelligible (enlever les caractères spéciaux,\n",
    "- Récupérer le domaine en fonction d'un url"
   ]
  },
  {
   "cell_type": "code",
   "execution_count": 49,
   "metadata": {},
   "outputs": [],
   "source": [
    "import random \n",
    "class ReHttp():\n",
    "    \n",
    "    def __init__(self,DefaultTimeOut):\n",
    "        self.UserAgentList = [\n",
    "  \"Mozilla/5.0 (Windows NT 6.1; WOW64) AppleWebKit/537.1 (KHTML, like Gecko) Chrome/22.0.1207.1 Safari/537.1\",\n",
    "  \"Mozilla/5.0 (Windows NT 6.1; WOW64) AppleWebKit/537.36 (KHTML like Gecko) Chrome/28.0.1469.0 Safari/537.36\",\n",
    "  \"Mozilla/5.0 (Windows NT 6.2; WOW64) AppleWebKit/537.36 (KHTML like Gecko) Chrome/28.0.1469.0 Safari/537.36\",\n",
    "  \"Mozilla/5.0 (Windows NT 6.2; Win64; x64) AppleWebKit/537.36 (KHTML, like Gecko) Chrome/32.0.1667.0 Safari/537.36\",\n",
    "  \"Mozilla/5.0 (Windows NT 5.1) AppleWebKit/537.36 (KHTML, like Gecko) Chrome/36.0.1985.67 Safari/537.36\",\n",
    "  \"Mozilla/5.0 (Windows NT 6.3; Win64; x64) AppleWebKit/537.36 (KHTML, like Gecko) Chrome/37.0.2049.0 Safari/537.36\",\n",
    "  \"Mozilla/5.0 (Windows NT 6.1) AppleWebKit/537.36 (KHTML, like Gecko) Chrome/41.0.2228.0 Safari/537.36\",\n",
    "  \"Mozilla/5.0 (Windows NT 6.1; Win64; x64; rv:35.0) Gecko/20100101 Firefox/35.0\",\n",
    "  \"Mozilla/5.0 (Windows NT 6.3; rv:36.0) Gecko/20100101 Firefox/36.0\",\n",
    "  \"Mozilla/4.0 (compatible; MSIE 7.0; Windows NT 6.1; Trident/4.0; SLCC2; .NET CLR 2.0.50727; .NET CLR 3.5.30729; .NET CLR 3.0.30729; Media Center PC 6.0; Maxthon 2.0)\",\n",
    "  \"Mozilla/5.0 (Windows NT 6.1; WOW64) AppleWebKit/537.1 (KHTML like Gecko) Maxthon/4.0.0.2000 Chrome/22.0.1229.79 Safari/537.1\",\n",
    "  \"Opera/9.80 (Windows NT 6.1; U; en) Presto/2.7.62 Version/11.01\",\n",
    "  \"Opera/9.80 (Windows NT 6.0) Presto/2.12.388 Version/12.14\",\n",
    "  \"Opera/9.80 (Windows NT 6.1; WOW64) Presto/2.12.388 Version/12.16\",\n",
    "  \"Mozilla/5.0 (Windows NT 6.1; WOW64) AppleWebKit/537.36 (KHTML, like Gecko) Chrome/27.0.1453.12 Safari/537.36 OPR/14.0.1116.4\",\n",
    "  \"Mozilla/5.0 (Windows NT 6.1) AppleWebKit/537.36 (KHTML, like Gecko) Chrome/28.0.1500.29 Safari/537.36 OPR/15.0.1147.24 (Edition Next)\",\n",
    "  \"Mozilla/5.0 (Windows NT 6.3; WOW64) AppleWebKit/537.36 (KHTML, like Gecko) Chrome/31.0.1650.57 Safari/537.36 OPR/18.0.1284.49\",\n",
    "  \"Mozilla/5.0 (Windows NT 6.1; WOW64) AppleWebKit/537.36 (KHTML, like Gecko) Chrome/32.0.1700.76 Safari/537.36 OPR/19.0.1326.56\",\n",
    "  \"Mozilla/5.0 (Windows NT 6.1; WOW64) AppleWebKit/537.36 (KHTML, like Gecko) Chrome/33.0.1750.154 Safari/537.36 OPR/20.0.1387.91\",\n",
    "  \"Mozilla/5.0 (Windows; U; Windows NT 6.1; en-US) AppleWebKit/533.19.4 (KHTML, like Gecko) Version/5.0.2 Safari/533.18.5\",\n",
    "  \"Mozilla/5.0 (Windows; U; Windows NT 6.2; es-US ) AppleWebKit/540.0 (KHTML like Gecko) Version/6.0 Safari/8900.00\",\n",
    "  \"Mozilla/5.0 (Windows NT 6.1) AppleWebKit/537.71 (KHTML like Gecko) WebVideo/1.0.1.10 Version/7.0 Safari/537.71\"\n",
    "]\n",
    "        self.DefaultTimeOut = DefaultTimeOut\n",
    "        \n",
    "    def get(self,Url,TimeOut):\n",
    "        \n",
    "        if TimeOut is None:\n",
    "            TimeOut = self.DefaultTimeOut\n",
    "            \n",
    "        headers = {'User-Agent': self.UserAgentList[random.randint(0,len(self.UserAgentList)-1)]}\n",
    "        response = requests.get(Url, headers=headers, timeout = TimeOut)\n",
    "        \n",
    "        if response.status_code==404:\n",
    "                return(None)\n",
    "        \n",
    "        if response.status_code!=200:\n",
    "            \n",
    "            response = self.get(Url,TimeOut)\n",
    "            \n",
    "        return(response)\n",
    "        \n",
    "    def get_soup(self,Url,TimeOut):\n",
    "        \n",
    "        if TimeOut is None:\n",
    "            TimeOut = self.DefaultTimeOut\n",
    "        \n",
    "        response = self.get(Url,TimeOut)\n",
    "        soup_obj = BeautifulSoup(response.text)\n",
    "        \n",
    "        return(soup_obj)\n",
    "        \n",
    "    def get_info(self,Url,TimeOut):\n",
    "    \n",
    "        if TimeOut is None:\n",
    "            TimeOut = self.DefaultTimeOut\n",
    "        \n",
    "        response = self.get_soup(Url,TimeOut)\n",
    "        \n",
    "        title = response.find_all(class_=\"title\")\n",
    "        text = response.find_all(\"p\")\n",
    "        data = {\n",
    "        \"Title\" : title[0] if title else None ,\n",
    "            \"H1\" : response.find_all(\"h1\"),\n",
    "            \"Images\" : [img['src'] for img in response.find_all('img', src=True) if img['src']],\n",
    "            \"Links\" : [a['href'] for a in response.find_all('a', href=True) if a['href']!='#' ],\n",
    "            \"Text\" : text[0] if text else None\n",
    "            \n",
    "        }\n",
    "        return(data)\n",
    "    \n",
    "    def get_xml(self,Url,TimeOut):\n",
    "        if TimeOut is None:\n",
    "            TimeOut = self.DefaultTimeOut\n",
    "        \n",
    "        response = self.get_soup(Url,TimeOut)\n",
    "        \n",
    "        title = response.find_all(class_=\"teaser_title\")\n",
    "        text = response.find_all(\"p\")\n",
    "        data = {\n",
    "        \"Title\" : title[0] if title else None ,\n",
    "            \"H1\" : response.find_all(\"h1\"),\n",
    "            \"Images\" : [img['src'] for img in response.find_all('img', src=True) if img['src']],\n",
    "            \"Links\" : [a   for a in response.find_all('link')],\n",
    "            \"Text\" : text[0] if text else None\n",
    "            \n",
    "        }\n",
    "        return(data)\n",
    "        \n",
    "        \n",
    "        "
   ]
  },
  {
   "cell_type": "code",
   "execution_count": 32,
   "metadata": {},
   "outputs": [
    {
     "data": {
      "text/plain": [
       "b'<!DOCTYPE html>\\n<!--[if lt IE 7]>      <html class=\"no-js lt-ie9 lt-ie8 lt-ie7\"> <![endif]-->\\n<!--[i'"
      ]
     },
     "execution_count": 32,
     "metadata": {},
     "output_type": "execute_result"
    }
   ],
   "source": [
    "agent = 'Mozilla/5.0 (Macintosh; Intel Mac OS X 10_10_1) AppleWebKit/537.36 (KHTML, like Gecko) Chrome/39.0.2171.95 Safari/537.36'\n",
    "test_rqt = ReHttp(10)\n",
    "url = \"http://www.esiee.fr/\"\n",
    "test_rqt.get(url,None).content[0:100] "
   ]
  },
  {
   "cell_type": "code",
   "execution_count": 33,
   "metadata": {},
   "outputs": [
    {
     "data": {
      "text/plain": [
       "'<!DOCTYPE html> <!--[if lt IE 7]> <html \"> <![endif]--> <!--[i'"
      ]
     },
     "execution_count": 33,
     "metadata": {},
     "output_type": "execute_result"
    }
   ],
   "source": [
    "l = '<!DOCTYPE html>\\n<!--[if lt IE 7]>             <html     \"> <![endif]-->\\n<!--[i'\n",
    "\n",
    "def remove_extra_spaces(MyString):\n",
    "    #Serait mieux avec une Regex\n",
    "    return(' '.join(MyString.split()))\n",
    "remove_extra_spaces(l)"
   ]
  },
  {
   "cell_type": "code",
   "execution_count": 34,
   "metadata": {},
   "outputs": [],
   "source": [
    "import re \n",
    "def rm_notalphanum(MyString):\n",
    "    return( re.sub('[^A-Za-z0-9éèáàô ]','',MyString) )"
   ]
  },
  {
   "cell_type": "code",
   "execution_count": 35,
   "metadata": {},
   "outputs": [
    {
     "data": {
      "text/plain": [
       "'ASApsuy65é'"
      ]
     },
     "execution_count": 35,
     "metadata": {},
     "output_type": "execute_result"
    }
   ],
   "source": [
    "rm_notalphanum(\"ASAp&&$$suy65é}\")"
   ]
  },
  {
   "cell_type": "code",
   "execution_count": 36,
   "metadata": {},
   "outputs": [
    {
     "data": {
      "text/plain": [
       "'docs.python.org'"
      ]
     },
     "execution_count": 36,
     "metadata": {},
     "output_type": "execute_result"
    }
   ],
   "source": [
    "def find_domain(MyString):\n",
    "    return(re.findall('[https|http]:\\/\\/(.[^/]+)',MyString)[0])\n",
    "find_domain('https://docs.python.org/fr/3/' )"
   ]
  },
  {
   "cell_type": "markdown",
   "metadata": {},
   "source": [
    "# Exploitation du HTML  "
   ]
  },
  {
   "cell_type": "markdown",
   "metadata": {},
   "source": [
    "Ici, il faut récupérer le code HTML d'un site web à partir d'une requête. Lorsque vous avez récupéré le texte d'un site il faut le parser. Pour cela, on utilise BeautifulSoup qui permet de transformer la structure HTML en objet Python. Cela permet de récupérer efficacement les données qui nous intéresse.\n",
    "\n",
    "Pour les webmasters, le blocage le plus souvent mis en place et un blocage sur le User-Agent. Le User-Agent est un paramètre intégré dans la requête HTTP réalisé par le Navigateur pour envoyer au front des informations basiques :\n",
    "\n",
    "- la version du Navigateur,\n",
    "- la version de l'OS\n",
    "- Le type de gestionnaire graphique (Gecko)\n",
    "- le type de device utilisé"
   ]
  },
  {
   "cell_type": "markdown",
   "metadata": {},
   "source": [
    "Exemple de User Agent :  \n",
    "\n",
    "`Mozilla/5.0 (Windows NT 6.1; Win64; x64; rv:47.0) Gecko/20100101 Firefox/47.0`"
   ]
  },
  {
   "cell_type": "markdown",
   "metadata": {},
   "source": [
    "Commençons à utiliser `BeautifulSoup`, pour l'installer : "
   ]
  },
  {
   "cell_type": "code",
   "execution_count": 37,
   "metadata": {},
   "outputs": [
    {
     "name": "stdout",
     "output_type": "stream",
     "text": [
      "Requirement already satisfied: bs4 in /root/.local/share/virtualenvs/code-AFz48Hjb/lib/python3.8/site-packages (0.0.1)\n",
      "Requirement already satisfied: beautifulsoup4 in /root/.local/share/virtualenvs/code-AFz48Hjb/lib/python3.8/site-packages (from bs4) (4.9.3)\n",
      "Requirement already satisfied: soupsieve>1.2; python_version >= \"3.0\" in /root/.local/share/virtualenvs/code-AFz48Hjb/lib/python3.8/site-packages (from beautifulsoup4->bs4) (2.0.1)\n",
      "Requirement already satisfied: lxml in /root/.local/share/virtualenvs/code-AFz48Hjb/lib/python3.8/site-packages (4.6.1)\n"
     ]
    }
   ],
   "source": [
    "!pip install bs4\n",
    "!pip install  lxml"
   ]
  },
  {
   "cell_type": "code",
   "execution_count": 38,
   "metadata": {},
   "outputs": [],
   "source": [
    "import requests\n",
    "from bs4 import BeautifulSoup"
   ]
  },
  {
   "cell_type": "markdown",
   "metadata": {},
   "source": [
    "Pour transformer une requête (requests) en objet BeautifulSoup :"
   ]
  },
  {
   "cell_type": "code",
   "execution_count": 39,
   "metadata": {},
   "outputs": [],
   "source": [
    "response = requests.get(url)\n",
    "soup = BeautifulSoup(response.text)"
   ]
  },
  {
   "cell_type": "markdown",
   "metadata": {},
   "source": [
    "Il se peut qu'un message d'erreur arrive à ce point là si vous n'avez pas la librarie `lxml` installée, pour se faire vous avez juste à lancer la commande suivante : "
   ]
  },
  {
   "cell_type": "code",
   "execution_count": 40,
   "metadata": {},
   "outputs": [
    {
     "name": "stdout",
     "output_type": "stream",
     "text": [
      "Requirement already satisfied: lxml in /root/.local/share/virtualenvs/code-AFz48Hjb/lib/python3.8/site-packages (4.6.1)\r\n"
     ]
    }
   ],
   "source": [
    "!pip install lxml"
   ]
  },
  {
   "cell_type": "markdown",
   "metadata": {},
   "source": [
    "Pour trouver tous les liens d'une page on récupère la balise `a` qui permet de gérer les liens en HTML  :"
   ]
  },
  {
   "cell_type": "code",
   "execution_count": 41,
   "metadata": {},
   "outputs": [
    {
     "data": {
      "text/plain": [
       "['https://gmail.com',\n",
       " 'https://planif.esiee.fr/direct/',\n",
       " 'https://planif.esiee.fr/jsp/custom/esiee/easyMyPlanning.jsp',\n",
       " 'https://intra.esiee.fr',\n",
       " 'https://esiee.blackboard.com',\n",
       " 'http://e5.onthehub.com/WebStore/Welcome.aspx?vsro=8&ws=45AD823E-799B-E011-969D-0030487D8897&JSEnabled=1',\n",
       " '/en',\n",
       " 'https://www.facebook.com/esieeparis',\n",
       " 'https://twitter.com/ESIEEPARIS',\n",
       " 'https://www.linkedin.com/edu/school?id=20041&trk=tyah&trkInfo=idx%3A4-1-4%2CtarId%3A1425998561386%2Ctas%3Aesiee+paris',\n",
       " 'http://www.youtube.com/esieeparis',\n",
       " 'https://www.instagram.com/esieeparis/',\n",
       " '#toolbar-footer',\n",
       " '/fr',\n",
       " 'https://www.esiee.fr/fr/formations',\n",
       " 'https://www.esiee.fr/fr/formations',\n",
       " 'https://www.esiee.fr/fr/formations/ingenieur/ingenieur-esiee-paris',\n",
       " 'https://www.esiee.fr/fr/formations/ingenieur/premier-cycle',\n",
       " 'https://www.esiee.fr/fr/formations/ingenieur/cycle-ingenieur',\n",
       " 'https://www.esiee.fr/fr/formations/ingenieur/cycle-ingenieur/enseignements-premiere-annee',\n",
       " 'https://www.esiee.fr/fr/formations/ingenieur/cycle-ingenieur/enseignements-deuxieme-troisieme-annee',\n",
       " 'https://www.esiee.fr/fr/formations/ingenieur/cycle-ingenieur/profils-metiers',\n",
       " 'https://www.esiee.fr/fr/formations/ingenieur/filieres',\n",
       " 'https://www.esiee.fr/fr/formations/ingenieur/filieres/informatique',\n",
       " 'https://www.esiee.fr/fr/formations/ingenieur/filieres/cybersecurite',\n",
       " 'https://www.esiee.fr/fr/formations/ingenieur/filieres/datascience-intelligence-artificielle',\n",
       " 'https://www.esiee.fr/fr/formations/ingenieur/filieres/artificial-intelligence-cybersecurity',\n",
       " 'https://www.esiee.fr/fr/formations/ingenieur/filieres/systemes-embarques',\n",
       " 'https://www.esiee.fr/fr/formations/ingenieur/filieres/systemes-electroniques',\n",
       " 'https://www.esiee.fr/fr/formations/ingenieur/filieres/genie-industriel',\n",
       " 'https://www.esiee.fr/fr/formations/ingenieur/filieres/biotechnologies-esante',\n",
       " 'https://www.esiee.fr/fr/formations/ingenieur/filieres/energie',\n",
       " 'https://www.esiee.fr/fr/formations/ingenieur/emplois-et-salaires',\n",
       " 'https://www.esiee.fr/fr/formations/ingenieur/frais-scolarites/aides-financieres',\n",
       " 'https://www.esiee.fr/fr/formations/ingenieur/stages',\n",
       " 'https://www.esiee.fr/fr/formations/ingenieur/admission/Ingenieur',\n",
       " 'https://www.esiee.fr/fr/contact-ingenieur',\n",
       " 'https://www.esiee.fr/fr/formations/ingenieur-par-apprentissage',\n",
       " 'https://www.esiee.fr/fr/formations/ingenieur-par-apprentissage/reseaux-securite',\n",
       " 'https://www.esiee.fr/fr/formations/ingenieur-par-apprentissage/reseaux-securite/programme-des-enseignements',\n",
       " 'https://www.esiee.fr/fr/formations/ingenieur-par-apprentissage/systemes-embarques',\n",
       " 'https://www.esiee.fr/fr/formations/ingenieur-par-apprentissage/systemes-embarques/programme-des-enseignements',\n",
       " 'https://www.esiee.fr/fr/formations/ingenieur-par-apprentissage/informatique-et-applications',\n",
       " 'https://www.esiee.fr/fr/formations/ingenieur-par-apprentissage/informatique-et-applications/programme-des-enseignements',\n",
       " 'https://www.esiee.fr/fr/formations/ingenieur-par-apprentissage/genie-industriel',\n",
       " 'https://www.esiee.fr/fr/formations/ingenieur-par-apprentissage/genie-industriel/programme-des-enseignements',\n",
       " 'https://www.esiee.fr/fr/formations/ingenieur-par-apprentissage/energies',\n",
       " 'https://www.esiee.fr/fr/formations/ingenieur-par-apprentissage/mode-emploi',\n",
       " 'https://www.esiee.fr/fr/admission/Ingenieur-par-apprentissage',\n",
       " 'https://www.esiee.fr/fr/contact-ingenieur-par-apprentissage',\n",
       " 'https://www.esiee.fr/fr/formations/masters-internationaux',\n",
       " 'https://www.esiee.fr/fr/formations/masters-internationaux/msc-management-information-systems',\n",
       " 'https://www.esiee.fr/fr/formations/masters-internationaux/master-artificial-intelligence-cybersecurity',\n",
       " 'https://www.esiee.fr/fr/formations/masters-internationaux/msc-connected-objects-devices-and-systems',\n",
       " 'https://www.esiee.fr/fr/contact-programmes-internationaux',\n",
       " 'https://www.esiee.fr/fr/formations/masteres-specialises/innovation-technologique-management-projet',\n",
       " 'https://www.esiee.fr/fr/espace-etudiants/vie-etudiante',\n",
       " 'https://www.esiee.fr/fr/espace-etudiants/vie-etudiante/bureau-des-eleves',\n",
       " 'https://www.esiee.fr/fr/espace-etudiants/vie-etudiante/junior-esiee',\n",
       " 'https://www.esiee.fr/fr/espace-etudiants/vie-etudiante/sport',\n",
       " 'https://www.esiee.fr/fr/espace-etudiants/vie-etudiante/clubs-associations',\n",
       " 'https://www.esiee.fr/fr/espace-etudiants/logements',\n",
       " 'https://www.esiee.fr/fr/espace-etudiants/campus-descartes',\n",
       " 'https://www.esiee.fr/fr/espace-etudiants/relais-handicap',\n",
       " 'https://www.esiee.fr/fr/espace-etudiants/equipements/centre-de-langues',\n",
       " 'https://www.esiee.fr/fr/espace-etudiants/equipements/informatique',\n",
       " 'https://www.esiee.fr/fr/espace-etudiants/equipements/ordinateurs-portables',\n",
       " 'https://www.esiee.fr/fr/espace-etudiants/bibliotheque',\n",
       " 'https://www.esiee.fr/fr/espace-etudiants/bibliotheque/ti-innovation-gateway',\n",
       " 'https://www.esiee.fr/fr/espace-etudiants/bibliotheque/livres-revues',\n",
       " 'https://www.esiee.fr/fr/espace-etudiants/ressources-electroniques',\n",
       " 'https://www.esiee.fr/fr/espace-etudiants/ressources-electroniques/sciences-et-techniques',\n",
       " 'https://www.esiee.fr/fr/espace-etudiants/bibliotheque/informations-entreprises',\n",
       " 'https://www.esiee.fr/fr/espace-etudiants/bibliotheque/ressources-electroniques/presse',\n",
       " 'https://www.esiee.fr/fr/videotheque',\n",
       " 'https://www.esiee.fr/fr/espace-etudiants/financer-vos-etudes',\n",
       " 'https://www.esiee.fr/fr/ecole/qui-sommes-nous',\n",
       " 'https://www.esiee.fr/fr/gouvernance',\n",
       " 'https://www.esiee.fr/fr/ecole/conseil-scientifique',\n",
       " 'https://www.esiee.fr/fr/ecole/departements-enseignants/4-departements',\n",
       " 'https://www.esiee.fr/fr/ecole/departements-enseignements/informatique',\n",
       " 'https://www.esiee.fr/fr/ecole/departements-enseignements/ingenierie-systemes',\n",
       " 'https://www.esiee.fr/fr/ecole/departements-enseignements/sante-energie-environnement',\n",
       " 'https://www.esiee.fr/fr/ecole/departements-enseignements/management-technologies-langues',\n",
       " 'https://www.esiee.fr/fr/ecole/corps-enseignant/enseigner-a-esiee-paris',\n",
       " 'https://www.esiee.fr/fr/ecole/les-enseignants-chercheurs',\n",
       " 'https://www.esiee.fr/fr/ecole/corps-enseignant/cv-corps-professoral',\n",
       " 'https://www.esiee.fr/fr/ecole/salles-blanches',\n",
       " 'https://www.esiee.fr/fr/ecole/salles-blanches/equipements-et-procedes',\n",
       " 'https://www.esiee.fr/fr/ecole/salles-blanches/equipements-et-procedes/photolithographie',\n",
       " 'https://www.esiee.fr/fr/ecole/salles-blanches/equipements-et-procedes/traitements-thermiques',\n",
       " 'https://www.esiee.fr/fr/ecole/salles-blanches/equipements-et-procedes/depots-couches-minces',\n",
       " 'https://www.esiee.fr/fr/ecole/salles-blanches/equipements-et-procedes/electrodeposition',\n",
       " 'https://www.esiee.fr/fr/ecole/salles-blanches/equipements-et-procedes/gravures-plasma',\n",
       " 'https://www.esiee.fr/fr/ecole/salles-blanches/equipements-et-procedes/gravure-humide-nettoyage',\n",
       " 'https://www.esiee.fr/fr/ecole/salles-blanches/equipements-et-procedes/scellement-de-substrats',\n",
       " 'https://www.esiee.fr/fr/ecole/salles-blanches/equipements-et-procedes/metrologie',\n",
       " 'https://www.esiee.fr/fr/ecole/salles-blanches/equipements-et-procedes/plateforme-sem-fib',\n",
       " 'https://www.esiee.fr/fr/ecole/salles-blanches/equipements-et-procedes/packaging',\n",
       " 'https://www.esiee.fr/fr/ecole/salles-blanches/equipements-et-procedes/recherche-collaborations',\n",
       " 'https://www.esiee.fr/fr/ecole/salles-blanches/equipe',\n",
       " 'https://www.esiee.fr/fr/ecole/salles-blanches/plateforme-recherche-collaborative-feder',\n",
       " 'https://www.esiee.fr/fr/contact-salles-blanches',\n",
       " 'https://www.esiee.fr/fr/esiee_ldap_directory',\n",
       " 'https://www.esiee.fr/fr/ecole/esiee-connect/consortium',\n",
       " 'https://www.esiee.fr/fr/ecole/esiee-connect',\n",
       " 'https://www.esiee.fr/fr/webserie-yann-lecun-prix-turing',\n",
       " 'https://www.esiee.fr/fr/ecole/visite-virtuelle',\n",
       " 'https://www.esiee.fr/fr/la-recherche',\n",
       " 'https://www.esiee.fr/fr/la-recherche/recherche-esiee-paris',\n",
       " 'https://www.esiee.fr/fr/la-recherche/partenariats-academiques',\n",
       " 'https://www.esiee.fr/fr/la-recherche/partenariats-entreprise',\n",
       " 'https://www.esiee.fr/fr/la-recherche/grands-domaines',\n",
       " 'https://www.esiee.fr/fr/la-recherche/grands-domaines/ville-durable',\n",
       " 'https://www.esiee.fr/fr/la-recherche/grands-domaines/sante',\n",
       " 'https://www.esiee.fr/fr/la-recherche/grands-domaines/tic-et-societe',\n",
       " 'https://www.esiee.fr/fr/la-recherche',\n",
       " 'https://www.esiee.fr/fr/la-recherche/themes-de-recherche/informatique-image-signal',\n",
       " 'https://www.esiee.fr/fr/la-recherche/themes-de-recherche/informatique-image-signal/architecture-parallelisme-realite-virtuelle',\n",
       " 'https://www.esiee.fr/fr/la-recherche/themes-de-recherche/informatique-image-signal/geometrie-algorithmique',\n",
       " 'https://www.esiee.fr/fr/la-recherche/themes-de-recherche/informatique-image-signal/morphologie-mathematique-traitement-image',\n",
       " 'https://www.esiee.fr/fr/la-recherche/themes-de-recherche/informatique-image-signal/optimisation-modelisation-apprentissage',\n",
       " 'https://www.esiee.fr/fr/la-recherche/themes-de-recherche/informatique-image-signal/traitement-signal',\n",
       " 'https://www.esiee.fr/fr/la-recherche/themes-de-recherche/capteurs-sante-energie-environnement',\n",
       " 'https://www.esiee.fr/fr/la-recherche/themes-de-recherche/capteurs-sante-energie-environnement/microsystemes-analyse-environnement-ville-durable',\n",
       " 'https://www.esiee.fr/fr/la-recherche/themes-de-recherche/capteurs-sante-energie-environnement/technologies-sante',\n",
       " 'https://www.esiee.fr/fr/la-recherche/themes-de-recherche/capteurs-sante-energie-environnement/micro-dispositif-materiaux-nanostructurees-recuperation-energie',\n",
       " 'https://www.esiee.fr/fr/la-recherche/themes-de-recherche/capteurs-sante-energie-environnement/systemes-energetiques-ville-durable',\n",
       " 'https://www.esiee.fr/fr/la-recherche/themes-de-recherche/electronique-communication',\n",
       " 'https://www.esiee.fr/fr/la-recherche/themes-de-recherche/electronique-communication/architectures-algorithmes-communications-radios-localisation',\n",
       " 'https://www.esiee.fr/fr/la-recherche/themes-de-recherche/electronique-communication/composants-circuits-systemes-communications-radios-optiques',\n",
       " 'https://www.esiee.fr/fr/la-recherche/themes-de-recherche/electronique-communication/electronique-micro-systemes-instrumentation-systems-mesures',\n",
       " 'https://www.esiee.fr/fr/la-recherche/themes-de-recherche/systemes-embarques-reseaux-manufacturing',\n",
       " 'https://www.esiee.fr/fr/la-recherche/themes-de-recherche/systemes-embarques-reseaux-manufacturing/systemes-temps-reel-optimisation-energie',\n",
       " 'https://www.esiee.fr/fr/la-recherche/themes-de-recherche/systemes-embarques-reseaux-manufacturing/optimisation-multi-couches-reseaux',\n",
       " 'https://www.esiee.fr/fr/la-recherche/themes-de-recherche/systemes-embarques-reseaux-manufacturing/modeles-decisionnels-dynamiques-systemes-manufacturiers',\n",
       " 'https://www.esiee.fr/fr/la-recherche/themes-de-recherche/management-innovation',\n",
       " 'https://www.esiee.fr/fr/la-recherche/themes-de-recherche/management-innovation/innovations-rupture-marches-connaissance',\n",
       " 'https://www.esiee.fr/fr/la-recherche/themes-de-recherche/management-innovation/management-projets-innovants',\n",
       " 'https://www.esiee.fr/fr/la-recherche/themes-de-recherche/management-innovation/entrepreneuriat-financement-innovation',\n",
       " 'https://www.esiee.fr/fr/la-recherche/themes-de-recherche/management-innovation/perpectives-mondialisation-changements-institutionnels',\n",
       " 'https://www.esiee.fr/fr/la-recherche/equipements',\n",
       " 'https://www.esiee.fr/fr/esiee_search/person',\n",
       " 'https://www.esiee.fr/fr/la-recherche/formations-par-la-recherche',\n",
       " 'https://www.esiee.fr/fr/la-recherche/formalites-accueil',\n",
       " 'https://www.esiee.fr/fr/la-recherche/publications-esiee-paris-12-mois',\n",
       " 'https://www.esiee.fr/fr/la-recherche/publications-esiee',\n",
       " 'https://www.esiee.fr/fr/recherche/publications',\n",
       " 'https://www.esiee.fr/fr/contact-recherche',\n",
       " 'https://www.esiee.fr/fr/entreprises',\n",
       " 'https://www.esiee.fr/fr/entreprises',\n",
       " 'https://www.esiee.fr/fr/entreprises/entreprises-partenaires/elaborez-une-chaire-enseignement',\n",
       " 'https://www.esiee.fr/fr/entreprises/entreprises-partenaires/devenez-parrain-de-promotion',\n",
       " 'https://www.esiee.fr/fr/entreprises/deposez-offres-emploi-stage-apprentissage',\n",
       " 'https://www.esiee.fr/fr/contact-entreprises',\n",
       " 'https://www.esiee.fr/fr/entreprises/recrutez-nos-etudiants/accueillez-un-stagiaire',\n",
       " 'https://www.esiee.fr/fr/entreprises/recrutez-nos-etudiants/recrutez-un-apprenti',\n",
       " 'https://www.esiee.fr/fr/entreprises/recrutez-nos-etudiants/evenements-ecole-entreprises',\n",
       " 'https://www.esiee.fr/fr/entreprises/recrutez-nos-etudiants/consultez-enquete-emploi',\n",
       " 'https://www.esiee.fr/fr/entreprises/recrutez-nos-etudiants/contactez-les-alumni',\n",
       " 'https://www.esiee.fr/fr/entreprises/deposez-offres-emploi-stage-apprentissage',\n",
       " 'https://www.esiee.fr/fr/contact-pole-carriere',\n",
       " 'https://www.esiee.fr/fr/entreprises/formez-vos-collaborateurs',\n",
       " 'https://www.esiee.fr/fr/entreprises/developpez-vos-projets-technologiques/utilisez-nos-plateformes-technologiques',\n",
       " 'https://www.esiee.fr/fr/entreprises/developpez-vos-projets-technologiques/recherche-et-developpement',\n",
       " 'https://www.esiee.fr/fr/contact-entreprises',\n",
       " 'https://www.esiee.fr/fr/entreprises/soutenez-nos-projets/versez-votre-taxe-apprentissage',\n",
       " 'https://www.esiee.fr/fr/entreprises/soutenez-nos-projets/devenez-mecene',\n",
       " 'https://www.esiee.fr/fr/entreprises/soutenez-nos-projets/investissements-pedagogiques',\n",
       " 'https://www.esiee.fr/fr/entreprises/soutenez-esiee-paris/soutenez-la-recherche',\n",
       " 'https://www.esiee.fr/fr/contact-entreprises',\n",
       " 'https://www.esiee.fr/fr/location-despaces',\n",
       " 'https://www.esiee.fr/fr/entreprises/deposez-offres-emploi-stage-apprentissage',\n",
       " 'https://www.esiee.fr/fr/contact-entreprises',\n",
       " 'https://www.esiee.fr/fr/international/large-ouverture',\n",
       " 'https://www.esiee.fr/fr/international/partenaires-academiques',\n",
       " 'https://www.esiee.fr/fr/international/etudier-a-letranger',\n",
       " 'https://www.esiee.fr/fr/international/erasmus',\n",
       " 'https://www.esiee.fr/fr/international/accueil-etudiants-en-echanges',\n",
       " 'https://www.esiee.fr/fr/formations/masters-internationaux',\n",
       " 'https://www.esiee.fr/fr/international/les-diplomes',\n",
       " 'https://www.esiee.fr/fr/contact-international',\n",
       " 'https://www.esiee.fr/fr/campus-%C3%A0-l%C3%A9tranger',\n",
       " '/fr/formations/ingenieur/ingenieur-esiee-paris',\n",
       " '/fr/formations/ingenieur/filieres',\n",
       " '/fr/formations/ingenieur/emplois-et-salaires',\n",
       " '/fr/formations/ingenieur/admission/Ingenieur',\n",
       " '/fr/formations/ingenieur-par-apprentissage',\n",
       " '/fr/formations/ingenieur/emplois-et-salaires',\n",
       " '/fr/formations/ingenieur-par-apprentissage/mode-emploi',\n",
       " '/fr/admission/Ingenieur-par-apprentissage',\n",
       " '/fr/formations/masteres-specialises/innovation-technologique-management-projet',\n",
       " '/fr/formations/masters-internationaux',\n",
       " '/en/programmes/international-masters/how-to-apply',\n",
       " 'formations/ingenieur/ingenieur-esiee-paris',\n",
       " 'formations/ingenieur-par-apprentissage',\n",
       " 'formations/masteres-specialises',\n",
       " 'formations/masters-internationaux',\n",
       " 'fr/rss/news',\n",
       " '/fr/esiee_search/news/home',\n",
       " '/fr/actualite/information-coronavirus',\n",
       " '/fr/actualite/concours-ican-2020',\n",
       " '/fr/esiee-paris-sassocie-%C3%A0-lhommage-national-%C3%A0-samuel-paty',\n",
       " '/fr/actualite/challenge-brigitte-friang-2020-dgse-esiee',\n",
       " '/fr/actualite/forum-descartes-2020',\n",
       " '/fr/actualite/classement-shanghai-2020',\n",
       " '/fr/actualite/trophees-des-femmes-industrie-2020',\n",
       " '/fr/actualite/olympiades-internationale-mathematiques-2020',\n",
       " '/fr/actualite/esiee-6e-classement-happyatschool-ingenieur',\n",
       " '/fr/actualite/classement-presse-letudiant-2020',\n",
       " '/fr/actualite/classement-u-multirank-esiee-top-25-2019',\n",
       " '/fr/actualite/parrainage-promotion-esiee-renault',\n",
       " 'https://www.esiee.fr/fr/la-recherche',\n",
       " 'https://www.esiee.fr/fr/entreprises',\n",
       " 'https://www.esiee.fr/fr/ecole/visite-virtuelle',\n",
       " 'https://www.esiee.fr/fr/ecole/visite-virtuelle',\n",
       " 'https://www.esiee.fr/fr/ecole/visite-virtuelle',\n",
       " 'https://www.esiee.fr/fr/ecole/visite-virtuelle',\n",
       " 'https://www.esiee.fr/fr/entreprises/entreprises-partenaires/devenez-parrain-de-promotion',\n",
       " 'https://www.esiee.fr/fr/entreprises/entreprises-partenaires/devenez-parrain-de-promotion',\n",
       " 'https://www.esiee.fr/fr/ecole/visite-virtuelle',\n",
       " 'https://www.esiee.fr/fr/ecole/visite-virtuelle',\n",
       " 'https://www.esiee.fr/fr/ecole/visite-virtuelle',\n",
       " 'https://www.esiee.fr/fr/ecole/visite-virtuelle',\n",
       " 'https://www.esiee.fr/fr/entreprises/entreprises-partenaires/devenez-parrain-de-promotion',\n",
       " 'https://www.esiee.fr/fr/entreprises/entreprises-partenaires/devenez-parrain-de-promotion',\n",
       " 'https://www.esiee.fr/fr/ecole/visite-virtuelle',\n",
       " 'https://www.esiee.fr/fr/ecole/visite-virtuelle',\n",
       " 'https://www.esiee.fr/fr/ecole/visite-virtuelle',\n",
       " 'https://www.esiee.fr/fr/ecole/visite-virtuelle',\n",
       " 'https://www.esiee.fr/fr/entreprises/entreprises-partenaires/devenez-parrain-de-promotion',\n",
       " 'https://www.esiee.fr/fr/entreprises/entreprises-partenaires/devenez-parrain-de-promotion',\n",
       " 'https://www.esiee.fr/fr/formations/ingenieur-par-apprentissage/systemes-embarques',\n",
       " 'https://www.esiee.fr/fr/formations/ingenieur-par-apprentissage/systemes-embarques',\n",
       " 'https://www.esiee.fr/fr/formations/ingenieur-par-apprentissage',\n",
       " 'https://www.esiee.fr/fr/formations/ingenieur-par-apprentissage/systemes-embarques',\n",
       " 'https://www.esiee.fr/fr/formations/ingenieur-par-apprentissage/reseaux-securite',\n",
       " 'https://www.esiee.fr/fr/formations/ingenieur-par-apprentissage/reseaux-securite',\n",
       " 'https://www.esiee.fr/fr/formations/ingenieur-par-apprentissage',\n",
       " 'https://www.esiee.fr/fr/formations/ingenieur-par-apprentissage/reseaux-securite',\n",
       " 'https://www.esiee.fr/fr/formations/ingenieur-par-apprentissage/informatique-et-applications',\n",
       " 'https://www.esiee.fr/fr/formations/ingenieur-par-apprentissage/informatique-et-applications',\n",
       " 'https://www.esiee.fr/fr/formations/ingenieur-par-apprentissage',\n",
       " 'https://www.esiee.fr/fr/formations/ingenieur-par-apprentissage/informatique-et-applications',\n",
       " 'https://www.esiee.fr/fr/formations/ingenieur/filieres/genie-industriel',\n",
       " 'https://www.esiee.fr/fr/formations/ingenieur/filieres/genie-industriel',\n",
       " 'https://www.esiee.fr/fr/formations/ingenieur/ingenieur-esiee-paris',\n",
       " 'https://www.esiee.fr/fr/formations/ingenieur/filieres/genie-industriel',\n",
       " 'https://www.esiee.fr/fr/formations/ingenieur/filieres/biotechnologies-esante',\n",
       " 'https://www.esiee.fr/fr/formations/ingenieur/filieres/biotechnologies-esante',\n",
       " 'https://www.esiee.fr/fr/formations/ingenieur/ingenieur-esiee-paris',\n",
       " 'https://www.esiee.fr/fr/formations/ingenieur/filieres/biotechnologies-esante',\n",
       " 'https://www.esiee.fr/fr/formations/ingenieur/filieres/systemes-electroniques',\n",
       " 'https://www.esiee.fr/fr/formations/ingenieur/filieres/systemes-electroniques',\n",
       " 'https://www.esiee.fr/fr/formations/ingenieur/ingenieur-esiee-paris',\n",
       " 'https://www.esiee.fr/fr/formations/ingenieur/filieres/systemes-electroniques',\n",
       " 'https://www.esiee.fr/fr/formations/ingenieur/filieres/datascience-intelligence-artificielle',\n",
       " 'https://www.esiee.fr/fr/formations/ingenieur/filieres/datascience-intelligence-artificielle',\n",
       " 'https://www.esiee.fr/fr/formations/ingenieur/ingenieur-esiee-paris',\n",
       " 'https://www.esiee.fr/fr/formations/ingenieur/filieres/datascience-intelligence-artificielle',\n",
       " 'https://www.esiee.fr/fr/formations/ingenieur/filieres/energie',\n",
       " 'https://www.esiee.fr/fr/formations/ingenieur/filieres/energie',\n",
       " 'https://www.esiee.fr/fr/formations/ingenieur/ingenieur-esiee-paris',\n",
       " 'https://www.esiee.fr/fr/formations/ingenieur/filieres/energie',\n",
       " 'https://www.esiee.fr/fr/formations/ingenieur/filieres/informatique',\n",
       " 'https://www.esiee.fr/fr/formations/ingenieur/filieres/informatique',\n",
       " 'https://www.esiee.fr/fr/formations/ingenieur/ingenieur-esiee-paris',\n",
       " 'https://www.esiee.fr/fr/formations/ingenieur/filieres/informatique',\n",
       " 'https://www.esiee.fr/fr/formations/ingenieur/filieres/artificial-intelligence-cybersecurity',\n",
       " 'https://www.esiee.fr/fr/formations/ingenieur/filieres/artificial-intelligence-cybersecurity',\n",
       " 'https://www.esiee.fr/fr/formations/ingenieur/ingenieur-esiee-paris',\n",
       " 'https://www.esiee.fr/fr/formations/ingenieur/filieres/artificial-intelligence-cybersecurity',\n",
       " 'https://www.esiee.fr/fr/formations/ingenieur/filieres/cybersecurite-systemes-information',\n",
       " 'https://www.esiee.fr/fr/formations/ingenieur/filieres/cybersecurite-systemes-information',\n",
       " 'https://www.esiee.fr/fr/formations/ingenieur/ingenieur-esiee-paris',\n",
       " 'https://www.esiee.fr/fr/formations/ingenieur/filieres/cybersecurite-systemes-information',\n",
       " 'https://www.esiee.fr/fr/formations/ingenieur/filieres/systemes-embarques',\n",
       " 'https://www.esiee.fr/fr/formations/ingenieur/filieres/systemes-embarques',\n",
       " 'https://www.esiee.fr/fr/formations/ingenieur/ingenieur-esiee-paris',\n",
       " 'https://www.esiee.fr/fr/formations/ingenieur/filieres/systemes-embarques',\n",
       " '/fr/acces',\n",
       " '/fr/presse',\n",
       " '/fr/nous-rencontrer',\n",
       " '/fr/jour-des-projets',\n",
       " '/fr/brochures',\n",
       " '/fr/videotheque',\n",
       " '/fr/location-despaces',\n",
       " 'http://www.esiee.fr/fr/ecole/corps-enseignant/enseigner-a-esiee-paris',\n",
       " '/fr/reseaux-sociaux',\n",
       " '/fr/ecole/visite-virtuelle',\n",
       " 'https://www.esiee.fr/fr/entreprises/recrutez-nos-etudiants/contactez-les-alumni',\n",
       " '/fr/mentions-legales',\n",
       " 'http://www.cci-paris-idf.fr/marches-publics-dematerialises-cci-paris-ile-de-france',\n",
       " '/fr/plan-du-site',\n",
       " '/fr/contact',\n",
       " 'https://www.univ-gustave-eiffel.fr',\n",
       " 'http://www.cci-paris-idf.fr',\n",
       " 'https://www.facebook.com/esieeparis',\n",
       " 'https://twitter.com/ESIEEPARIS',\n",
       " 'https://www.linkedin.com/edu/school?id=20041&trk=tyah&trkInfo=idx%3A4-1-4%2CtarId%3A1425998561386%2Ctas%3Aesiee+paris',\n",
       " 'http://www.youtube.com/esieeparis',\n",
       " 'https://www.instagram.com/esieeparis/']"
      ]
     },
     "execution_count": 41,
     "metadata": {},
     "output_type": "execute_result"
    }
   ],
   "source": [
    "[a['href'] for a in soup.find_all('a', href=True) if a['href']!='#' ]"
   ]
  },
  {
   "cell_type": "markdown",
   "metadata": {},
   "source": [
    "On peut préciser la classe HTML voulue  pour l'ensemble des `a`:\n",
    "\n",
    "```python\n",
    "soup.find_all(class_=\"<CLASS_NAME>\")[0:10]\n",
    "```\n",
    "\n",
    "Ici par exemple: "
   ]
  },
  {
   "cell_type": "code",
   "execution_count": 42,
   "metadata": {},
   "outputs": [
    {
     "data": {
      "text/plain": [
       "[<div class=\"slide slide-content\">\n",
       " <span class=\"slide-content-date inline-block\"><span class=\"date-display-single\">30.10.2020</span></span>\n",
       " <span class=\"slide-content-theme inline-block is-uppercase\">Actualités</span>\n",
       " <div class=\"clearfix\"></div>\n",
       " <div class=\"slide-content-img pull-left\"><!-- scald=2641:news_thumbnail --><img alt=\"Informations Coronavirus\" height=\"90\" src=\"https://www.esiee.fr/sites/default/files/styles/news/public/thumbnails/image/informations-coronavirus.jpg?itok=YDDYw-dy\" title=\"Informations Coronavirus\" width=\"120\"/><!-- END scald=2641 --></div>\n",
       " <span class=\"slide-content-title\"><a class=\"is-uppercase\" href=\"/fr/actualite/information-coronavirus\">Dernières informations Covid-19</a></span>\n",
       " <div class=\"clearfix\"></div>\n",
       " <p class=\"slide-content-desc\">Cette page a pour objectif de vous informer en temps réel des mesures prises par l’école dans le cadre de la situation exceptionnelle dûe à l'épidémie du Coronavirus.</p> </div>,\n",
       " <div class=\"slide slide-content\">\n",
       " <span class=\"slide-content-date inline-block\"><span class=\"date-display-single\">03.11.2020</span></span>\n",
       " <span class=\"slide-content-theme inline-block is-uppercase\">Concours</span>\n",
       " <div class=\"clearfix\"></div>\n",
       " <div class=\"slide-content-img pull-left\"><!-- scald=2697:news_thumbnail --><img alt=\"iCAN 2020\" height=\"90\" src=\"https://www.esiee.fr/sites/default/files/styles/news/public/thumbnails/image/visuel-ican-2020-web.png?itok=OSNMiqc4\" title=\"iCAN 2020\" width=\"120\"/><!-- END scald=2697 --></div>\n",
       " <span class=\"slide-content-title\"><a class=\"is-uppercase\" href=\"/fr/actualite/concours-ican-2020\">Des étudiants ESIEE Paris remportent le 1er prix du concours international iCAN</a></span>\n",
       " <div class=\"clearfix\"></div>\n",
       " <p class=\"slide-content-desc\">Bravo à Kathyna, Yasmine, Davina, et Gabin qui remportent le premier prix du Concours international “iCan 2020”.</p> </div>,\n",
       " <div class=\"slide slide-content\">\n",
       " <span class=\"slide-content-date inline-block\"><span class=\"date-display-single\">19.10.2020</span></span>\n",
       " <span class=\"slide-content-theme inline-block is-uppercase\">Actualités</span>\n",
       " <div class=\"clearfix\"></div>\n",
       " <div class=\"slide-content-img pull-left\"><!-- scald=2680:news_thumbnail --><img alt=\"Hommage à Samuel Paty\" height=\"90\" src=\"https://www.esiee.fr/sites/default/files/styles/news/public/thumbnails/image/samuel_paty.jpg?itok=coQjCfWX\" title=\"Hommage à Samuel Paty\" width=\"120\"/><!-- END scald=2680 --></div>\n",
       " <span class=\"slide-content-title\"><a class=\"is-uppercase\" href=\"/fr/esiee-paris-sassocie-%C3%A0-lhommage-national-%C3%A0-samuel-paty\">ESIEE Paris s'associe à l'hommage national à Samuel Paty</a></span>\n",
       " <div class=\"clearfix\"></div>\n",
       " <p class=\"slide-content-desc\">ESIEE Paris s'associe à l'hommage national à Samuel Paty</p> </div>]"
      ]
     },
     "execution_count": 42,
     "metadata": {},
     "output_type": "execute_result"
    }
   ],
   "source": [
    "soup.find_all(class_=\"slide\")[0:3]"
   ]
  },
  {
   "cell_type": "markdown",
   "metadata": {},
   "source": [
    "Pour récupérer le text sans les balises HTML :"
   ]
  },
  {
   "cell_type": "code",
   "execution_count": 43,
   "metadata": {},
   "outputs": [
    {
     "data": {
      "text/plain": [
       "' \\n\\n\\n\\n\\n\\n\\n\\n\\n\\nESIEE Paris, l’école de l’innovation technologique | Grande école d’ingénieurs | ESIEE Paris\\n\\n\\n\\n\\n\\n\\n\\n\\n\\n\\n\\n\\n\\n\\n\\n \\n\\n\\n\\n\\n\\n\\n\\n\\n\\n\\n\\nLes outils ESIEE Paris Webmail ESIEE Paris Emploi du temps général Emploi du temps individuel Extranet iCampus Microsoft DreamSpark \\n\\n\\n\\n\\n\\n\\n\\n\\n\\n\\n\\n\\n\\n\\n\\n\\n\\n\\n\\n\\n\\n\\n\\n\\n\\n\\n\\n\\n\\n\\n\\n\\n\\n\\n\\n\\n\\n\\n\\n\\n\\n\\n\\n\\n\\n\\n menu\\nFormations\\n\\n\\nRETOUR menu\\nFormations ESIEE ParisIngénieur\\n\\n\\nIngénieur\\nRETOUR Formations\\nIngénieur ESIEE ParisPremier cycleLe cycle ingénieur\\n\\n\\nLe cycle ingénieur\\nRETOUR Ingénieur\\nLe cycle ingénieur ESIEE ParisEnseignements de 1ère annéeEnseignements de 2e et 3e annéeProfils métiersFilières\\n\\n\\nFilières\\nRETOUR Ingénieur\\n9 filières, 1 diplômeInformatiqueCybersécuritéDatascience et intelligence artificielleArtificial Intelligence and CybersecuritySystèmes embarquésSystèmes électroniques intelligentsGénie industrielBiotechnologies et e-santéEnergieEmplois et salairesFrais de scolarité ingénieur et aides financièresStagesAdmissionsContactIngénieur par apprentissage\\n\\n\\nIngénieur par a'"
      ]
     },
     "execution_count": 43,
     "metadata": {},
     "output_type": "execute_result"
    }
   ],
   "source": [
    "soup.text[0:1000]"
   ]
  },
  {
   "cell_type": "code",
   "execution_count": 44,
   "metadata": {},
   "outputs": [
    {
     "data": {
      "text/plain": [
       "' ESIEE Paris lécole de linnovation technologique  Grande école dingénieurs  ESIEE Paris Les outils ESIEE Paris Webmail ESIEE Paris Emploi du temps général Emploi du temps individuel Extranet iCampus Microsoft DreamSpark  menuFormationsRETOUR menuFormations ESIEE ParisIngénieurIngénieurRETOUR FormationsIngénieur ESIEE ParisPremier cycleLe cycle ingénieurLe cycle ingénieurRETOUR IngénieurLe cycle ingénieur ESIEE ParisEnseignements de 1ère annéeEnseignements de 2e et 3e annéeProfils métiersFilièresFilièresRETOUR Ingénieur9 filières 1 diplômeInformatiqueCybersécuritéDatascience et intelligence artificielleArtificial Intelligence and CybersecuritySystèmes embarquésSystèmes électroniques intelligentsGénie industrielBiotechnologies et esantéEnergieEmplois et salairesFrais de scolarité ingénieur et aides financièresStagesAdmissionsContactIngénieur par apprentissageIngénieur par a'"
      ]
     },
     "execution_count": 44,
     "metadata": {},
     "output_type": "execute_result"
    }
   ],
   "source": [
    "rm_notalphanum(soup.text[0:1000])"
   ]
  },
  {
   "cell_type": "markdown",
   "metadata": {},
   "source": [
    "## Exercice\n",
    "### Exercice 3\n",
    "\n",
    "Améliorer la classe développé précédemment.\n",
    "\n",
    "- Ajouter une méthode pour récupérer l'objet soup d'un url\n",
    "- Récupérer une liste de User Agent et effectuer une rotation aléatoire sur celui à utiliser\n",
    "- Utiliser cette classe pour parser une page HTML et récupérer : le titre, tous les H1 (si ils existent), les liens vers les images, les liens sortants vers d'autres sites, et le texte principal.\n",
    "\n",
    "Parsing d'un sitemaps pour récupérer une listes de liens avec les informations disponibles. -> Stocker dans un dictionnaire et dans un fichier JSON local."
   ]
  },
  {
   "cell_type": "code",
   "execution_count": 45,
   "metadata": {},
   "outputs": [
    {
     "data": {
      "text/plain": [
       "{'Title': <p class=\"title\">Les outils ESIEE Paris</p>,\n",
       " 'H1': [],\n",
       " 'Images': ['https://www.esiee.fr/sites/default/files/menu_icons/menu_icon_950.png',\n",
       "  'https://www.esiee.fr/sites/default/files/menu_icons/menu_icon_1331.png',\n",
       "  'https://www.esiee.fr/sites/default/files/menu_icons/menu_icon_1332.png',\n",
       "  'https://www.esiee.fr/sites/default/files/menu_icons/menu_icon_951.png',\n",
       "  'https://www.esiee.fr/sites/default/files/menu_icons/menu_icon_1311.png',\n",
       "  'https://www.esiee.fr/sites/default/files/menu_icons/menu_icon_1696.png',\n",
       "  '/sites/all/themes/custom/esiee_theme/assets/images/flag-en.png',\n",
       "  '/sites/all/themes/custom/esiee_theme/assets/images/icon-socialnetworks.png',\n",
       "  'https://www.esiee.fr/sites/all/themes/custom/esiee_theme/logo.png',\n",
       "  'https://www.esiee.fr/sites/default/files/home-bandeau-1_0.png',\n",
       "  'https://www.esiee.fr/sites/default/files/home-bandeau-4.png',\n",
       "  'https://www.esiee.fr/sites/default/files/home-bandeau-3.png',\n",
       "  'https://www.esiee.fr/sites/default/files/illustration-ingenieurs-app.-home.png',\n",
       "  'https://www.esiee.fr/sites/default/files/home-bandeau-1_0.png',\n",
       "  'https://www.esiee.fr/sites/default/files/home-bandeau-4.png',\n",
       "  'https://www.esiee.fr/sites/default/files/home-bandeau-3.png',\n",
       "  'https://www.esiee.fr/sites/default/files/illustration-ingenieurs-app.-home.png',\n",
       "  'https://www.esiee.fr/sites/default/files/styles/news/public/thumbnails/image/informations-coronavirus.jpg?itok=YDDYw-dy',\n",
       "  'https://www.esiee.fr/sites/default/files/styles/news/public/thumbnails/image/visuel-ican-2020-web.png?itok=OSNMiqc4',\n",
       "  'https://www.esiee.fr/sites/default/files/styles/news/public/thumbnails/image/samuel_paty.jpg?itok=coQjCfWX',\n",
       "  'https://www.esiee.fr/sites/default/files/styles/news/public/thumbnails/image/bandeaulinkedin_2020.jpg?itok=EZIG7QEk',\n",
       "  'https://www.esiee.fr/sites/default/files/styles/news/public/thumbnails/image/epamarne-aerien-classment-shanghai-2020.jpg?itok=AU_OUSKD',\n",
       "  'https://www.esiee.fr/sites/default/files/styles/news/public/thumbnails/image/remise-trophees-femmes-industrie-2020.png.jpg?itok=rnBo1EXD',\n",
       "  'https://www.esiee.fr/sites/default/files/styles/news/public/thumbnails/image/image00008-3_0.jpg?itok=Yh2kv37r',\n",
       "  'https://www.esiee.fr/sites/default/files/styles/news/public/thumbnails/image/visuel-happyatschool-web.png?itok=meQcT1Wi',\n",
       "  'https://www.esiee.fr/sites/default/files/styles/news/public/thumbnails/image/generique-salons_0.png?itok=pHl-Oegr',\n",
       "  'https://www.esiee.fr/sites/default/files/styles/news/public/thumbnails/image/illustration-classement-u-multirank-2019_0.png?itok=AAPQqNJc',\n",
       "  'https://www.esiee.fr/sites/default/files/styles/news/public/thumbnails/image/parrainage-renault.jpg?itok=d9o-s_mR',\n",
       "  'https://www.esiee.fr/sites/default/files/illustration-home-recherche.png',\n",
       "  'https://www.esiee.fr/sites/default/files/illustration-home-entreprises_0.png',\n",
       "  'https://www.esiee.fr/sites/default/files/styles/promotion_desktop/public/thumbnails/image/w1_banniere_visite-virtuelle.jpg?itok=Mb95IJ6I',\n",
       "  'https://www.esiee.fr/sites/default/files/styles/promotion_desktop/public/thumbnails/image/w2_banniere_visite-virtuelle.jpg?itok=hgFpg91_',\n",
       "  'https://www.esiee.fr/sites/default/files/styles/promotion_desktop/public/thumbnails/image/w3_banniere_visite-virtuelle.jpg?itok=Vo3XNZwo',\n",
       "  'https://www.esiee.fr/sites/default/files/styles/promotion_desktop/public/thumbnails/image/w4_banniere_visite-virtuelle.jpg?itok=dISoCKE-',\n",
       "  'https://www.esiee.fr/sites/default/files/styles/promotion_desktop/public/thumbnails/image/w1-renault.jpg?itok=3X0lIx0o',\n",
       "  'https://www.esiee.fr/sites/default/files/styles/promotion_desktop/public/thumbnails/image/w2-renault.jpg?itok=2RMn1940',\n",
       "  'https://www.esiee.fr/sites/default/files/styles/promotion_tablet/public/thumbnails/image/t1_banniere_visite-virtuelle.jpg?itok=Ey6BcwiC',\n",
       "  'https://www.esiee.fr/sites/default/files/styles/promotion_tablet/public/thumbnails/image/t2_banniere_visite-virtuelle.jpg?itok=mW8bCV1D',\n",
       "  'https://www.esiee.fr/sites/default/files/styles/promotion_tablet/public/thumbnails/image/t3_banniere_visite-virtuelle.jpg?itok=HzzkZrg2',\n",
       "  'https://www.esiee.fr/sites/default/files/styles/promotion_tablet/public/thumbnails/image/t4_banniere_visite-virtuelle.jpg?itok=-cu5O_iB',\n",
       "  'https://www.esiee.fr/sites/default/files/styles/promotion_tablet/public/thumbnails/image/t1-renault.jpg?itok=OjXffxSU',\n",
       "  'https://www.esiee.fr/sites/default/files/styles/promotion_tablet/public/thumbnails/image/t2-renault.jpg?itok=61rIpnvX',\n",
       "  'https://www.esiee.fr/sites/default/files/styles/promotion_mobile/public/thumbnails/image/m1_banniere_visite-virtuelle.jpg?itok=x1o7WU_l',\n",
       "  'https://www.esiee.fr/sites/default/files/styles/promotion_mobile/public/thumbnails/image/m2_banniere_visite-virtuelle.jpg?itok=hKyhcg_f',\n",
       "  'https://www.esiee.fr/sites/default/files/styles/promotion_mobile/public/thumbnails/image/m3_banniere_visite-virtuelle.jpg?itok=DwiT_2v6',\n",
       "  'https://www.esiee.fr/sites/default/files/styles/promotion_mobile/public/thumbnails/image/m4_banniere_visite-virtuelle.jpg?itok=0Rgz5A1I',\n",
       "  'https://www.esiee.fr/sites/default/files/styles/promotion_mobile/public/thumbnails/image/m1-renault.jpg?itok=2rE48Fbk',\n",
       "  'https://www.esiee.fr/sites/default/files/styles/promotion_mobile/public/thumbnails/image/m2-renault.jpg?itok=FbOwfxOR',\n",
       "  'https://www.esiee.fr/sites/default/files/styles/skill/public/thumbnails/image/systemes-electroniques.jpg?itok=MNp66bp8',\n",
       "  'https://www.esiee.fr/sites/default/files/styles/skill/public/illustration-data-reseaux.jpg?itok=6gaT9afn',\n",
       "  'https://www.esiee.fr/sites/default/files/styles/skill/public/thumbnails/image/illustration-filiere-artificial-intelligence-cybersecurite.jpg?itok=iDjgUoDI',\n",
       "  'https://www.esiee.fr/sites/default/files/styles/skill/public/thumbnails/image/illustration-genie-industriel.jpg?itok=itTCYQO5',\n",
       "  'https://www.esiee.fr/sites/default/files/styles/skill/public/thumbnails/image/illustration-systemes-embarques.jpg?itok=w9JmR8fg',\n",
       "  'https://www.esiee.fr/sites/default/files/styles/skill/public/thumbnails/image/illustration-filiere-reseaux-securite-apprentissage.jpg?itok=LvMebxMG',\n",
       "  'https://www.esiee.fr/sites/default/files/styles/skill/public/ill-fil-energies.jpg?itok=rl0sINUe',\n",
       "  'https://www.esiee.fr/sites/default/files/styles/skill/public/thumbnails/image/illustration-filiere-systemes-embarques-apprentissage.jpg?itok=Hzu3OFAM',\n",
       "  'https://www.esiee.fr/sites/default/files/styles/skill/public/ill-fil-bio-11118cuwimages_cciparisidf.jpg?itok=pGETF_w_',\n",
       "  'https://www.esiee.fr/sites/default/files/styles/skill/public/informatique.jpg?itok=evVe4QL_',\n",
       "  'https://www.esiee.fr/sites/default/files/styles/skill/public/thumbnails/image/illustration-cybersecurite_0.jpg?itok=vGyYPpHy',\n",
       "  'https://www.esiee.fr/sites/default/files/styles/skill/public/thumbnails/image/informatique.jpg?itok=GAlo4ZxJ',\n",
       "  '/sites/default/files/logo_membre_fondateur_univ_gustave_eiffel.png',\n",
       "  'https://www.esiee.fr/sites/default/files/logo-cci-paris.png'],\n",
       " 'Links': ['https://gmail.com',\n",
       "  'https://planif.esiee.fr/direct/',\n",
       "  'https://planif.esiee.fr/jsp/custom/esiee/easyMyPlanning.jsp',\n",
       "  'https://intra.esiee.fr',\n",
       "  'https://esiee.blackboard.com',\n",
       "  'http://e5.onthehub.com/WebStore/Welcome.aspx?vsro=8&ws=45AD823E-799B-E011-969D-0030487D8897&JSEnabled=1',\n",
       "  '/en',\n",
       "  'https://www.facebook.com/esieeparis',\n",
       "  'https://twitter.com/ESIEEPARIS',\n",
       "  'https://www.linkedin.com/edu/school?id=20041&trk=tyah&trkInfo=idx%3A4-1-4%2CtarId%3A1425998561386%2Ctas%3Aesiee+paris',\n",
       "  'http://www.youtube.com/esieeparis',\n",
       "  'https://www.instagram.com/esieeparis/',\n",
       "  '#toolbar-footer',\n",
       "  '/fr',\n",
       "  'https://www.esiee.fr/fr/formations',\n",
       "  'https://www.esiee.fr/fr/formations',\n",
       "  'https://www.esiee.fr/fr/formations/ingenieur/ingenieur-esiee-paris',\n",
       "  'https://www.esiee.fr/fr/formations/ingenieur/premier-cycle',\n",
       "  'https://www.esiee.fr/fr/formations/ingenieur/cycle-ingenieur',\n",
       "  'https://www.esiee.fr/fr/formations/ingenieur/cycle-ingenieur/enseignements-premiere-annee',\n",
       "  'https://www.esiee.fr/fr/formations/ingenieur/cycle-ingenieur/enseignements-deuxieme-troisieme-annee',\n",
       "  'https://www.esiee.fr/fr/formations/ingenieur/cycle-ingenieur/profils-metiers',\n",
       "  'https://www.esiee.fr/fr/formations/ingenieur/filieres',\n",
       "  'https://www.esiee.fr/fr/formations/ingenieur/filieres/informatique',\n",
       "  'https://www.esiee.fr/fr/formations/ingenieur/filieres/cybersecurite',\n",
       "  'https://www.esiee.fr/fr/formations/ingenieur/filieres/datascience-intelligence-artificielle',\n",
       "  'https://www.esiee.fr/fr/formations/ingenieur/filieres/artificial-intelligence-cybersecurity',\n",
       "  'https://www.esiee.fr/fr/formations/ingenieur/filieres/systemes-embarques',\n",
       "  'https://www.esiee.fr/fr/formations/ingenieur/filieres/systemes-electroniques',\n",
       "  'https://www.esiee.fr/fr/formations/ingenieur/filieres/genie-industriel',\n",
       "  'https://www.esiee.fr/fr/formations/ingenieur/filieres/biotechnologies-esante',\n",
       "  'https://www.esiee.fr/fr/formations/ingenieur/filieres/energie',\n",
       "  'https://www.esiee.fr/fr/formations/ingenieur/emplois-et-salaires',\n",
       "  'https://www.esiee.fr/fr/formations/ingenieur/frais-scolarites/aides-financieres',\n",
       "  'https://www.esiee.fr/fr/formations/ingenieur/stages',\n",
       "  'https://www.esiee.fr/fr/formations/ingenieur/admission/Ingenieur',\n",
       "  'https://www.esiee.fr/fr/contact-ingenieur',\n",
       "  'https://www.esiee.fr/fr/formations/ingenieur-par-apprentissage',\n",
       "  'https://www.esiee.fr/fr/formations/ingenieur-par-apprentissage/reseaux-securite',\n",
       "  'https://www.esiee.fr/fr/formations/ingenieur-par-apprentissage/reseaux-securite/programme-des-enseignements',\n",
       "  'https://www.esiee.fr/fr/formations/ingenieur-par-apprentissage/systemes-embarques',\n",
       "  'https://www.esiee.fr/fr/formations/ingenieur-par-apprentissage/systemes-embarques/programme-des-enseignements',\n",
       "  'https://www.esiee.fr/fr/formations/ingenieur-par-apprentissage/informatique-et-applications',\n",
       "  'https://www.esiee.fr/fr/formations/ingenieur-par-apprentissage/informatique-et-applications/programme-des-enseignements',\n",
       "  'https://www.esiee.fr/fr/formations/ingenieur-par-apprentissage/genie-industriel',\n",
       "  'https://www.esiee.fr/fr/formations/ingenieur-par-apprentissage/genie-industriel/programme-des-enseignements',\n",
       "  'https://www.esiee.fr/fr/formations/ingenieur-par-apprentissage/energies',\n",
       "  'https://www.esiee.fr/fr/formations/ingenieur-par-apprentissage/mode-emploi',\n",
       "  'https://www.esiee.fr/fr/admission/Ingenieur-par-apprentissage',\n",
       "  'https://www.esiee.fr/fr/contact-ingenieur-par-apprentissage',\n",
       "  'https://www.esiee.fr/fr/formations/masters-internationaux',\n",
       "  'https://www.esiee.fr/fr/formations/masters-internationaux/msc-management-information-systems',\n",
       "  'https://www.esiee.fr/fr/formations/masters-internationaux/master-artificial-intelligence-cybersecurity',\n",
       "  'https://www.esiee.fr/fr/formations/masters-internationaux/msc-connected-objects-devices-and-systems',\n",
       "  'https://www.esiee.fr/fr/contact-programmes-internationaux',\n",
       "  'https://www.esiee.fr/fr/formations/masteres-specialises/innovation-technologique-management-projet',\n",
       "  'https://www.esiee.fr/fr/espace-etudiants/vie-etudiante',\n",
       "  'https://www.esiee.fr/fr/espace-etudiants/vie-etudiante/bureau-des-eleves',\n",
       "  'https://www.esiee.fr/fr/espace-etudiants/vie-etudiante/junior-esiee',\n",
       "  'https://www.esiee.fr/fr/espace-etudiants/vie-etudiante/sport',\n",
       "  'https://www.esiee.fr/fr/espace-etudiants/vie-etudiante/clubs-associations',\n",
       "  'https://www.esiee.fr/fr/espace-etudiants/logements',\n",
       "  'https://www.esiee.fr/fr/espace-etudiants/campus-descartes',\n",
       "  'https://www.esiee.fr/fr/espace-etudiants/relais-handicap',\n",
       "  'https://www.esiee.fr/fr/espace-etudiants/equipements/centre-de-langues',\n",
       "  'https://www.esiee.fr/fr/espace-etudiants/equipements/informatique',\n",
       "  'https://www.esiee.fr/fr/espace-etudiants/equipements/ordinateurs-portables',\n",
       "  'https://www.esiee.fr/fr/espace-etudiants/bibliotheque',\n",
       "  'https://www.esiee.fr/fr/espace-etudiants/bibliotheque/ti-innovation-gateway',\n",
       "  'https://www.esiee.fr/fr/espace-etudiants/bibliotheque/livres-revues',\n",
       "  'https://www.esiee.fr/fr/espace-etudiants/ressources-electroniques',\n",
       "  'https://www.esiee.fr/fr/espace-etudiants/ressources-electroniques/sciences-et-techniques',\n",
       "  'https://www.esiee.fr/fr/espace-etudiants/bibliotheque/informations-entreprises',\n",
       "  'https://www.esiee.fr/fr/espace-etudiants/bibliotheque/ressources-electroniques/presse',\n",
       "  'https://www.esiee.fr/fr/videotheque',\n",
       "  'https://www.esiee.fr/fr/espace-etudiants/financer-vos-etudes',\n",
       "  'https://www.esiee.fr/fr/ecole/qui-sommes-nous',\n",
       "  'https://www.esiee.fr/fr/gouvernance',\n",
       "  'https://www.esiee.fr/fr/ecole/conseil-scientifique',\n",
       "  'https://www.esiee.fr/fr/ecole/departements-enseignants/4-departements',\n",
       "  'https://www.esiee.fr/fr/ecole/departements-enseignements/informatique',\n",
       "  'https://www.esiee.fr/fr/ecole/departements-enseignements/ingenierie-systemes',\n",
       "  'https://www.esiee.fr/fr/ecole/departements-enseignements/sante-energie-environnement',\n",
       "  'https://www.esiee.fr/fr/ecole/departements-enseignements/management-technologies-langues',\n",
       "  'https://www.esiee.fr/fr/ecole/corps-enseignant/enseigner-a-esiee-paris',\n",
       "  'https://www.esiee.fr/fr/ecole/les-enseignants-chercheurs',\n",
       "  'https://www.esiee.fr/fr/ecole/corps-enseignant/cv-corps-professoral',\n",
       "  'https://www.esiee.fr/fr/ecole/salles-blanches',\n",
       "  'https://www.esiee.fr/fr/ecole/salles-blanches/equipements-et-procedes',\n",
       "  'https://www.esiee.fr/fr/ecole/salles-blanches/equipements-et-procedes/photolithographie',\n",
       "  'https://www.esiee.fr/fr/ecole/salles-blanches/equipements-et-procedes/traitements-thermiques',\n",
       "  'https://www.esiee.fr/fr/ecole/salles-blanches/equipements-et-procedes/depots-couches-minces',\n",
       "  'https://www.esiee.fr/fr/ecole/salles-blanches/equipements-et-procedes/electrodeposition',\n",
       "  'https://www.esiee.fr/fr/ecole/salles-blanches/equipements-et-procedes/gravures-plasma',\n",
       "  'https://www.esiee.fr/fr/ecole/salles-blanches/equipements-et-procedes/gravure-humide-nettoyage',\n",
       "  'https://www.esiee.fr/fr/ecole/salles-blanches/equipements-et-procedes/scellement-de-substrats',\n",
       "  'https://www.esiee.fr/fr/ecole/salles-blanches/equipements-et-procedes/metrologie',\n",
       "  'https://www.esiee.fr/fr/ecole/salles-blanches/equipements-et-procedes/plateforme-sem-fib',\n",
       "  'https://www.esiee.fr/fr/ecole/salles-blanches/equipements-et-procedes/packaging',\n",
       "  'https://www.esiee.fr/fr/ecole/salles-blanches/equipements-et-procedes/recherche-collaborations',\n",
       "  'https://www.esiee.fr/fr/ecole/salles-blanches/equipe',\n",
       "  'https://www.esiee.fr/fr/ecole/salles-blanches/plateforme-recherche-collaborative-feder',\n",
       "  'https://www.esiee.fr/fr/contact-salles-blanches',\n",
       "  'https://www.esiee.fr/fr/esiee_ldap_directory',\n",
       "  'https://www.esiee.fr/fr/ecole/esiee-connect/consortium',\n",
       "  'https://www.esiee.fr/fr/ecole/esiee-connect',\n",
       "  'https://www.esiee.fr/fr/webserie-yann-lecun-prix-turing',\n",
       "  'https://www.esiee.fr/fr/ecole/visite-virtuelle',\n",
       "  'https://www.esiee.fr/fr/la-recherche',\n",
       "  'https://www.esiee.fr/fr/la-recherche/recherche-esiee-paris',\n",
       "  'https://www.esiee.fr/fr/la-recherche/partenariats-academiques',\n",
       "  'https://www.esiee.fr/fr/la-recherche/partenariats-entreprise',\n",
       "  'https://www.esiee.fr/fr/la-recherche/grands-domaines',\n",
       "  'https://www.esiee.fr/fr/la-recherche/grands-domaines/ville-durable',\n",
       "  'https://www.esiee.fr/fr/la-recherche/grands-domaines/sante',\n",
       "  'https://www.esiee.fr/fr/la-recherche/grands-domaines/tic-et-societe',\n",
       "  'https://www.esiee.fr/fr/la-recherche',\n",
       "  'https://www.esiee.fr/fr/la-recherche/themes-de-recherche/informatique-image-signal',\n",
       "  'https://www.esiee.fr/fr/la-recherche/themes-de-recherche/informatique-image-signal/architecture-parallelisme-realite-virtuelle',\n",
       "  'https://www.esiee.fr/fr/la-recherche/themes-de-recherche/informatique-image-signal/geometrie-algorithmique',\n",
       "  'https://www.esiee.fr/fr/la-recherche/themes-de-recherche/informatique-image-signal/morphologie-mathematique-traitement-image',\n",
       "  'https://www.esiee.fr/fr/la-recherche/themes-de-recherche/informatique-image-signal/optimisation-modelisation-apprentissage',\n",
       "  'https://www.esiee.fr/fr/la-recherche/themes-de-recherche/informatique-image-signal/traitement-signal',\n",
       "  'https://www.esiee.fr/fr/la-recherche/themes-de-recherche/capteurs-sante-energie-environnement',\n",
       "  'https://www.esiee.fr/fr/la-recherche/themes-de-recherche/capteurs-sante-energie-environnement/microsystemes-analyse-environnement-ville-durable',\n",
       "  'https://www.esiee.fr/fr/la-recherche/themes-de-recherche/capteurs-sante-energie-environnement/technologies-sante',\n",
       "  'https://www.esiee.fr/fr/la-recherche/themes-de-recherche/capteurs-sante-energie-environnement/micro-dispositif-materiaux-nanostructurees-recuperation-energie',\n",
       "  'https://www.esiee.fr/fr/la-recherche/themes-de-recherche/capteurs-sante-energie-environnement/systemes-energetiques-ville-durable',\n",
       "  'https://www.esiee.fr/fr/la-recherche/themes-de-recherche/electronique-communication',\n",
       "  'https://www.esiee.fr/fr/la-recherche/themes-de-recherche/electronique-communication/architectures-algorithmes-communications-radios-localisation',\n",
       "  'https://www.esiee.fr/fr/la-recherche/themes-de-recherche/electronique-communication/composants-circuits-systemes-communications-radios-optiques',\n",
       "  'https://www.esiee.fr/fr/la-recherche/themes-de-recherche/electronique-communication/electronique-micro-systemes-instrumentation-systems-mesures',\n",
       "  'https://www.esiee.fr/fr/la-recherche/themes-de-recherche/systemes-embarques-reseaux-manufacturing',\n",
       "  'https://www.esiee.fr/fr/la-recherche/themes-de-recherche/systemes-embarques-reseaux-manufacturing/systemes-temps-reel-optimisation-energie',\n",
       "  'https://www.esiee.fr/fr/la-recherche/themes-de-recherche/systemes-embarques-reseaux-manufacturing/optimisation-multi-couches-reseaux',\n",
       "  'https://www.esiee.fr/fr/la-recherche/themes-de-recherche/systemes-embarques-reseaux-manufacturing/modeles-decisionnels-dynamiques-systemes-manufacturiers',\n",
       "  'https://www.esiee.fr/fr/la-recherche/themes-de-recherche/management-innovation',\n",
       "  'https://www.esiee.fr/fr/la-recherche/themes-de-recherche/management-innovation/innovations-rupture-marches-connaissance',\n",
       "  'https://www.esiee.fr/fr/la-recherche/themes-de-recherche/management-innovation/management-projets-innovants',\n",
       "  'https://www.esiee.fr/fr/la-recherche/themes-de-recherche/management-innovation/entrepreneuriat-financement-innovation',\n",
       "  'https://www.esiee.fr/fr/la-recherche/themes-de-recherche/management-innovation/perpectives-mondialisation-changements-institutionnels',\n",
       "  'https://www.esiee.fr/fr/la-recherche/equipements',\n",
       "  'https://www.esiee.fr/fr/esiee_search/person',\n",
       "  'https://www.esiee.fr/fr/la-recherche/formations-par-la-recherche',\n",
       "  'https://www.esiee.fr/fr/la-recherche/formalites-accueil',\n",
       "  'https://www.esiee.fr/fr/la-recherche/publications-esiee-paris-12-mois',\n",
       "  'https://www.esiee.fr/fr/la-recherche/publications-esiee',\n",
       "  'https://www.esiee.fr/fr/recherche/publications',\n",
       "  'https://www.esiee.fr/fr/contact-recherche',\n",
       "  'https://www.esiee.fr/fr/entreprises',\n",
       "  'https://www.esiee.fr/fr/entreprises',\n",
       "  'https://www.esiee.fr/fr/entreprises/entreprises-partenaires/elaborez-une-chaire-enseignement',\n",
       "  'https://www.esiee.fr/fr/entreprises/entreprises-partenaires/devenez-parrain-de-promotion',\n",
       "  'https://www.esiee.fr/fr/entreprises/deposez-offres-emploi-stage-apprentissage',\n",
       "  'https://www.esiee.fr/fr/contact-entreprises',\n",
       "  'https://www.esiee.fr/fr/entreprises/recrutez-nos-etudiants/accueillez-un-stagiaire',\n",
       "  'https://www.esiee.fr/fr/entreprises/recrutez-nos-etudiants/recrutez-un-apprenti',\n",
       "  'https://www.esiee.fr/fr/entreprises/recrutez-nos-etudiants/evenements-ecole-entreprises',\n",
       "  'https://www.esiee.fr/fr/entreprises/recrutez-nos-etudiants/consultez-enquete-emploi',\n",
       "  'https://www.esiee.fr/fr/entreprises/recrutez-nos-etudiants/contactez-les-alumni',\n",
       "  'https://www.esiee.fr/fr/entreprises/deposez-offres-emploi-stage-apprentissage',\n",
       "  'https://www.esiee.fr/fr/contact-pole-carriere',\n",
       "  'https://www.esiee.fr/fr/entreprises/formez-vos-collaborateurs',\n",
       "  'https://www.esiee.fr/fr/entreprises/developpez-vos-projets-technologiques/utilisez-nos-plateformes-technologiques',\n",
       "  'https://www.esiee.fr/fr/entreprises/developpez-vos-projets-technologiques/recherche-et-developpement',\n",
       "  'https://www.esiee.fr/fr/contact-entreprises',\n",
       "  'https://www.esiee.fr/fr/entreprises/soutenez-nos-projets/versez-votre-taxe-apprentissage',\n",
       "  'https://www.esiee.fr/fr/entreprises/soutenez-nos-projets/devenez-mecene',\n",
       "  'https://www.esiee.fr/fr/entreprises/soutenez-nos-projets/investissements-pedagogiques',\n",
       "  'https://www.esiee.fr/fr/entreprises/soutenez-esiee-paris/soutenez-la-recherche',\n",
       "  'https://www.esiee.fr/fr/contact-entreprises',\n",
       "  'https://www.esiee.fr/fr/location-despaces',\n",
       "  'https://www.esiee.fr/fr/entreprises/deposez-offres-emploi-stage-apprentissage',\n",
       "  'https://www.esiee.fr/fr/contact-entreprises',\n",
       "  'https://www.esiee.fr/fr/international/large-ouverture',\n",
       "  'https://www.esiee.fr/fr/international/partenaires-academiques',\n",
       "  'https://www.esiee.fr/fr/international/etudier-a-letranger',\n",
       "  'https://www.esiee.fr/fr/international/erasmus',\n",
       "  'https://www.esiee.fr/fr/international/accueil-etudiants-en-echanges',\n",
       "  'https://www.esiee.fr/fr/formations/masters-internationaux',\n",
       "  'https://www.esiee.fr/fr/international/les-diplomes',\n",
       "  'https://www.esiee.fr/fr/contact-international',\n",
       "  'https://www.esiee.fr/fr/campus-%C3%A0-l%C3%A9tranger',\n",
       "  '/fr/formations/ingenieur/ingenieur-esiee-paris',\n",
       "  '/fr/formations/ingenieur/filieres',\n",
       "  '/fr/formations/ingenieur/emplois-et-salaires',\n",
       "  '/fr/formations/ingenieur/admission/Ingenieur',\n",
       "  '/fr/formations/ingenieur-par-apprentissage',\n",
       "  '/fr/formations/ingenieur/emplois-et-salaires',\n",
       "  '/fr/formations/ingenieur-par-apprentissage/mode-emploi',\n",
       "  '/fr/admission/Ingenieur-par-apprentissage',\n",
       "  '/fr/formations/masteres-specialises/innovation-technologique-management-projet',\n",
       "  '/fr/formations/masters-internationaux',\n",
       "  '/en/programmes/international-masters/how-to-apply',\n",
       "  'formations/ingenieur/ingenieur-esiee-paris',\n",
       "  'formations/ingenieur-par-apprentissage',\n",
       "  'formations/masteres-specialises',\n",
       "  'formations/masters-internationaux',\n",
       "  'fr/rss/news',\n",
       "  '/fr/esiee_search/news/home',\n",
       "  '/fr/actualite/information-coronavirus',\n",
       "  '/fr/actualite/concours-ican-2020',\n",
       "  '/fr/esiee-paris-sassocie-%C3%A0-lhommage-national-%C3%A0-samuel-paty',\n",
       "  '/fr/actualite/challenge-brigitte-friang-2020-dgse-esiee',\n",
       "  '/fr/actualite/forum-descartes-2020',\n",
       "  '/fr/actualite/classement-shanghai-2020',\n",
       "  '/fr/actualite/trophees-des-femmes-industrie-2020',\n",
       "  '/fr/actualite/olympiades-internationale-mathematiques-2020',\n",
       "  '/fr/actualite/esiee-6e-classement-happyatschool-ingenieur',\n",
       "  '/fr/actualite/classement-presse-letudiant-2020',\n",
       "  '/fr/actualite/classement-u-multirank-esiee-top-25-2019',\n",
       "  '/fr/actualite/parrainage-promotion-esiee-renault',\n",
       "  'https://www.esiee.fr/fr/la-recherche',\n",
       "  'https://www.esiee.fr/fr/entreprises',\n",
       "  'https://www.esiee.fr/fr/ecole/visite-virtuelle',\n",
       "  'https://www.esiee.fr/fr/ecole/visite-virtuelle',\n",
       "  'https://www.esiee.fr/fr/ecole/visite-virtuelle',\n",
       "  'https://www.esiee.fr/fr/ecole/visite-virtuelle',\n",
       "  'https://www.esiee.fr/fr/entreprises/entreprises-partenaires/devenez-parrain-de-promotion',\n",
       "  'https://www.esiee.fr/fr/entreprises/entreprises-partenaires/devenez-parrain-de-promotion',\n",
       "  'https://www.esiee.fr/fr/ecole/visite-virtuelle',\n",
       "  'https://www.esiee.fr/fr/ecole/visite-virtuelle',\n",
       "  'https://www.esiee.fr/fr/ecole/visite-virtuelle',\n",
       "  'https://www.esiee.fr/fr/ecole/visite-virtuelle',\n",
       "  'https://www.esiee.fr/fr/entreprises/entreprises-partenaires/devenez-parrain-de-promotion',\n",
       "  'https://www.esiee.fr/fr/entreprises/entreprises-partenaires/devenez-parrain-de-promotion',\n",
       "  'https://www.esiee.fr/fr/ecole/visite-virtuelle',\n",
       "  'https://www.esiee.fr/fr/ecole/visite-virtuelle',\n",
       "  'https://www.esiee.fr/fr/ecole/visite-virtuelle',\n",
       "  'https://www.esiee.fr/fr/ecole/visite-virtuelle',\n",
       "  'https://www.esiee.fr/fr/entreprises/entreprises-partenaires/devenez-parrain-de-promotion',\n",
       "  'https://www.esiee.fr/fr/entreprises/entreprises-partenaires/devenez-parrain-de-promotion',\n",
       "  'https://www.esiee.fr/fr/formations/ingenieur/filieres/systemes-electroniques',\n",
       "  'https://www.esiee.fr/fr/formations/ingenieur/filieres/systemes-electroniques',\n",
       "  'https://www.esiee.fr/fr/formations/ingenieur/ingenieur-esiee-paris',\n",
       "  'https://www.esiee.fr/fr/formations/ingenieur/filieres/systemes-electroniques',\n",
       "  'https://www.esiee.fr/fr/formations/ingenieur/filieres/datascience-intelligence-artificielle',\n",
       "  'https://www.esiee.fr/fr/formations/ingenieur/filieres/datascience-intelligence-artificielle',\n",
       "  'https://www.esiee.fr/fr/formations/ingenieur/ingenieur-esiee-paris',\n",
       "  'https://www.esiee.fr/fr/formations/ingenieur/filieres/datascience-intelligence-artificielle',\n",
       "  'https://www.esiee.fr/fr/formations/ingenieur/filieres/artificial-intelligence-cybersecurity',\n",
       "  'https://www.esiee.fr/fr/formations/ingenieur/filieres/artificial-intelligence-cybersecurity',\n",
       "  'https://www.esiee.fr/fr/formations/ingenieur/ingenieur-esiee-paris',\n",
       "  'https://www.esiee.fr/fr/formations/ingenieur/filieres/artificial-intelligence-cybersecurity',\n",
       "  'https://www.esiee.fr/fr/formations/ingenieur/filieres/genie-industriel',\n",
       "  'https://www.esiee.fr/fr/formations/ingenieur/filieres/genie-industriel',\n",
       "  'https://www.esiee.fr/fr/formations/ingenieur/ingenieur-esiee-paris',\n",
       "  'https://www.esiee.fr/fr/formations/ingenieur/filieres/genie-industriel',\n",
       "  'https://www.esiee.fr/fr/formations/ingenieur/filieres/systemes-embarques',\n",
       "  'https://www.esiee.fr/fr/formations/ingenieur/filieres/systemes-embarques',\n",
       "  'https://www.esiee.fr/fr/formations/ingenieur/ingenieur-esiee-paris',\n",
       "  'https://www.esiee.fr/fr/formations/ingenieur/filieres/systemes-embarques',\n",
       "  'https://www.esiee.fr/fr/formations/ingenieur-par-apprentissage/reseaux-securite',\n",
       "  'https://www.esiee.fr/fr/formations/ingenieur-par-apprentissage/reseaux-securite',\n",
       "  'https://www.esiee.fr/fr/formations/ingenieur-par-apprentissage',\n",
       "  'https://www.esiee.fr/fr/formations/ingenieur-par-apprentissage/reseaux-securite',\n",
       "  'https://www.esiee.fr/fr/formations/ingenieur/filieres/energie',\n",
       "  'https://www.esiee.fr/fr/formations/ingenieur/filieres/energie',\n",
       "  'https://www.esiee.fr/fr/formations/ingenieur/ingenieur-esiee-paris',\n",
       "  'https://www.esiee.fr/fr/formations/ingenieur/filieres/energie',\n",
       "  'https://www.esiee.fr/fr/formations/ingenieur-par-apprentissage/systemes-embarques',\n",
       "  'https://www.esiee.fr/fr/formations/ingenieur-par-apprentissage/systemes-embarques',\n",
       "  'https://www.esiee.fr/fr/formations/ingenieur-par-apprentissage',\n",
       "  'https://www.esiee.fr/fr/formations/ingenieur-par-apprentissage/systemes-embarques',\n",
       "  'https://www.esiee.fr/fr/formations/ingenieur/filieres/biotechnologies-esante',\n",
       "  'https://www.esiee.fr/fr/formations/ingenieur/filieres/biotechnologies-esante',\n",
       "  'https://www.esiee.fr/fr/formations/ingenieur/ingenieur-esiee-paris',\n",
       "  'https://www.esiee.fr/fr/formations/ingenieur/filieres/biotechnologies-esante',\n",
       "  'https://www.esiee.fr/fr/formations/ingenieur-par-apprentissage/informatique-et-applications',\n",
       "  'https://www.esiee.fr/fr/formations/ingenieur-par-apprentissage/informatique-et-applications',\n",
       "  'https://www.esiee.fr/fr/formations/ingenieur-par-apprentissage',\n",
       "  'https://www.esiee.fr/fr/formations/ingenieur-par-apprentissage/informatique-et-applications',\n",
       "  'https://www.esiee.fr/fr/formations/ingenieur/filieres/cybersecurite-systemes-information',\n",
       "  'https://www.esiee.fr/fr/formations/ingenieur/filieres/cybersecurite-systemes-information',\n",
       "  'https://www.esiee.fr/fr/formations/ingenieur/ingenieur-esiee-paris',\n",
       "  'https://www.esiee.fr/fr/formations/ingenieur/filieres/cybersecurite-systemes-information',\n",
       "  'https://www.esiee.fr/fr/formations/ingenieur/filieres/informatique',\n",
       "  'https://www.esiee.fr/fr/formations/ingenieur/filieres/informatique',\n",
       "  'https://www.esiee.fr/fr/formations/ingenieur/ingenieur-esiee-paris',\n",
       "  'https://www.esiee.fr/fr/formations/ingenieur/filieres/informatique',\n",
       "  '/fr/acces',\n",
       "  '/fr/presse',\n",
       "  '/fr/nous-rencontrer',\n",
       "  '/fr/jour-des-projets',\n",
       "  '/fr/brochures',\n",
       "  '/fr/videotheque',\n",
       "  '/fr/location-despaces',\n",
       "  'http://www.esiee.fr/fr/ecole/corps-enseignant/enseigner-a-esiee-paris',\n",
       "  '/fr/reseaux-sociaux',\n",
       "  '/fr/ecole/visite-virtuelle',\n",
       "  'https://www.esiee.fr/fr/entreprises/recrutez-nos-etudiants/contactez-les-alumni',\n",
       "  '/fr/mentions-legales',\n",
       "  'http://www.cci-paris-idf.fr/marches-publics-dematerialises-cci-paris-ile-de-france',\n",
       "  '/fr/plan-du-site',\n",
       "  '/fr/contact',\n",
       "  'https://www.univ-gustave-eiffel.fr',\n",
       "  'http://www.cci-paris-idf.fr',\n",
       "  'https://www.facebook.com/esieeparis',\n",
       "  'https://twitter.com/ESIEEPARIS',\n",
       "  'https://www.linkedin.com/edu/school?id=20041&trk=tyah&trkInfo=idx%3A4-1-4%2CtarId%3A1425998561386%2Ctas%3Aesiee+paris',\n",
       "  'http://www.youtube.com/esieeparis',\n",
       "  'https://www.instagram.com/esieeparis/'],\n",
       " 'Text': <p class=\"title\">Les outils ESIEE Paris</p>}"
      ]
     },
     "execution_count": 45,
     "metadata": {},
     "output_type": "execute_result"
    }
   ],
   "source": [
    "test_rqt.get_info(url,None)"
   ]
  },
  {
   "cell_type": "markdown",
   "metadata": {},
   "source": [
    "# Exploitation des appels d'API\n"
   ]
  },
  {
   "cell_type": "markdown",
   "metadata": {},
   "source": [
    "\n",
    "Losque le front du site récupère des données sur une API géré par le back, un appel d'API est réalisé. Cet appel est recensé dans les appels réseaux. Il est alors possible de re-jouer cet appel pour récupérer à nouveau les données. Il est très facile de récupérer ces appels dans l'onglet Network de la console développeur de Chrome ou FireFox. La console vous permet de copier le code CURL pour effectuée et vous pouvez ensuite la transformer en code Python depuis le site https://curl.trillworks.com/.\n",
    "\n",
    "Souvent les APIs sont bloquées avec certain paramètres. L'API verifie que dans les headers de la requêtes HTTP ces paramètres sont présents : * un token généré à la volée avec des protocole OAuth2 (ou moins développés). * un referer provenant du site web (la source de la requête), très facile à falsifier.\n",
    "\n"
   ]
  },
  {
   "cell_type": "markdown",
   "metadata": {},
   "source": [
    "## Exercice \n",
    "### Exercice 4\n",
    "\n",
    "- Utiliser les informations développées plus haut pour récupérer les premiers résultats d'une recherche d'une requête\n",
    "sur Qwant. \n",
    "\n",
    "Tips : \n",
    "\n",
    "- Aller sur https://www.qwant.com/\n",
    "- Ouvrir les outils de développements de Chrome ou Firefox\n",
    "- Onglet Network\n",
    "- Fouiller dans les requêtes"
   ]
  },
  {
   "cell_type": "markdown",
   "metadata": {},
   "source": [
    "# Exercice Final  "
   ]
  },
  {
   "cell_type": "markdown",
   "metadata": {},
   "source": [
    "Exercice Final\n",
    "Utilisez tout ce que vous avez appris pour récupérer des articles de News avec une catégorie. Il est souvent intéressant de partir des flux RSS pour commencer :\n",
    "\n",
    "Les données doivent comprendre :\n",
    "- Le texte important propre\n",
    "- L'url\n",
    "- Le domaine\n",
    "- la catégorie\n",
    "- Le titre de l'article\n",
    "- Le titre de la page\n",
    "- (Facultatif) : les images\n",
    "\n",
    "Tips : \n",
    "\n",
    "- Taper le nom de votre média favoris + RSS (par exemple : https://www.lemonde.fr/rss/)\n",
    "- Aller dans le DOM de la page \n",
    "- Trouver les catégories et les liens vers les articles"
   ]
  },
  {
   "cell_type": "code",
   "execution_count": 50,
   "metadata": {},
   "outputs": [
    {
     "name": "stdout",
     "output_type": "stream",
     "text": [
      "https://www.lemonde.fr/rss/une.xml\n",
      "None\n",
      "https://www.lemonde.fr/rss/en_continu.xml\n",
      "None\n",
      "https://www.lemonde.fr/videos/\n",
      "None\n",
      "https://www.lemonde.fr/photo/\n",
      "None\n",
      "https://www.lemonde.fr/rss/plus-lus.xml\n",
      "None\n",
      "https://www.lemonde.fr/rss/plus-partages.xml\n",
      "None\n",
      "https://www.lemonde.fr/international/\n",
      "None\n",
      "https://www.lemonde.fr/europe/\n",
      "None\n",
      "https://www.lemonde.fr/ameriques/\n",
      "None\n",
      "https://www.lemonde.fr/afrique/\n",
      "None\n",
      "https://www.lemonde.fr/asie-pacifique/\n",
      "None\n",
      "https://www.lemonde.fr/proche-orient/\n",
      "None\n",
      "https://www.lemonde.fr/royaume-uni/\n",
      "None\n",
      "https://www.lemonde.fr/etats-unis/\n",
      "None\n",
      "https://www.lemonde.fr/politique/\n",
      "None\n",
      "https://www.lemonde.fr/societe/\n"
     ]
    },
    {
     "ename": "KeyboardInterrupt",
     "evalue": "",
     "output_type": "error",
     "traceback": [
      "\u001b[0;31m---------------------------------------------------------------------------\u001b[0m",
      "\u001b[0;31mKeyboardInterrupt\u001b[0m                         Traceback (most recent call last)",
      "\u001b[0;32m<ipython-input-50-264788e6dfdd>\u001b[0m in \u001b[0;36m<module>\u001b[0;34m\u001b[0m\n\u001b[1;32m      7\u001b[0m         \u001b[0murl\u001b[0m \u001b[0;34m=\u001b[0m \u001b[0mcat\u001b[0m\u001b[0;34m.\u001b[0m\u001b[0mreplace\u001b[0m\u001b[0;34m(\u001b[0m\u001b[0;34m'rss_full.xml'\u001b[0m\u001b[0;34m,\u001b[0m\u001b[0;34m''\u001b[0m\u001b[0;34m)\u001b[0m\u001b[0;34m\u001b[0m\u001b[0;34m\u001b[0m\u001b[0m\n\u001b[1;32m      8\u001b[0m         \u001b[0mprint\u001b[0m\u001b[0;34m(\u001b[0m\u001b[0murl\u001b[0m\u001b[0;34m)\u001b[0m\u001b[0;34m\u001b[0m\u001b[0;34m\u001b[0m\u001b[0m\n\u001b[0;32m----> 9\u001b[0;31m         \u001b[0mprint\u001b[0m\u001b[0;34m(\u001b[0m\u001b[0mrq\u001b[0m\u001b[0;34m.\u001b[0m\u001b[0mget_info\u001b[0m\u001b[0;34m(\u001b[0m\u001b[0murl\u001b[0m\u001b[0;34m,\u001b[0m\u001b[0;36m100\u001b[0m\u001b[0;34m)\u001b[0m\u001b[0;34m[\u001b[0m\u001b[0;34m'Title'\u001b[0m\u001b[0;34m]\u001b[0m\u001b[0;34m)\u001b[0m\u001b[0;34m\u001b[0m\u001b[0;34m\u001b[0m\u001b[0m\n\u001b[0m",
      "\u001b[0;32m<ipython-input-49-5e2ba09b0ade>\u001b[0m in \u001b[0;36mget_info\u001b[0;34m(self, Url, TimeOut)\u001b[0m\n\u001b[1;32m     61\u001b[0m             \u001b[0mTimeOut\u001b[0m \u001b[0;34m=\u001b[0m \u001b[0mself\u001b[0m\u001b[0;34m.\u001b[0m\u001b[0mDefaultTimeOut\u001b[0m\u001b[0;34m\u001b[0m\u001b[0;34m\u001b[0m\u001b[0m\n\u001b[1;32m     62\u001b[0m \u001b[0;34m\u001b[0m\u001b[0m\n\u001b[0;32m---> 63\u001b[0;31m         \u001b[0mresponse\u001b[0m \u001b[0;34m=\u001b[0m \u001b[0mself\u001b[0m\u001b[0;34m.\u001b[0m\u001b[0mget_soup\u001b[0m\u001b[0;34m(\u001b[0m\u001b[0mUrl\u001b[0m\u001b[0;34m,\u001b[0m\u001b[0mTimeOut\u001b[0m\u001b[0;34m)\u001b[0m\u001b[0;34m\u001b[0m\u001b[0;34m\u001b[0m\u001b[0m\n\u001b[0m\u001b[1;32m     64\u001b[0m \u001b[0;34m\u001b[0m\u001b[0m\n\u001b[1;32m     65\u001b[0m         \u001b[0mtitle\u001b[0m \u001b[0;34m=\u001b[0m \u001b[0mresponse\u001b[0m\u001b[0;34m.\u001b[0m\u001b[0mfind_all\u001b[0m\u001b[0;34m(\u001b[0m\u001b[0mclass_\u001b[0m\u001b[0;34m=\u001b[0m\u001b[0;34m\"title\"\u001b[0m\u001b[0;34m)\u001b[0m\u001b[0;34m\u001b[0m\u001b[0;34m\u001b[0m\u001b[0m\n",
      "\u001b[0;32m<ipython-input-49-5e2ba09b0ade>\u001b[0m in \u001b[0;36mget_soup\u001b[0;34m(self, Url, TimeOut)\u001b[0m\n\u001b[1;32m     51\u001b[0m             \u001b[0mTimeOut\u001b[0m \u001b[0;34m=\u001b[0m \u001b[0mself\u001b[0m\u001b[0;34m.\u001b[0m\u001b[0mDefaultTimeOut\u001b[0m\u001b[0;34m\u001b[0m\u001b[0;34m\u001b[0m\u001b[0m\n\u001b[1;32m     52\u001b[0m \u001b[0;34m\u001b[0m\u001b[0m\n\u001b[0;32m---> 53\u001b[0;31m         \u001b[0mresponse\u001b[0m \u001b[0;34m=\u001b[0m \u001b[0mself\u001b[0m\u001b[0;34m.\u001b[0m\u001b[0mget\u001b[0m\u001b[0;34m(\u001b[0m\u001b[0mUrl\u001b[0m\u001b[0;34m,\u001b[0m\u001b[0mTimeOut\u001b[0m\u001b[0;34m)\u001b[0m\u001b[0;34m\u001b[0m\u001b[0;34m\u001b[0m\u001b[0m\n\u001b[0m\u001b[1;32m     54\u001b[0m         \u001b[0msoup_obj\u001b[0m \u001b[0;34m=\u001b[0m \u001b[0mBeautifulSoup\u001b[0m\u001b[0;34m(\u001b[0m\u001b[0mresponse\u001b[0m\u001b[0;34m.\u001b[0m\u001b[0mtext\u001b[0m\u001b[0;34m)\u001b[0m\u001b[0;34m\u001b[0m\u001b[0;34m\u001b[0m\u001b[0m\n\u001b[1;32m     55\u001b[0m \u001b[0;34m\u001b[0m\u001b[0m\n",
      "\u001b[0;32m<ipython-input-49-5e2ba09b0ade>\u001b[0m in \u001b[0;36mget\u001b[0;34m(self, Url, TimeOut)\u001b[0m\n\u001b[1;32m     35\u001b[0m \u001b[0;34m\u001b[0m\u001b[0m\n\u001b[1;32m     36\u001b[0m         \u001b[0mheaders\u001b[0m \u001b[0;34m=\u001b[0m \u001b[0;34m{\u001b[0m\u001b[0;34m'User-Agent'\u001b[0m\u001b[0;34m:\u001b[0m \u001b[0mself\u001b[0m\u001b[0;34m.\u001b[0m\u001b[0mUserAgentList\u001b[0m\u001b[0;34m[\u001b[0m\u001b[0mrandom\u001b[0m\u001b[0;34m.\u001b[0m\u001b[0mrandint\u001b[0m\u001b[0;34m(\u001b[0m\u001b[0;36m0\u001b[0m\u001b[0;34m,\u001b[0m\u001b[0mlen\u001b[0m\u001b[0;34m(\u001b[0m\u001b[0mself\u001b[0m\u001b[0;34m.\u001b[0m\u001b[0mUserAgentList\u001b[0m\u001b[0;34m)\u001b[0m\u001b[0;34m-\u001b[0m\u001b[0;36m1\u001b[0m\u001b[0;34m)\u001b[0m\u001b[0;34m]\u001b[0m\u001b[0;34m}\u001b[0m\u001b[0;34m\u001b[0m\u001b[0;34m\u001b[0m\u001b[0m\n\u001b[0;32m---> 37\u001b[0;31m         \u001b[0mresponse\u001b[0m \u001b[0;34m=\u001b[0m \u001b[0mrequests\u001b[0m\u001b[0;34m.\u001b[0m\u001b[0mget\u001b[0m\u001b[0;34m(\u001b[0m\u001b[0mUrl\u001b[0m\u001b[0;34m,\u001b[0m \u001b[0mheaders\u001b[0m\u001b[0;34m=\u001b[0m\u001b[0mheaders\u001b[0m\u001b[0;34m,\u001b[0m \u001b[0mtimeout\u001b[0m \u001b[0;34m=\u001b[0m \u001b[0mTimeOut\u001b[0m\u001b[0;34m)\u001b[0m\u001b[0;34m\u001b[0m\u001b[0;34m\u001b[0m\u001b[0m\n\u001b[0m\u001b[1;32m     38\u001b[0m \u001b[0;34m\u001b[0m\u001b[0m\n\u001b[1;32m     39\u001b[0m         \u001b[0;32mif\u001b[0m \u001b[0mresponse\u001b[0m\u001b[0;34m.\u001b[0m\u001b[0mstatus_code\u001b[0m\u001b[0;34m==\u001b[0m\u001b[0;36m404\u001b[0m\u001b[0;34m:\u001b[0m\u001b[0;34m\u001b[0m\u001b[0;34m\u001b[0m\u001b[0m\n",
      "\u001b[0;32m~/.local/share/virtualenvs/code-AFz48Hjb/lib/python3.8/site-packages/requests/api.py\u001b[0m in \u001b[0;36mget\u001b[0;34m(url, params, **kwargs)\u001b[0m\n\u001b[1;32m     74\u001b[0m \u001b[0;34m\u001b[0m\u001b[0m\n\u001b[1;32m     75\u001b[0m     \u001b[0mkwargs\u001b[0m\u001b[0;34m.\u001b[0m\u001b[0msetdefault\u001b[0m\u001b[0;34m(\u001b[0m\u001b[0;34m'allow_redirects'\u001b[0m\u001b[0;34m,\u001b[0m \u001b[0;32mTrue\u001b[0m\u001b[0;34m)\u001b[0m\u001b[0;34m\u001b[0m\u001b[0;34m\u001b[0m\u001b[0m\n\u001b[0;32m---> 76\u001b[0;31m     \u001b[0;32mreturn\u001b[0m \u001b[0mrequest\u001b[0m\u001b[0;34m(\u001b[0m\u001b[0;34m'get'\u001b[0m\u001b[0;34m,\u001b[0m \u001b[0murl\u001b[0m\u001b[0;34m,\u001b[0m \u001b[0mparams\u001b[0m\u001b[0;34m=\u001b[0m\u001b[0mparams\u001b[0m\u001b[0;34m,\u001b[0m \u001b[0;34m**\u001b[0m\u001b[0mkwargs\u001b[0m\u001b[0;34m)\u001b[0m\u001b[0;34m\u001b[0m\u001b[0;34m\u001b[0m\u001b[0m\n\u001b[0m\u001b[1;32m     77\u001b[0m \u001b[0;34m\u001b[0m\u001b[0m\n\u001b[1;32m     78\u001b[0m \u001b[0;34m\u001b[0m\u001b[0m\n",
      "\u001b[0;32m~/.local/share/virtualenvs/code-AFz48Hjb/lib/python3.8/site-packages/requests/api.py\u001b[0m in \u001b[0;36mrequest\u001b[0;34m(method, url, **kwargs)\u001b[0m\n\u001b[1;32m     59\u001b[0m     \u001b[0;31m# cases, and look like a memory leak in others.\u001b[0m\u001b[0;34m\u001b[0m\u001b[0;34m\u001b[0m\u001b[0;34m\u001b[0m\u001b[0m\n\u001b[1;32m     60\u001b[0m     \u001b[0;32mwith\u001b[0m \u001b[0msessions\u001b[0m\u001b[0;34m.\u001b[0m\u001b[0mSession\u001b[0m\u001b[0;34m(\u001b[0m\u001b[0;34m)\u001b[0m \u001b[0;32mas\u001b[0m \u001b[0msession\u001b[0m\u001b[0;34m:\u001b[0m\u001b[0;34m\u001b[0m\u001b[0;34m\u001b[0m\u001b[0m\n\u001b[0;32m---> 61\u001b[0;31m         \u001b[0;32mreturn\u001b[0m \u001b[0msession\u001b[0m\u001b[0;34m.\u001b[0m\u001b[0mrequest\u001b[0m\u001b[0;34m(\u001b[0m\u001b[0mmethod\u001b[0m\u001b[0;34m=\u001b[0m\u001b[0mmethod\u001b[0m\u001b[0;34m,\u001b[0m \u001b[0murl\u001b[0m\u001b[0;34m=\u001b[0m\u001b[0murl\u001b[0m\u001b[0;34m,\u001b[0m \u001b[0;34m**\u001b[0m\u001b[0mkwargs\u001b[0m\u001b[0;34m)\u001b[0m\u001b[0;34m\u001b[0m\u001b[0;34m\u001b[0m\u001b[0m\n\u001b[0m\u001b[1;32m     62\u001b[0m \u001b[0;34m\u001b[0m\u001b[0m\n\u001b[1;32m     63\u001b[0m \u001b[0;34m\u001b[0m\u001b[0m\n",
      "\u001b[0;32m~/.local/share/virtualenvs/code-AFz48Hjb/lib/python3.8/site-packages/requests/sessions.py\u001b[0m in \u001b[0;36mrequest\u001b[0;34m(self, method, url, params, data, headers, cookies, files, auth, timeout, allow_redirects, proxies, hooks, stream, verify, cert, json)\u001b[0m\n\u001b[1;32m    528\u001b[0m         }\n\u001b[1;32m    529\u001b[0m         \u001b[0msend_kwargs\u001b[0m\u001b[0;34m.\u001b[0m\u001b[0mupdate\u001b[0m\u001b[0;34m(\u001b[0m\u001b[0msettings\u001b[0m\u001b[0;34m)\u001b[0m\u001b[0;34m\u001b[0m\u001b[0;34m\u001b[0m\u001b[0m\n\u001b[0;32m--> 530\u001b[0;31m         \u001b[0mresp\u001b[0m \u001b[0;34m=\u001b[0m \u001b[0mself\u001b[0m\u001b[0;34m.\u001b[0m\u001b[0msend\u001b[0m\u001b[0;34m(\u001b[0m\u001b[0mprep\u001b[0m\u001b[0;34m,\u001b[0m \u001b[0;34m**\u001b[0m\u001b[0msend_kwargs\u001b[0m\u001b[0;34m)\u001b[0m\u001b[0;34m\u001b[0m\u001b[0;34m\u001b[0m\u001b[0m\n\u001b[0m\u001b[1;32m    531\u001b[0m \u001b[0;34m\u001b[0m\u001b[0m\n\u001b[1;32m    532\u001b[0m         \u001b[0;32mreturn\u001b[0m \u001b[0mresp\u001b[0m\u001b[0;34m\u001b[0m\u001b[0;34m\u001b[0m\u001b[0m\n",
      "\u001b[0;32m~/.local/share/virtualenvs/code-AFz48Hjb/lib/python3.8/site-packages/requests/sessions.py\u001b[0m in \u001b[0;36msend\u001b[0;34m(self, request, **kwargs)\u001b[0m\n\u001b[1;32m    641\u001b[0m \u001b[0;34m\u001b[0m\u001b[0m\n\u001b[1;32m    642\u001b[0m         \u001b[0;31m# Send the request\u001b[0m\u001b[0;34m\u001b[0m\u001b[0;34m\u001b[0m\u001b[0;34m\u001b[0m\u001b[0m\n\u001b[0;32m--> 643\u001b[0;31m         \u001b[0mr\u001b[0m \u001b[0;34m=\u001b[0m \u001b[0madapter\u001b[0m\u001b[0;34m.\u001b[0m\u001b[0msend\u001b[0m\u001b[0;34m(\u001b[0m\u001b[0mrequest\u001b[0m\u001b[0;34m,\u001b[0m \u001b[0;34m**\u001b[0m\u001b[0mkwargs\u001b[0m\u001b[0;34m)\u001b[0m\u001b[0;34m\u001b[0m\u001b[0;34m\u001b[0m\u001b[0m\n\u001b[0m\u001b[1;32m    644\u001b[0m \u001b[0;34m\u001b[0m\u001b[0m\n\u001b[1;32m    645\u001b[0m         \u001b[0;31m# Total elapsed time of the request (approximately)\u001b[0m\u001b[0;34m\u001b[0m\u001b[0;34m\u001b[0m\u001b[0;34m\u001b[0m\u001b[0m\n",
      "\u001b[0;32m~/.local/share/virtualenvs/code-AFz48Hjb/lib/python3.8/site-packages/requests/adapters.py\u001b[0m in \u001b[0;36msend\u001b[0;34m(self, request, stream, timeout, verify, cert, proxies)\u001b[0m\n\u001b[1;32m    437\u001b[0m         \u001b[0;32mtry\u001b[0m\u001b[0;34m:\u001b[0m\u001b[0;34m\u001b[0m\u001b[0;34m\u001b[0m\u001b[0m\n\u001b[1;32m    438\u001b[0m             \u001b[0;32mif\u001b[0m \u001b[0;32mnot\u001b[0m \u001b[0mchunked\u001b[0m\u001b[0;34m:\u001b[0m\u001b[0;34m\u001b[0m\u001b[0;34m\u001b[0m\u001b[0m\n\u001b[0;32m--> 439\u001b[0;31m                 resp = conn.urlopen(\n\u001b[0m\u001b[1;32m    440\u001b[0m                     \u001b[0mmethod\u001b[0m\u001b[0;34m=\u001b[0m\u001b[0mrequest\u001b[0m\u001b[0;34m.\u001b[0m\u001b[0mmethod\u001b[0m\u001b[0;34m,\u001b[0m\u001b[0;34m\u001b[0m\u001b[0;34m\u001b[0m\u001b[0m\n\u001b[1;32m    441\u001b[0m                     \u001b[0murl\u001b[0m\u001b[0;34m=\u001b[0m\u001b[0murl\u001b[0m\u001b[0;34m,\u001b[0m\u001b[0;34m\u001b[0m\u001b[0;34m\u001b[0m\u001b[0m\n",
      "\u001b[0;32m~/.local/share/virtualenvs/code-AFz48Hjb/lib/python3.8/site-packages/urllib3/connectionpool.py\u001b[0m in \u001b[0;36murlopen\u001b[0;34m(self, method, url, body, headers, retries, redirect, assert_same_host, timeout, pool_timeout, release_conn, chunked, body_pos, **response_kw)\u001b[0m\n\u001b[1;32m    668\u001b[0m \u001b[0;34m\u001b[0m\u001b[0m\n\u001b[1;32m    669\u001b[0m             \u001b[0;31m# Make the request on the httplib connection object.\u001b[0m\u001b[0;34m\u001b[0m\u001b[0;34m\u001b[0m\u001b[0;34m\u001b[0m\u001b[0m\n\u001b[0;32m--> 670\u001b[0;31m             httplib_response = self._make_request(\n\u001b[0m\u001b[1;32m    671\u001b[0m                 \u001b[0mconn\u001b[0m\u001b[0;34m,\u001b[0m\u001b[0;34m\u001b[0m\u001b[0;34m\u001b[0m\u001b[0m\n\u001b[1;32m    672\u001b[0m                 \u001b[0mmethod\u001b[0m\u001b[0;34m,\u001b[0m\u001b[0;34m\u001b[0m\u001b[0;34m\u001b[0m\u001b[0m\n",
      "\u001b[0;32m~/.local/share/virtualenvs/code-AFz48Hjb/lib/python3.8/site-packages/urllib3/connectionpool.py\u001b[0m in \u001b[0;36m_make_request\u001b[0;34m(self, conn, method, url, timeout, chunked, **httplib_request_kw)\u001b[0m\n\u001b[1;32m    424\u001b[0m                     \u001b[0;31m# Python 3 (including for exceptions like SystemExit).\u001b[0m\u001b[0;34m\u001b[0m\u001b[0;34m\u001b[0m\u001b[0;34m\u001b[0m\u001b[0m\n\u001b[1;32m    425\u001b[0m                     \u001b[0;31m# Otherwise it looks like a bug in the code.\u001b[0m\u001b[0;34m\u001b[0m\u001b[0;34m\u001b[0m\u001b[0;34m\u001b[0m\u001b[0m\n\u001b[0;32m--> 426\u001b[0;31m                     \u001b[0msix\u001b[0m\u001b[0;34m.\u001b[0m\u001b[0mraise_from\u001b[0m\u001b[0;34m(\u001b[0m\u001b[0me\u001b[0m\u001b[0;34m,\u001b[0m \u001b[0;32mNone\u001b[0m\u001b[0;34m)\u001b[0m\u001b[0;34m\u001b[0m\u001b[0;34m\u001b[0m\u001b[0m\n\u001b[0m\u001b[1;32m    427\u001b[0m         \u001b[0;32mexcept\u001b[0m \u001b[0;34m(\u001b[0m\u001b[0mSocketTimeout\u001b[0m\u001b[0;34m,\u001b[0m \u001b[0mBaseSSLError\u001b[0m\u001b[0;34m,\u001b[0m \u001b[0mSocketError\u001b[0m\u001b[0;34m)\u001b[0m \u001b[0;32mas\u001b[0m \u001b[0me\u001b[0m\u001b[0;34m:\u001b[0m\u001b[0;34m\u001b[0m\u001b[0;34m\u001b[0m\u001b[0m\n\u001b[1;32m    428\u001b[0m             \u001b[0mself\u001b[0m\u001b[0;34m.\u001b[0m\u001b[0m_raise_timeout\u001b[0m\u001b[0;34m(\u001b[0m\u001b[0merr\u001b[0m\u001b[0;34m=\u001b[0m\u001b[0me\u001b[0m\u001b[0;34m,\u001b[0m \u001b[0murl\u001b[0m\u001b[0;34m=\u001b[0m\u001b[0murl\u001b[0m\u001b[0;34m,\u001b[0m \u001b[0mtimeout_value\u001b[0m\u001b[0;34m=\u001b[0m\u001b[0mread_timeout\u001b[0m\u001b[0;34m)\u001b[0m\u001b[0;34m\u001b[0m\u001b[0;34m\u001b[0m\u001b[0m\n",
      "\u001b[0;32m~/.local/share/virtualenvs/code-AFz48Hjb/lib/python3.8/site-packages/urllib3/packages/six.py\u001b[0m in \u001b[0;36mraise_from\u001b[0;34m(value, from_value)\u001b[0m\n",
      "\u001b[0;32m~/.local/share/virtualenvs/code-AFz48Hjb/lib/python3.8/site-packages/urllib3/connectionpool.py\u001b[0m in \u001b[0;36m_make_request\u001b[0;34m(self, conn, method, url, timeout, chunked, **httplib_request_kw)\u001b[0m\n\u001b[1;32m    419\u001b[0m                 \u001b[0;31m# Python 3\u001b[0m\u001b[0;34m\u001b[0m\u001b[0;34m\u001b[0m\u001b[0;34m\u001b[0m\u001b[0m\n\u001b[1;32m    420\u001b[0m                 \u001b[0;32mtry\u001b[0m\u001b[0;34m:\u001b[0m\u001b[0;34m\u001b[0m\u001b[0;34m\u001b[0m\u001b[0m\n\u001b[0;32m--> 421\u001b[0;31m                     \u001b[0mhttplib_response\u001b[0m \u001b[0;34m=\u001b[0m \u001b[0mconn\u001b[0m\u001b[0;34m.\u001b[0m\u001b[0mgetresponse\u001b[0m\u001b[0;34m(\u001b[0m\u001b[0;34m)\u001b[0m\u001b[0;34m\u001b[0m\u001b[0;34m\u001b[0m\u001b[0m\n\u001b[0m\u001b[1;32m    422\u001b[0m                 \u001b[0;32mexcept\u001b[0m \u001b[0mBaseException\u001b[0m \u001b[0;32mas\u001b[0m \u001b[0me\u001b[0m\u001b[0;34m:\u001b[0m\u001b[0;34m\u001b[0m\u001b[0;34m\u001b[0m\u001b[0m\n\u001b[1;32m    423\u001b[0m                     \u001b[0;31m# Remove the TypeError from the exception chain in\u001b[0m\u001b[0;34m\u001b[0m\u001b[0;34m\u001b[0m\u001b[0;34m\u001b[0m\u001b[0m\n",
      "\u001b[0;32m/usr/local/lib/python3.8/http/client.py\u001b[0m in \u001b[0;36mgetresponse\u001b[0;34m(self)\u001b[0m\n\u001b[1;32m   1345\u001b[0m         \u001b[0;32mtry\u001b[0m\u001b[0;34m:\u001b[0m\u001b[0;34m\u001b[0m\u001b[0;34m\u001b[0m\u001b[0m\n\u001b[1;32m   1346\u001b[0m             \u001b[0;32mtry\u001b[0m\u001b[0;34m:\u001b[0m\u001b[0;34m\u001b[0m\u001b[0;34m\u001b[0m\u001b[0m\n\u001b[0;32m-> 1347\u001b[0;31m                 \u001b[0mresponse\u001b[0m\u001b[0;34m.\u001b[0m\u001b[0mbegin\u001b[0m\u001b[0;34m(\u001b[0m\u001b[0;34m)\u001b[0m\u001b[0;34m\u001b[0m\u001b[0;34m\u001b[0m\u001b[0m\n\u001b[0m\u001b[1;32m   1348\u001b[0m             \u001b[0;32mexcept\u001b[0m \u001b[0mConnectionError\u001b[0m\u001b[0;34m:\u001b[0m\u001b[0;34m\u001b[0m\u001b[0;34m\u001b[0m\u001b[0m\n\u001b[1;32m   1349\u001b[0m                 \u001b[0mself\u001b[0m\u001b[0;34m.\u001b[0m\u001b[0mclose\u001b[0m\u001b[0;34m(\u001b[0m\u001b[0;34m)\u001b[0m\u001b[0;34m\u001b[0m\u001b[0;34m\u001b[0m\u001b[0m\n",
      "\u001b[0;32m/usr/local/lib/python3.8/http/client.py\u001b[0m in \u001b[0;36mbegin\u001b[0;34m(self)\u001b[0m\n\u001b[1;32m    305\u001b[0m         \u001b[0;31m# read until we get a non-100 response\u001b[0m\u001b[0;34m\u001b[0m\u001b[0;34m\u001b[0m\u001b[0;34m\u001b[0m\u001b[0m\n\u001b[1;32m    306\u001b[0m         \u001b[0;32mwhile\u001b[0m \u001b[0;32mTrue\u001b[0m\u001b[0;34m:\u001b[0m\u001b[0;34m\u001b[0m\u001b[0;34m\u001b[0m\u001b[0m\n\u001b[0;32m--> 307\u001b[0;31m             \u001b[0mversion\u001b[0m\u001b[0;34m,\u001b[0m \u001b[0mstatus\u001b[0m\u001b[0;34m,\u001b[0m \u001b[0mreason\u001b[0m \u001b[0;34m=\u001b[0m \u001b[0mself\u001b[0m\u001b[0;34m.\u001b[0m\u001b[0m_read_status\u001b[0m\u001b[0;34m(\u001b[0m\u001b[0;34m)\u001b[0m\u001b[0;34m\u001b[0m\u001b[0;34m\u001b[0m\u001b[0m\n\u001b[0m\u001b[1;32m    308\u001b[0m             \u001b[0;32mif\u001b[0m \u001b[0mstatus\u001b[0m \u001b[0;34m!=\u001b[0m \u001b[0mCONTINUE\u001b[0m\u001b[0;34m:\u001b[0m\u001b[0;34m\u001b[0m\u001b[0;34m\u001b[0m\u001b[0m\n\u001b[1;32m    309\u001b[0m                 \u001b[0;32mbreak\u001b[0m\u001b[0;34m\u001b[0m\u001b[0;34m\u001b[0m\u001b[0m\n",
      "\u001b[0;32m/usr/local/lib/python3.8/http/client.py\u001b[0m in \u001b[0;36m_read_status\u001b[0;34m(self)\u001b[0m\n\u001b[1;32m    266\u001b[0m \u001b[0;34m\u001b[0m\u001b[0m\n\u001b[1;32m    267\u001b[0m     \u001b[0;32mdef\u001b[0m \u001b[0m_read_status\u001b[0m\u001b[0;34m(\u001b[0m\u001b[0mself\u001b[0m\u001b[0;34m)\u001b[0m\u001b[0;34m:\u001b[0m\u001b[0;34m\u001b[0m\u001b[0;34m\u001b[0m\u001b[0m\n\u001b[0;32m--> 268\u001b[0;31m         \u001b[0mline\u001b[0m \u001b[0;34m=\u001b[0m \u001b[0mstr\u001b[0m\u001b[0;34m(\u001b[0m\u001b[0mself\u001b[0m\u001b[0;34m.\u001b[0m\u001b[0mfp\u001b[0m\u001b[0;34m.\u001b[0m\u001b[0mreadline\u001b[0m\u001b[0;34m(\u001b[0m\u001b[0m_MAXLINE\u001b[0m \u001b[0;34m+\u001b[0m \u001b[0;36m1\u001b[0m\u001b[0;34m)\u001b[0m\u001b[0;34m,\u001b[0m \u001b[0;34m\"iso-8859-1\"\u001b[0m\u001b[0;34m)\u001b[0m\u001b[0;34m\u001b[0m\u001b[0;34m\u001b[0m\u001b[0m\n\u001b[0m\u001b[1;32m    269\u001b[0m         \u001b[0;32mif\u001b[0m \u001b[0mlen\u001b[0m\u001b[0;34m(\u001b[0m\u001b[0mline\u001b[0m\u001b[0;34m)\u001b[0m \u001b[0;34m>\u001b[0m \u001b[0m_MAXLINE\u001b[0m\u001b[0;34m:\u001b[0m\u001b[0;34m\u001b[0m\u001b[0;34m\u001b[0m\u001b[0m\n\u001b[1;32m    270\u001b[0m             \u001b[0;32mraise\u001b[0m \u001b[0mLineTooLong\u001b[0m\u001b[0;34m(\u001b[0m\u001b[0;34m\"status line\"\u001b[0m\u001b[0;34m)\u001b[0m\u001b[0;34m\u001b[0m\u001b[0;34m\u001b[0m\u001b[0m\n",
      "\u001b[0;32m/usr/local/lib/python3.8/socket.py\u001b[0m in \u001b[0;36mreadinto\u001b[0;34m(self, b)\u001b[0m\n\u001b[1;32m    667\u001b[0m         \u001b[0;32mwhile\u001b[0m \u001b[0;32mTrue\u001b[0m\u001b[0;34m:\u001b[0m\u001b[0;34m\u001b[0m\u001b[0;34m\u001b[0m\u001b[0m\n\u001b[1;32m    668\u001b[0m             \u001b[0;32mtry\u001b[0m\u001b[0;34m:\u001b[0m\u001b[0;34m\u001b[0m\u001b[0;34m\u001b[0m\u001b[0m\n\u001b[0;32m--> 669\u001b[0;31m                 \u001b[0;32mreturn\u001b[0m \u001b[0mself\u001b[0m\u001b[0;34m.\u001b[0m\u001b[0m_sock\u001b[0m\u001b[0;34m.\u001b[0m\u001b[0mrecv_into\u001b[0m\u001b[0;34m(\u001b[0m\u001b[0mb\u001b[0m\u001b[0;34m)\u001b[0m\u001b[0;34m\u001b[0m\u001b[0;34m\u001b[0m\u001b[0m\n\u001b[0m\u001b[1;32m    670\u001b[0m             \u001b[0;32mexcept\u001b[0m \u001b[0mtimeout\u001b[0m\u001b[0;34m:\u001b[0m\u001b[0;34m\u001b[0m\u001b[0;34m\u001b[0m\u001b[0m\n\u001b[1;32m    671\u001b[0m                 \u001b[0mself\u001b[0m\u001b[0;34m.\u001b[0m\u001b[0m_timeout_occurred\u001b[0m \u001b[0;34m=\u001b[0m \u001b[0;32mTrue\u001b[0m\u001b[0;34m\u001b[0m\u001b[0;34m\u001b[0m\u001b[0m\n",
      "\u001b[0;32m/usr/local/lib/python3.8/ssl.py\u001b[0m in \u001b[0;36mrecv_into\u001b[0;34m(self, buffer, nbytes, flags)\u001b[0m\n\u001b[1;32m   1239\u001b[0m                   \u001b[0;34m\"non-zero flags not allowed in calls to recv_into() on %s\"\u001b[0m \u001b[0;34m%\u001b[0m\u001b[0;34m\u001b[0m\u001b[0;34m\u001b[0m\u001b[0m\n\u001b[1;32m   1240\u001b[0m                   self.__class__)\n\u001b[0;32m-> 1241\u001b[0;31m             \u001b[0;32mreturn\u001b[0m \u001b[0mself\u001b[0m\u001b[0;34m.\u001b[0m\u001b[0mread\u001b[0m\u001b[0;34m(\u001b[0m\u001b[0mnbytes\u001b[0m\u001b[0;34m,\u001b[0m \u001b[0mbuffer\u001b[0m\u001b[0;34m)\u001b[0m\u001b[0;34m\u001b[0m\u001b[0;34m\u001b[0m\u001b[0m\n\u001b[0m\u001b[1;32m   1242\u001b[0m         \u001b[0;32melse\u001b[0m\u001b[0;34m:\u001b[0m\u001b[0;34m\u001b[0m\u001b[0;34m\u001b[0m\u001b[0m\n\u001b[1;32m   1243\u001b[0m             \u001b[0;32mreturn\u001b[0m \u001b[0msuper\u001b[0m\u001b[0;34m(\u001b[0m\u001b[0;34m)\u001b[0m\u001b[0;34m.\u001b[0m\u001b[0mrecv_into\u001b[0m\u001b[0;34m(\u001b[0m\u001b[0mbuffer\u001b[0m\u001b[0;34m,\u001b[0m \u001b[0mnbytes\u001b[0m\u001b[0;34m,\u001b[0m \u001b[0mflags\u001b[0m\u001b[0;34m)\u001b[0m\u001b[0;34m\u001b[0m\u001b[0;34m\u001b[0m\u001b[0m\n",
      "\u001b[0;32m/usr/local/lib/python3.8/ssl.py\u001b[0m in \u001b[0;36mread\u001b[0;34m(self, len, buffer)\u001b[0m\n\u001b[1;32m   1097\u001b[0m         \u001b[0;32mtry\u001b[0m\u001b[0;34m:\u001b[0m\u001b[0;34m\u001b[0m\u001b[0;34m\u001b[0m\u001b[0m\n\u001b[1;32m   1098\u001b[0m             \u001b[0;32mif\u001b[0m \u001b[0mbuffer\u001b[0m \u001b[0;32mis\u001b[0m \u001b[0;32mnot\u001b[0m \u001b[0;32mNone\u001b[0m\u001b[0;34m:\u001b[0m\u001b[0;34m\u001b[0m\u001b[0;34m\u001b[0m\u001b[0m\n\u001b[0;32m-> 1099\u001b[0;31m                 \u001b[0;32mreturn\u001b[0m \u001b[0mself\u001b[0m\u001b[0;34m.\u001b[0m\u001b[0m_sslobj\u001b[0m\u001b[0;34m.\u001b[0m\u001b[0mread\u001b[0m\u001b[0;34m(\u001b[0m\u001b[0mlen\u001b[0m\u001b[0;34m,\u001b[0m \u001b[0mbuffer\u001b[0m\u001b[0;34m)\u001b[0m\u001b[0;34m\u001b[0m\u001b[0;34m\u001b[0m\u001b[0m\n\u001b[0m\u001b[1;32m   1100\u001b[0m             \u001b[0;32melse\u001b[0m\u001b[0;34m:\u001b[0m\u001b[0;34m\u001b[0m\u001b[0;34m\u001b[0m\u001b[0m\n\u001b[1;32m   1101\u001b[0m                 \u001b[0;32mreturn\u001b[0m \u001b[0mself\u001b[0m\u001b[0;34m.\u001b[0m\u001b[0m_sslobj\u001b[0m\u001b[0;34m.\u001b[0m\u001b[0mread\u001b[0m\u001b[0;34m(\u001b[0m\u001b[0mlen\u001b[0m\u001b[0;34m)\u001b[0m\u001b[0;34m\u001b[0m\u001b[0;34m\u001b[0m\u001b[0m\n",
      "\u001b[0;31mKeyboardInterrupt\u001b[0m: "
     ]
    }
   ],
   "source": [
    "rq = ReHttp(100)\n",
    "category_url = rq.get_info('https://www.lemonde.fr/rss/',10)['Links']\n",
    "\n",
    "for cat in category_url:\n",
    "   \n",
    "    if cat.endswith('.xml'):\n",
    "        url = cat.replace('rss_full.xml','')\n",
    "        print(url)\n",
    "        print(rq.get_info(url,100)['Title'])"
   ]
  },
  {
   "cell_type": "code",
   "execution_count": null,
   "metadata": {},
   "outputs": [],
   "source": []
  }
 ],
 "metadata": {
  "kernelspec": {
   "display_name": "Python 3",
   "language": "python",
   "name": "python3"
  },
  "language_info": {
   "codemirror_mode": {
    "name": "ipython",
    "version": 3
   },
   "file_extension": ".py",
   "mimetype": "text/x-python",
   "name": "python",
   "nbconvert_exporter": "python",
   "pygments_lexer": "ipython3",
   "version": "3.8.6"
  }
 },
 "nbformat": 4,
 "nbformat_minor": 2
}
