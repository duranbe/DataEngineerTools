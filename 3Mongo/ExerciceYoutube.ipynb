{
 "cells": [
  {
   "cell_type": "markdown",
   "metadata": {},
   "source": [
    "# Consignes\n",
    "\n",
    "Intégrer le fichier USvideos.csv qui représente un ensemble de 8000 vidéos Youtube. \n",
    "\n",
    "Merger le fichier US_category_id.json pour récupérer le nom des catégories. Il conviendra de bien spécifier l'ID du document.\n",
    "\n",
    "\n",
    "# Questions \n",
    "- 1) Récupérer toutes les vidéos de la chaîne Apple.\n",
    "- 2) Compter le nombre de catégories différentes\n",
    "- 3) Si vous ne l'avez pas déjà fait, découper les tags en listes et mettre à jour les tags de chacun des documents avec une requête update.\n",
    "- 4) Récupérer les vidéos les plus vues.\n",
    "- 5) Compter le nombre moyen de vues en fonction de la catégorie.\n",
    "- 6) Récupérer les chaines Youtube avec la plus grande moyenne de likes."
   ]
  },
  {
   "cell_type": "code",
   "execution_count": 107,
   "metadata": {},
   "outputs": [],
   "source": [
    "import pandas as pd\n",
    "import pymongo"
   ]
  },
  {
   "cell_type": "code",
   "execution_count": 108,
   "metadata": {},
   "outputs": [],
   "source": [
    "client = pymongo.MongoClient(\"mongo\")\n",
    "database = client['exercices']\n",
    "collection = database['youtube']"
   ]
  },
  {
   "cell_type": "code",
   "execution_count": 109,
   "metadata": {},
   "outputs": [
    {
     "data": {
      "text/html": [
       "<div>\n",
       "<style scoped>\n",
       "    .dataframe tbody tr th:only-of-type {\n",
       "        vertical-align: middle;\n",
       "    }\n",
       "\n",
       "    .dataframe tbody tr th {\n",
       "        vertical-align: top;\n",
       "    }\n",
       "\n",
       "    .dataframe thead th {\n",
       "        text-align: right;\n",
       "    }\n",
       "</style>\n",
       "<table border=\"1\" class=\"dataframe\">\n",
       "  <thead>\n",
       "    <tr style=\"text-align: right;\">\n",
       "      <th></th>\n",
       "      <th>video_id</th>\n",
       "      <th>title</th>\n",
       "      <th>channel_title</th>\n",
       "      <th>category_id</th>\n",
       "      <th>tags</th>\n",
       "      <th>views</th>\n",
       "      <th>likes</th>\n",
       "      <th>dislikes</th>\n",
       "      <th>comment_total</th>\n",
       "      <th>thumbnail_link</th>\n",
       "      <th>date</th>\n",
       "    </tr>\n",
       "  </thead>\n",
       "  <tbody>\n",
       "    <tr>\n",
       "      <th>0</th>\n",
       "      <td>XpVt6Z1Gjjo</td>\n",
       "      <td>1 YEAR OF VLOGGING -- HOW LOGAN PAUL CHANGED Y...</td>\n",
       "      <td>Logan Paul Vlogs</td>\n",
       "      <td>24</td>\n",
       "      <td>logan paul vlog|logan paul|logan|paul|olympics...</td>\n",
       "      <td>4394029</td>\n",
       "      <td>320053</td>\n",
       "      <td>5931</td>\n",
       "      <td>46245</td>\n",
       "      <td>https://i.ytimg.com/vi/XpVt6Z1Gjjo/default.jpg</td>\n",
       "      <td>13.09</td>\n",
       "    </tr>\n",
       "    <tr>\n",
       "      <th>1</th>\n",
       "      <td>K4wEI5zhHB0</td>\n",
       "      <td>iPhone X — Introducing iPhone X — Apple</td>\n",
       "      <td>Apple</td>\n",
       "      <td>28</td>\n",
       "      <td>Apple|iPhone 10|iPhone Ten|iPhone|Portrait Lig...</td>\n",
       "      <td>7860119</td>\n",
       "      <td>185853</td>\n",
       "      <td>26679</td>\n",
       "      <td>0</td>\n",
       "      <td>https://i.ytimg.com/vi/K4wEI5zhHB0/default.jpg</td>\n",
       "      <td>13.09</td>\n",
       "    </tr>\n",
       "    <tr>\n",
       "      <th>2</th>\n",
       "      <td>cLdxuaxaQwc</td>\n",
       "      <td>My Response</td>\n",
       "      <td>PewDiePie</td>\n",
       "      <td>22</td>\n",
       "      <td>[none]</td>\n",
       "      <td>5845909</td>\n",
       "      <td>576597</td>\n",
       "      <td>39774</td>\n",
       "      <td>170708</td>\n",
       "      <td>https://i.ytimg.com/vi/cLdxuaxaQwc/default.jpg</td>\n",
       "      <td>13.09</td>\n",
       "    </tr>\n",
       "    <tr>\n",
       "      <th>3</th>\n",
       "      <td>WYYvHb03Eog</td>\n",
       "      <td>Apple iPhone X first look</td>\n",
       "      <td>The Verge</td>\n",
       "      <td>28</td>\n",
       "      <td>apple iphone x hands on|Apple iPhone X|iPhone ...</td>\n",
       "      <td>2642103</td>\n",
       "      <td>24975</td>\n",
       "      <td>4542</td>\n",
       "      <td>12829</td>\n",
       "      <td>https://i.ytimg.com/vi/WYYvHb03Eog/default.jpg</td>\n",
       "      <td>13.09</td>\n",
       "    </tr>\n",
       "    <tr>\n",
       "      <th>4</th>\n",
       "      <td>sjlHnJvXdQs</td>\n",
       "      <td>iPhone X (parody)</td>\n",
       "      <td>jacksfilms</td>\n",
       "      <td>23</td>\n",
       "      <td>jacksfilms|parody|parodies|iphone|iphone x|iph...</td>\n",
       "      <td>1168130</td>\n",
       "      <td>96666</td>\n",
       "      <td>568</td>\n",
       "      <td>6666</td>\n",
       "      <td>https://i.ytimg.com/vi/sjlHnJvXdQs/default.jpg</td>\n",
       "      <td>13.09</td>\n",
       "    </tr>\n",
       "  </tbody>\n",
       "</table>\n",
       "</div>"
      ],
      "text/plain": [
       "      video_id                                              title  \\\n",
       "0  XpVt6Z1Gjjo  1 YEAR OF VLOGGING -- HOW LOGAN PAUL CHANGED Y...   \n",
       "1  K4wEI5zhHB0            iPhone X — Introducing iPhone X — Apple   \n",
       "2  cLdxuaxaQwc                                        My Response   \n",
       "3  WYYvHb03Eog                          Apple iPhone X first look   \n",
       "4  sjlHnJvXdQs                                  iPhone X (parody)   \n",
       "\n",
       "      channel_title  category_id  \\\n",
       "0  Logan Paul Vlogs           24   \n",
       "1             Apple           28   \n",
       "2         PewDiePie           22   \n",
       "3         The Verge           28   \n",
       "4        jacksfilms           23   \n",
       "\n",
       "                                                tags    views   likes  \\\n",
       "0  logan paul vlog|logan paul|logan|paul|olympics...  4394029  320053   \n",
       "1  Apple|iPhone 10|iPhone Ten|iPhone|Portrait Lig...  7860119  185853   \n",
       "2                                             [none]  5845909  576597   \n",
       "3  apple iphone x hands on|Apple iPhone X|iPhone ...  2642103   24975   \n",
       "4  jacksfilms|parody|parodies|iphone|iphone x|iph...  1168130   96666   \n",
       "\n",
       "   dislikes  comment_total                                  thumbnail_link  \\\n",
       "0      5931          46245  https://i.ytimg.com/vi/XpVt6Z1Gjjo/default.jpg   \n",
       "1     26679              0  https://i.ytimg.com/vi/K4wEI5zhHB0/default.jpg   \n",
       "2     39774         170708  https://i.ytimg.com/vi/cLdxuaxaQwc/default.jpg   \n",
       "3      4542          12829  https://i.ytimg.com/vi/WYYvHb03Eog/default.jpg   \n",
       "4       568           6666  https://i.ytimg.com/vi/sjlHnJvXdQs/default.jpg   \n",
       "\n",
       "    date  \n",
       "0  13.09  \n",
       "1  13.09  \n",
       "2  13.09  \n",
       "3  13.09  \n",
       "4  13.09  "
      ]
     },
     "execution_count": 109,
     "metadata": {},
     "output_type": "execute_result"
    }
   ],
   "source": [
    "df_ytb = pd.read_csv(\"./data/USvideos.csv\")\n",
    "df_ytb.head(5)"
   ]
  },
  {
   "cell_type": "markdown",
   "metadata": {},
   "source": [
    "### Nettoyer les données"
   ]
  },
  {
   "cell_type": "code",
   "execution_count": 110,
   "metadata": {},
   "outputs": [],
   "source": [
    "# Lambda function to create list of tags\n",
    "list_tag = lambda x : x.split('|')"
   ]
  },
  {
   "cell_type": "code",
   "execution_count": 111,
   "metadata": {},
   "outputs": [],
   "source": [
    "df_ytb['tags']=df_ytb['tags'].apply(list_tag)"
   ]
  },
  {
   "cell_type": "markdown",
   "metadata": {
    "slideshow": {
     "slide_type": "slide"
    }
   },
   "source": [
    "### Importer les données"
   ]
  },
  {
   "cell_type": "code",
   "execution_count": 112,
   "metadata": {},
   "outputs": [],
   "source": [
    "import json\n",
    "\n",
    "with open('./data/US_category_id.json') as json_file:\n",
    "    category = json.load(json_file)"
   ]
  },
  {
   "cell_type": "code",
   "execution_count": 113,
   "metadata": {},
   "outputs": [],
   "source": [
    "#result = df_ytb.to_json(orient=\"records\")\n",
    "#parsed = json.loads(result)"
   ]
  },
  {
   "cell_type": "code",
   "execution_count": 114,
   "metadata": {
    "scrolled": true
   },
   "outputs": [],
   "source": [
    "#parsed[0]"
   ]
  },
  {
   "cell_type": "code",
   "execution_count": 115,
   "metadata": {},
   "outputs": [],
   "source": [
    "#type(parsed)"
   ]
  },
  {
   "cell_type": "code",
   "execution_count": 116,
   "metadata": {},
   "outputs": [],
   "source": [
    "#collection.insert_many(parsed)"
   ]
  },
  {
   "cell_type": "code",
   "execution_count": 117,
   "metadata": {},
   "outputs": [],
   "source": [
    "#category = category['items']"
   ]
  },
  {
   "cell_type": "code",
   "execution_count": 120,
   "metadata": {},
   "outputs": [],
   "source": [
    "#info = [ { 'category_id': int(item['id']), 'category_title': item['snippet']['title']}  for item in category ]"
   ]
  },
  {
   "cell_type": "code",
   "execution_count": 121,
   "metadata": {},
   "outputs": [
    {
     "data": {
      "text/plain": [
       "[{'category_id': 1, 'category_title': 'Film & Animation'},\n",
       " {'category_id': 2, 'category_title': 'Autos & Vehicles'},\n",
       " {'category_id': 10, 'category_title': 'Music'},\n",
       " {'category_id': 15, 'category_title': 'Pets & Animals'},\n",
       " {'category_id': 17, 'category_title': 'Sports'},\n",
       " {'category_id': 18, 'category_title': 'Short Movies'},\n",
       " {'category_id': 19, 'category_title': 'Travel & Events'},\n",
       " {'category_id': 20, 'category_title': 'Gaming'},\n",
       " {'category_id': 21, 'category_title': 'Videoblogging'},\n",
       " {'category_id': 22, 'category_title': 'People & Blogs'},\n",
       " {'category_id': 23, 'category_title': 'Comedy'},\n",
       " {'category_id': 24, 'category_title': 'Entertainment'},\n",
       " {'category_id': 25, 'category_title': 'News & Politics'},\n",
       " {'category_id': 26, 'category_title': 'Howto & Style'},\n",
       " {'category_id': 27, 'category_title': 'Education'},\n",
       " {'category_id': 28, 'category_title': 'Science & Technology'},\n",
       " {'category_id': 29, 'category_title': 'Nonprofits & Activism'},\n",
       " {'category_id': 30, 'category_title': 'Movies'},\n",
       " {'category_id': 31, 'category_title': 'Anime/Animation'},\n",
       " {'category_id': 32, 'category_title': 'Action/Adventure'},\n",
       " {'category_id': 33, 'category_title': 'Classics'},\n",
       " {'category_id': 34, 'category_title': 'Comedy'},\n",
       " {'category_id': 35, 'category_title': 'Documentary'},\n",
       " {'category_id': 36, 'category_title': 'Drama'},\n",
       " {'category_id': 37, 'category_title': 'Family'},\n",
       " {'category_id': 38, 'category_title': 'Foreign'},\n",
       " {'category_id': 39, 'category_title': 'Horror'},\n",
       " {'category_id': 40, 'category_title': 'Sci-Fi/Fantasy'},\n",
       " {'category_id': 41, 'category_title': 'Thriller'},\n",
       " {'category_id': 42, 'category_title': 'Shorts'},\n",
       " {'category_id': 43, 'category_title': 'Shows'},\n",
       " {'category_id': 44, 'category_title': 'Trailers'}]"
      ]
     },
     "execution_count": 121,
     "metadata": {},
     "output_type": "execute_result"
    }
   ],
   "source": [
    "#info"
   ]
  },
  {
   "cell_type": "code",
   "execution_count": 122,
   "metadata": {},
   "outputs": [
    {
     "data": {
      "text/plain": [
       "<pymongo.results.InsertManyResult at 0x7f04c587ccc0>"
      ]
     },
     "execution_count": 122,
     "metadata": {},
     "output_type": "execute_result"
    }
   ],
   "source": [
    "#collection_category = database['youtube_category']\n",
    "#collection_category.insert_many(info)"
   ]
  },
  {
   "cell_type": "code",
   "execution_count": 124,
   "metadata": {},
   "outputs": [],
   "source": [
    "#collection = database[\"youtube\"]"
   ]
  },
  {
   "cell_type": "markdown",
   "metadata": {},
   "source": [
    "## Merge des deux collections"
   ]
  },
  {
   "cell_type": "code",
   "execution_count": 136,
   "metadata": {},
   "outputs": [
    {
     "ename": "SyntaxError",
     "evalue": "EOL while scanning string literal (<ipython-input-136-83ccf5d180ad>, line 1)",
     "output_type": "error",
     "traceback": [
      "\u001b[0;36m  File \u001b[0;32m\"<ipython-input-136-83ccf5d180ad>\"\u001b[0;36m, line \u001b[0;32m1\u001b[0m\n\u001b[0;31m    \"collection.aggregate([\u001b[0m\n\u001b[0m                           ^\u001b[0m\n\u001b[0;31mSyntaxError\u001b[0m\u001b[0;31m:\u001b[0m EOL while scanning string literal\n"
     ]
    }
   ],
   "source": [
    "#https://www.mongodb.com/blog/post/joins-and-other-aggregation-enhancements-coming-in-mongodb-3-2-part-1-of-3-introduction\n",
    "#https://docs.mongodb.com/manual/reference/operator/aggregation/lookup/#examples\n",
    "#\n",
    "\"collection.aggregate([\n",
    "   {\n",
    "      \"$lookup\": {\n",
    "        \"from\": \"youtube_category\",\n",
    "         \"localField\": \"category_id\",   \n",
    "         \"foreignField\": \"category_id\",  \n",
    "        \"as\": \"fromCategory\"\n",
    "      }\n",
    "   },\n",
    "   {\n",
    "      \"$replaceRoot\": { \"newRoot\": { \"$mergeObjects\": [ { \"$arrayElemAt\": [ \"$fromCategory\", 0 ] }, \"$$ROOT\" ] } }\n",
    "   },\n",
    "   { \"$project\": { \"fromCategory\": 0 } },\n",
    "    { \"$out\" :  \"youtube\" } #Ouput direct dans la collection ytb\n",
    "    \n",
    "])\""
   ]
  },
  {
   "cell_type": "markdown",
   "metadata": {},
   "source": [
    "- 1) Récupérer toutes les vidéos de la chaîne Apple.\n",
    "- 2) Compter le nombre de catégories différentes\n",
    "- 3) Si vous ne l'avez pas déjà fait, découper les tags en listes et mettre à jour les tags de chacun des documents avec une requête update.\n",
    "- 4) Récupérer les vidéos les plus vues.\n",
    "- 5) Compter le nombre moyen de vues en fonction de la catégorie.\n",
    "- 6) Récupérer les chaines Youtube avec la plus grande moyenne de likes."
   ]
  },
  {
   "cell_type": "markdown",
   "metadata": {},
   "source": [
    "## Question 0"
   ]
  },
  {
   "cell_type": "markdown",
   "metadata": {},
   "source": [
    "## Question 1  "
   ]
  },
  {
   "cell_type": "code",
   "execution_count": 144,
   "metadata": {},
   "outputs": [
    {
     "data": {
      "text/plain": [
       "{'_id': ObjectId('5fbd19627395398c8ce20241'),\n",
       " 'category_id': 28,\n",
       " 'category_title': 'Science & Technology',\n",
       " 'video_id': 'K4wEI5zhHB0',\n",
       " 'title': 'iPhone X — Introducing iPhone X — Apple',\n",
       " 'channel_title': 'Apple',\n",
       " 'tags': ['Apple',\n",
       "  'iPhone 10',\n",
       "  'iPhone Ten',\n",
       "  'iPhone',\n",
       "  'Portrait Lighting',\n",
       "  'A11 Bionic',\n",
       "  'augmented reality',\n",
       "  'emoji',\n",
       "  'animoji',\n",
       "  'Face ID',\n",
       "  'Apple Pay',\n",
       "  'camera',\n",
       "  'smartphone'],\n",
       " 'views': 7860119,\n",
       " 'likes': 185853,\n",
       " 'dislikes': 26679,\n",
       " 'comment_total': 0,\n",
       " 'thumbnail_link': 'https://i.ytimg.com/vi/K4wEI5zhHB0/default.jpg',\n",
       " 'date': 13.09}"
      ]
     },
     "execution_count": 144,
     "metadata": {},
     "output_type": "execute_result"
    }
   ],
   "source": [
    "next(collection.find({\"channel_title\":\"Apple\"}))"
   ]
  },
  {
   "cell_type": "markdown",
   "metadata": {},
   "source": [
    "## Question 2"
   ]
  },
  {
   "cell_type": "code",
   "execution_count": 145,
   "metadata": {},
   "outputs": [
    {
     "data": {
      "text/plain": [
       "['Autos & Vehicles',\n",
       " 'Comedy',\n",
       " 'Education',\n",
       " 'Entertainment',\n",
       " 'Film & Animation',\n",
       " 'Gaming',\n",
       " 'Howto & Style',\n",
       " 'Music',\n",
       " 'News & Politics',\n",
       " 'Nonprofits & Activism',\n",
       " 'People & Blogs',\n",
       " 'Pets & Animals',\n",
       " 'Science & Technology',\n",
       " 'Shows',\n",
       " 'Sports',\n",
       " 'Travel & Events']"
      ]
     },
     "execution_count": 145,
     "metadata": {},
     "output_type": "execute_result"
    }
   ],
   "source": [
    "#https://docs.mongodb.com/manual/reference/method/db.collection.distinct/#examples\n",
    "collection.distinct(\"category_title\")"
   ]
  },
  {
   "cell_type": "markdown",
   "metadata": {},
   "source": [
    "## Question 3"
   ]
  },
  {
   "cell_type": "markdown",
   "metadata": {},
   "source": [
    "## Question 4"
   ]
  },
  {
   "cell_type": "code",
   "execution_count": 155,
   "metadata": {},
   "outputs": [
    {
     "data": {
      "text/plain": [
       "{'_id': ObjectId('5fbd19627395398c8ce209b3'),\n",
       " 'category_id': 10,\n",
       " 'category_title': 'Music',\n",
       " 'video_id': 'MBdVXkSdhwU',\n",
       " 'title': \"BTS (방탄소년단) 'DNA' Official MV\",\n",
       " 'channel_title': 'ibighit',\n",
       " 'tags': ['BIGHIT', '빅히트', '방탄소년단', 'BTS', 'BANGTAN', '방탄'],\n",
       " 'views': 41500672,\n",
       " 'likes': 2010366,\n",
       " 'dislikes': 78076,\n",
       " 'comment_total': 736179,\n",
       " 'thumbnail_link': 'https://i.ytimg.com/vi/MBdVXkSdhwU/default.jpg',\n",
       " 'date': 22.09}"
      ]
     },
     "execution_count": 155,
     "metadata": {},
     "output_type": "execute_result"
    }
   ],
   "source": [
    "next(collection.find().sort([('views',-1)]))"
   ]
  },
  {
   "cell_type": "markdown",
   "metadata": {},
   "source": [
    "## Question 5"
   ]
  },
  {
   "cell_type": "code",
   "execution_count": 163,
   "metadata": {},
   "outputs": [
    {
     "data": {
      "text/plain": [
       "[{'_id': 'Education', 'averageViews': 547582.4700598803},\n",
       " {'_id': 'Sports', 'averageViews': 728434.3243902439},\n",
       " {'_id': 'People & Blogs', 'averageViews': 971532.7573696146},\n",
       " {'_id': 'Comedy', 'averageViews': 1240073.294039735},\n",
       " {'_id': 'Autos & Vehicles', 'averageViews': 607693.8706896552},\n",
       " {'_id': 'Nonprofits & Activism', 'averageViews': 1110334.2142857143},\n",
       " {'_id': 'Film & Animation', 'averageViews': 1039472.6560846561},\n",
       " {'_id': 'Music', 'averageViews': 1176553.612},\n",
       " {'_id': 'Gaming', 'averageViews': 681081.8170731707},\n",
       " {'_id': 'Shows', 'averageViews': 8492.5},\n",
       " {'_id': 'Science & Technology', 'averageViews': 924730.548828125},\n",
       " {'_id': 'News & Politics', 'averageViews': 540955.5569823436},\n",
       " {'_id': 'Pets & Animals', 'averageViews': 651404.3879310344},\n",
       " {'_id': 'Howto & Style', 'averageViews': 537665.1806674339},\n",
       " {'_id': 'Travel & Events', 'averageViews': 464041.0833333333},\n",
       " {'_id': 'Entertainment', 'averageViews': 1154868.4397251718}]"
      ]
     },
     "execution_count": 163,
     "metadata": {},
     "output_type": "execute_result"
    }
   ],
   "source": [
    "list(collection.aggregate([\n",
    "    {\"$group\": {\"_id\" : \"$category_title\", \"averageViews\" : {\"$avg\" : \"$views\"}}} \n",
    "]))"
   ]
  },
  {
   "cell_type": "markdown",
   "metadata": {},
   "source": [
    "## Question 6 "
   ]
  },
  {
   "cell_type": "code",
   "execution_count": 171,
   "metadata": {},
   "outputs": [
    {
     "data": {
      "text/plain": [
       "[{'_id': 'ZaynVEVO', 'averageViews': 36323498.0},\n",
       " {'_id': 'BETNetworks', 'averageViews': 25119483.875},\n",
       " {'_id': 'ibighit', 'averageViews': 22138326.125},\n",
       " {'_id': 'shakiraVEVO', 'averageViews': 19015506.14285714},\n",
       " {'_id': 'Primitive Technology', 'averageViews': 14970548.75}]"
      ]
     },
     "execution_count": 171,
     "metadata": {},
     "output_type": "execute_result"
    }
   ],
   "source": [
    "list(collection.aggregate([\n",
    "    {\"$group\": {\"_id\" : \"$channel_title\", \"averageViews\" : {\"$avg\" : \"$views\"}}},\n",
    "    {\"$sort\" : {\"averageViews\" : -1}}\n",
    "]))[0:5]"
   ]
  }
 ],
 "metadata": {
  "kernelspec": {
   "display_name": "Python 3",
   "language": "python",
   "name": "python3"
  },
  "language_info": {
   "codemirror_mode": {
    "name": "ipython",
    "version": 3
   },
   "file_extension": ".py",
   "mimetype": "text/x-python",
   "name": "python",
   "nbconvert_exporter": "python",
   "pygments_lexer": "ipython3",
   "version": "3.8.6"
  }
 },
 "nbformat": 4,
 "nbformat_minor": 2
}
