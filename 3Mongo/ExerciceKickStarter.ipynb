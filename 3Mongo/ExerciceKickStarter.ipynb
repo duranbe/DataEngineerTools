{
 "cells": [
  {
   "cell_type": "markdown",
   "metadata": {},
   "source": [
    "#  Consignes\n",
    "\n",
    "## Description\n",
    "\n",
    "Ouvrir le fichier ks-projects-201801.csv, il recense environ 100 000 projets KickStarter. Intégrer les données directement avec L'API Python dans une base de données Mongo. \n",
    "\n",
    "Il conviendra de bien spécifier manuellement l'ID du document. Pensez aussi à bien formatter le type des données pour profiter des méthodes implémentées par Mongo. L'ensemble de données n'est pas forcément nécessaire, c'est à vous de créer votre modèle de données.\n",
    "\n",
    "## Questions\n",
    "\n",
    "- 1) Récupérer les 5 projets ayant reçu le plus de promesse de dons.\n",
    "- 2) Compter le nombre de projets ayant atteint leur but.\n",
    "- 3) Compter le nombre de projets pour chaque catégorie.\n",
    "- 4) Compter le nombre de projets français ayant été instanciés avant 2016.\n",
    "- 5) Récupérer les projets américains ayant demandé plus de 200 000 dollars.\n",
    "- 6) Compter le nombre de projet ayant \"Sport\" dans leur nom"
   ]
  },
  {
   "cell_type": "code",
   "execution_count": 1,
   "metadata": {},
   "outputs": [],
   "source": [
    "import pandas as pd\n",
    "import pymongo"
   ]
  },
  {
   "cell_type": "code",
   "execution_count": 2,
   "metadata": {},
   "outputs": [],
   "source": [
    "client = pymongo.MongoClient(\"mongo\")\n",
    "database = client['exercices']\n",
    "collection = database['kickstarter']"
   ]
  },
  {
   "cell_type": "code",
   "execution_count": 3,
   "metadata": {},
   "outputs": [
    {
     "name": "stderr",
     "output_type": "stream",
     "text": [
      "/root/.local/share/virtualenvs/code-AFz48Hjb/lib/python3.8/site-packages/IPython/core/interactiveshell.py:3146: DtypeWarning: Columns (6,8,10,12) have mixed types.Specify dtype option on import or set low_memory=False.\n",
      "  has_raised = await self.run_ast_nodes(code_ast.body, cell_name,\n"
     ]
    },
    {
     "data": {
      "text/html": [
       "<div>\n",
       "<style scoped>\n",
       "    .dataframe tbody tr th:only-of-type {\n",
       "        vertical-align: middle;\n",
       "    }\n",
       "\n",
       "    .dataframe tbody tr th {\n",
       "        vertical-align: top;\n",
       "    }\n",
       "\n",
       "    .dataframe thead th {\n",
       "        text-align: right;\n",
       "    }\n",
       "</style>\n",
       "<table border=\"1\" class=\"dataframe\">\n",
       "  <thead>\n",
       "    <tr style=\"text-align: right;\">\n",
       "      <th></th>\n",
       "      <th>ID</th>\n",
       "      <th>name</th>\n",
       "      <th>category</th>\n",
       "      <th>main_category</th>\n",
       "      <th>currency</th>\n",
       "      <th>deadline</th>\n",
       "      <th>goal</th>\n",
       "      <th>launched</th>\n",
       "      <th>pledged</th>\n",
       "      <th>state</th>\n",
       "      <th>backers</th>\n",
       "      <th>country</th>\n",
       "      <th>usd pledged</th>\n",
       "      <th>usd_pledged_real</th>\n",
       "    </tr>\n",
       "  </thead>\n",
       "  <tbody>\n",
       "    <tr>\n",
       "      <th>0</th>\n",
       "      <td>872782264</td>\n",
       "      <td>Scott Cooper's Solo CD \"A Leg Trick\" (Canceled)</td>\n",
       "      <td>Rock</td>\n",
       "      <td>Music</td>\n",
       "      <td>USD</td>\n",
       "      <td>2011-09-16</td>\n",
       "      <td>2000</td>\n",
       "      <td>2011-08-17 06:31:31</td>\n",
       "      <td>1145</td>\n",
       "      <td>canceled</td>\n",
       "      <td>24</td>\n",
       "      <td>US</td>\n",
       "      <td>1145</td>\n",
       "      <td>1145.000000</td>\n",
       "    </tr>\n",
       "    <tr>\n",
       "      <th>1</th>\n",
       "      <td>1326492673</td>\n",
       "      <td>Ohceola jewelry</td>\n",
       "      <td>Fashion</td>\n",
       "      <td>Fashion</td>\n",
       "      <td>USD</td>\n",
       "      <td>2012-08-22</td>\n",
       "      <td>18000</td>\n",
       "      <td>2012-07-23 20:46:48</td>\n",
       "      <td>1851</td>\n",
       "      <td>failed</td>\n",
       "      <td>28</td>\n",
       "      <td>US</td>\n",
       "      <td>1851</td>\n",
       "      <td>1851.000000</td>\n",
       "    </tr>\n",
       "    <tr>\n",
       "      <th>2</th>\n",
       "      <td>1688410639</td>\n",
       "      <td>Sluff Off &amp; Harald: Two latest EGGs are Classi...</td>\n",
       "      <td>Tabletop Games</td>\n",
       "      <td>Games</td>\n",
       "      <td>USD</td>\n",
       "      <td>2016-07-19</td>\n",
       "      <td>2000</td>\n",
       "      <td>2016-07-01 21:55:54</td>\n",
       "      <td>7534</td>\n",
       "      <td>successful</td>\n",
       "      <td>254</td>\n",
       "      <td>US</td>\n",
       "      <td>3796</td>\n",
       "      <td>7534.000000</td>\n",
       "    </tr>\n",
       "    <tr>\n",
       "      <th>3</th>\n",
       "      <td>156812982</td>\n",
       "      <td>SketchPlanner: Create and Plan- all in one bea...</td>\n",
       "      <td>Art Books</td>\n",
       "      <td>Publishing</td>\n",
       "      <td>USD</td>\n",
       "      <td>2017-09-27</td>\n",
       "      <td>13000</td>\n",
       "      <td>2017-08-28 15:47:02</td>\n",
       "      <td>16298</td>\n",
       "      <td>successful</td>\n",
       "      <td>367</td>\n",
       "      <td>US</td>\n",
       "      <td>2670</td>\n",
       "      <td>16298.000000</td>\n",
       "    </tr>\n",
       "    <tr>\n",
       "      <th>4</th>\n",
       "      <td>1835968190</td>\n",
       "      <td>Proven sales with custom motorcycle accessories</td>\n",
       "      <td>Sculpture</td>\n",
       "      <td>Art</td>\n",
       "      <td>CAD</td>\n",
       "      <td>2016-02-24</td>\n",
       "      <td>5000</td>\n",
       "      <td>2016-01-25 17:37:10</td>\n",
       "      <td>1</td>\n",
       "      <td>failed</td>\n",
       "      <td>1</td>\n",
       "      <td>CA</td>\n",
       "      <td>0.708148</td>\n",
       "      <td>0.738225</td>\n",
       "    </tr>\n",
       "  </tbody>\n",
       "</table>\n",
       "</div>"
      ],
      "text/plain": [
       "           ID                                               name  \\\n",
       "0   872782264    Scott Cooper's Solo CD \"A Leg Trick\" (Canceled)   \n",
       "1  1326492673                                    Ohceola jewelry   \n",
       "2  1688410639  Sluff Off & Harald: Two latest EGGs are Classi...   \n",
       "3   156812982  SketchPlanner: Create and Plan- all in one bea...   \n",
       "4  1835968190    Proven sales with custom motorcycle accessories   \n",
       "\n",
       "         category main_category currency    deadline   goal  \\\n",
       "0            Rock         Music      USD  2011-09-16   2000   \n",
       "1         Fashion       Fashion      USD  2012-08-22  18000   \n",
       "2  Tabletop Games         Games      USD  2016-07-19   2000   \n",
       "3       Art Books    Publishing      USD  2017-09-27  13000   \n",
       "4       Sculpture           Art      CAD  2016-02-24   5000   \n",
       "\n",
       "              launched pledged       state backers country usd pledged  \\\n",
       "0  2011-08-17 06:31:31    1145    canceled      24      US        1145   \n",
       "1  2012-07-23 20:46:48    1851      failed      28      US        1851   \n",
       "2  2016-07-01 21:55:54    7534  successful     254      US        3796   \n",
       "3  2017-08-28 15:47:02   16298  successful     367      US        2670   \n",
       "4  2016-01-25 17:37:10       1      failed       1      CA    0.708148   \n",
       "\n",
       "   usd_pledged_real  \n",
       "0       1145.000000  \n",
       "1       1851.000000  \n",
       "2       7534.000000  \n",
       "3      16298.000000  \n",
       "4          0.738225  "
      ]
     },
     "execution_count": 3,
     "metadata": {},
     "output_type": "execute_result"
    }
   ],
   "source": [
    "df_ks = pd.read_csv(\"./data/ks-projects-201801-sample.csv\")\n",
    "df_ks.head()"
   ]
  },
  {
   "cell_type": "code",
   "execution_count": 4,
   "metadata": {},
   "outputs": [
    {
     "data": {
      "text/plain": [
       "(150000, 14)"
      ]
     },
     "execution_count": 4,
     "metadata": {},
     "output_type": "execute_result"
    }
   ],
   "source": [
    "df_ks.shape"
   ]
  },
  {
   "cell_type": "markdown",
   "metadata": {},
   "source": [
    "Ce warning intervient lorsque pandas n'arrive pas à inférer le type de données. Il est sympa il précise les colones 6,8,10,12. "
   ]
  },
  {
   "cell_type": "markdown",
   "metadata": {},
   "source": [
    "## Question 0"
   ]
  },
  {
   "cell_type": "markdown",
   "metadata": {},
   "source": [
    "### Nettoyer les données"
   ]
  },
  {
   "cell_type": "code",
   "execution_count": 5,
   "metadata": {
    "scrolled": true
   },
   "outputs": [
    {
     "data": {
      "text/plain": [
       "Index(['goal', 'pledged', 'backers', 'usd pledged'], dtype='object')"
      ]
     },
     "execution_count": 5,
     "metadata": {},
     "output_type": "execute_result"
    }
   ],
   "source": [
    "df_ks.columns[[6,8,10,12]]"
   ]
  },
  {
   "cell_type": "markdown",
   "metadata": {},
   "source": [
    "En voulant convertir les goals en float on a une erreur qui  nous dit que la valeur '2014-04-17' ne peut être convertis en float, donc il y a une ligne ou la valeur est une date au lieu d'un nombre"
   ]
  },
  {
   "cell_type": "code",
   "execution_count": 6,
   "metadata": {},
   "outputs": [
    {
     "name": "stdout",
     "output_type": "stream",
     "text": [
      "could not convert string to float: '2014-04-17'\n"
     ]
    }
   ],
   "source": [
    "try:\n",
    "    df_ks['goal'].astype(float)\n",
    "except ValueError as e:\n",
    "    print(e)"
   ]
  },
  {
   "cell_type": "markdown",
   "metadata": {},
   "source": [
    "On trouve la ligne correspondante et on constate qu'il y a un décalage des valeurs"
   ]
  },
  {
   "cell_type": "code",
   "execution_count": 7,
   "metadata": {},
   "outputs": [
    {
     "data": {
      "text/html": [
       "<div>\n",
       "<style scoped>\n",
       "    .dataframe tbody tr th:only-of-type {\n",
       "        vertical-align: middle;\n",
       "    }\n",
       "\n",
       "    .dataframe tbody tr th {\n",
       "        vertical-align: top;\n",
       "    }\n",
       "\n",
       "    .dataframe thead th {\n",
       "        text-align: right;\n",
       "    }\n",
       "</style>\n",
       "<table border=\"1\" class=\"dataframe\">\n",
       "  <thead>\n",
       "    <tr style=\"text-align: right;\">\n",
       "      <th></th>\n",
       "      <th>ID</th>\n",
       "      <th>name</th>\n",
       "      <th>category</th>\n",
       "      <th>main_category</th>\n",
       "      <th>currency</th>\n",
       "      <th>deadline</th>\n",
       "      <th>goal</th>\n",
       "      <th>launched</th>\n",
       "      <th>pledged</th>\n",
       "      <th>state</th>\n",
       "      <th>backers</th>\n",
       "      <th>country</th>\n",
       "      <th>usd pledged</th>\n",
       "      <th>usd_pledged_real</th>\n",
       "    </tr>\n",
       "  </thead>\n",
       "  <tbody>\n",
       "    <tr>\n",
       "      <th>66141</th>\n",
       "      <td>85964225</td>\n",
       "      <td>Debut Album from Michael Adam</td>\n",
       "      <td>Grace is Leaving</td>\n",
       "      <td>Indie Rock</td>\n",
       "      <td>Music</td>\n",
       "      <td>USD</td>\n",
       "      <td>2014-04-17</td>\n",
       "      <td>700.0</td>\n",
       "      <td>2014-04-02 21:56:35</td>\n",
       "      <td>850.0</td>\n",
       "      <td>successful</td>\n",
       "      <td>32</td>\n",
       "      <td>US</td>\n",
       "      <td>850.0</td>\n",
       "    </tr>\n",
       "  </tbody>\n",
       "</table>\n",
       "</div>"
      ],
      "text/plain": [
       "             ID                            name          category  \\\n",
       "66141  85964225  Debut Album from Michael Adam   Grace is Leaving   \n",
       "\n",
       "      main_category currency deadline        goal launched  \\\n",
       "66141    Indie Rock    Music      USD  2014-04-17    700.0   \n",
       "\n",
       "                   pledged  state     backers country usd pledged  \\\n",
       "66141  2014-04-02 21:56:35  850.0  successful      32          US   \n",
       "\n",
       "       usd_pledged_real  \n",
       "66141             850.0  "
      ]
     },
     "execution_count": 7,
     "metadata": {},
     "output_type": "execute_result"
    }
   ],
   "source": [
    "df_ks.loc[df_ks['goal']=='2014-04-17']"
   ]
  },
  {
   "cell_type": "code",
   "execution_count": 8,
   "metadata": {},
   "outputs": [
    {
     "data": {
      "text/plain": [
       "ID                                        85964225\n",
       "name                Debut Album from Michael Adam \n",
       "category                          Grace is Leaving\n",
       "main_category                           Indie Rock\n",
       "currency                                     Music\n",
       "deadline                                       USD\n",
       "goal                                    2014-04-17\n",
       "launched                                     700.0\n",
       "pledged                        2014-04-02 21:56:35\n",
       "state                                        850.0\n",
       "backers                                 successful\n",
       "country                                         32\n",
       "usd pledged                                     US\n",
       "usd_pledged_real                               850\n",
       "Name: 66141, dtype: object"
      ]
     },
     "execution_count": 8,
     "metadata": {},
     "output_type": "execute_result"
    }
   ],
   "source": [
    "df_ks.iloc[66141]"
   ]
  },
  {
   "cell_type": "markdown",
   "metadata": {},
   "source": [
    "En supposant qu'il n'y a que cette ligne qui pose problème et en retrouvant la page Kickstarter originelle on peut ré-insérer les données correctement à la main"
   ]
  },
  {
   "cell_type": "code",
   "execution_count": 9,
   "metadata": {
    "scrolled": true
   },
   "outputs": [],
   "source": [
    "#https://www.kickstarter.com/projects/michaeladam/debut-album-from-michael-adam-grace-is-leaving/posts?lang=fr\n",
    "df_ks.iloc[66141] = pd.Series({ 'ID': 85964225,\n",
    "            'name': 'Debut Album from Michael Adam Grace is Leaving',\n",
    "            'category' : 'Indie Rock',\n",
    "            'main_category' : 'Music',\n",
    "            'currency' : 'USD',\n",
    "            'deadline' : '2014-04-17',\n",
    "            'goal' : 700.0,\n",
    "            'launched': '2014-04-02 21:56:35',\n",
    "            'pledged' :  850.0,\n",
    "            'state' : 'successful',\n",
    "            'backers' : 32,\n",
    "            'country' : 'US',\n",
    "            'usd pledged' : 850.0,\n",
    "            'usd_pledged_real': 850.0\n",
    "          })"
   ]
  },
  {
   "cell_type": "markdown",
   "metadata": {},
   "source": [
    "On vérifie si en modifiant la ligne cela résout le problème"
   ]
  },
  {
   "cell_type": "code",
   "execution_count": 10,
   "metadata": {},
   "outputs": [
    {
     "data": {
      "text/html": [
       "<div>\n",
       "<style scoped>\n",
       "    .dataframe tbody tr th:only-of-type {\n",
       "        vertical-align: middle;\n",
       "    }\n",
       "\n",
       "    .dataframe tbody tr th {\n",
       "        vertical-align: top;\n",
       "    }\n",
       "\n",
       "    .dataframe thead th {\n",
       "        text-align: right;\n",
       "    }\n",
       "</style>\n",
       "<table border=\"1\" class=\"dataframe\">\n",
       "  <thead>\n",
       "    <tr style=\"text-align: right;\">\n",
       "      <th></th>\n",
       "      <th>ID</th>\n",
       "      <th>name</th>\n",
       "      <th>category</th>\n",
       "      <th>main_category</th>\n",
       "      <th>currency</th>\n",
       "      <th>deadline</th>\n",
       "      <th>goal</th>\n",
       "      <th>launched</th>\n",
       "      <th>pledged</th>\n",
       "      <th>state</th>\n",
       "      <th>backers</th>\n",
       "      <th>country</th>\n",
       "      <th>usd pledged</th>\n",
       "      <th>usd_pledged_real</th>\n",
       "    </tr>\n",
       "  </thead>\n",
       "  <tbody>\n",
       "    <tr>\n",
       "      <th>0</th>\n",
       "      <td>872782264</td>\n",
       "      <td>Scott Cooper's Solo CD \"A Leg Trick\" (Canceled)</td>\n",
       "      <td>Rock</td>\n",
       "      <td>Music</td>\n",
       "      <td>USD</td>\n",
       "      <td>2011-09-16</td>\n",
       "      <td>2000.0</td>\n",
       "      <td>2011-08-17 06:31:31</td>\n",
       "      <td>1145.0</td>\n",
       "      <td>canceled</td>\n",
       "      <td>24</td>\n",
       "      <td>US</td>\n",
       "      <td>1145.0</td>\n",
       "      <td>1145.0</td>\n",
       "    </tr>\n",
       "    <tr>\n",
       "      <th>1</th>\n",
       "      <td>1326492673</td>\n",
       "      <td>Ohceola jewelry</td>\n",
       "      <td>Fashion</td>\n",
       "      <td>Fashion</td>\n",
       "      <td>USD</td>\n",
       "      <td>2012-08-22</td>\n",
       "      <td>18000.0</td>\n",
       "      <td>2012-07-23 20:46:48</td>\n",
       "      <td>1851.0</td>\n",
       "      <td>failed</td>\n",
       "      <td>28</td>\n",
       "      <td>US</td>\n",
       "      <td>1851.0</td>\n",
       "      <td>1851.0</td>\n",
       "    </tr>\n",
       "  </tbody>\n",
       "</table>\n",
       "</div>"
      ],
      "text/plain": [
       "           ID                                             name category  \\\n",
       "0   872782264  Scott Cooper's Solo CD \"A Leg Trick\" (Canceled)     Rock   \n",
       "1  1326492673                                  Ohceola jewelry  Fashion   \n",
       "\n",
       "  main_category currency    deadline     goal             launched  pledged  \\\n",
       "0         Music      USD  2011-09-16   2000.0  2011-08-17 06:31:31   1145.0   \n",
       "1       Fashion      USD  2012-08-22  18000.0  2012-07-23 20:46:48   1851.0   \n",
       "\n",
       "      state  backers country  usd pledged  usd_pledged_real  \n",
       "0  canceled       24      US       1145.0            1145.0  \n",
       "1    failed       28      US       1851.0            1851.0  "
      ]
     },
     "execution_count": 10,
     "metadata": {},
     "output_type": "execute_result"
    }
   ],
   "source": [
    "df_ks.to_csv('corrected_dataframe.csv', index = False, header=True)\n",
    "df_test = pd.read_csv('corrected_dataframe.csv')\n",
    "df_test.head(2)"
   ]
  },
  {
   "cell_type": "code",
   "execution_count": 11,
   "metadata": {},
   "outputs": [
    {
     "name": "stdout",
     "output_type": "stream",
     "text": [
      "<class 'pandas.core.frame.DataFrame'>\n",
      "RangeIndex: 150000 entries, 0 to 149999\n",
      "Data columns (total 14 columns):\n",
      " #   Column            Non-Null Count   Dtype  \n",
      "---  ------            --------------   -----  \n",
      " 0   ID                150000 non-null  int64  \n",
      " 1   name              149998 non-null  object \n",
      " 2   category          150000 non-null  object \n",
      " 3   main_category     150000 non-null  object \n",
      " 4   currency          150000 non-null  object \n",
      " 5   deadline          150000 non-null  object \n",
      " 6   goal              150000 non-null  object \n",
      " 7   launched          150000 non-null  object \n",
      " 8   pledged           150000 non-null  object \n",
      " 9   state             150000 non-null  object \n",
      " 10  backers           150000 non-null  object \n",
      " 11  country           150000 non-null  object \n",
      " 12  usd pledged       148518 non-null  object \n",
      " 13  usd_pledged_real  150000 non-null  float64\n",
      "dtypes: float64(1), int64(1), object(12)\n",
      "memory usage: 16.0+ MB\n"
     ]
    }
   ],
   "source": [
    "df_ks.info()"
   ]
  },
  {
   "cell_type": "markdown",
   "metadata": {},
   "source": [
    "On convertit les dates en datetime, les sommes en float et les décomptes en entier (backers)"
   ]
  },
  {
   "cell_type": "code",
   "execution_count": 12,
   "metadata": {},
   "outputs": [],
   "source": [
    "df_ks['goal']=df_ks['goal'].astype(float)\n",
    "df_ks['pledged']=df_ks['pledged'].astype(float)\n",
    "df_ks['usd pledged']=df_ks['usd pledged'].astype(float)\n",
    "df_ks['usd_pledged_real']=df_ks['usd_pledged_real'].astype(float)\n",
    "\n",
    "\n",
    "df_ks['backers']=df_ks['backers'].astype(int)\n",
    "\n",
    "df_ks['deadline']=pd.to_datetime(df_ks['deadline'])\n",
    "df_ks['launched']=pd.to_datetime(df_ks['launched'])"
   ]
  },
  {
   "cell_type": "markdown",
   "metadata": {},
   "source": [
    "On regarde la présence de Nan"
   ]
  },
  {
   "cell_type": "code",
   "execution_count": 13,
   "metadata": {},
   "outputs": [
    {
     "data": {
      "text/plain": [
       "ID                     0\n",
       "name                   2\n",
       "category               0\n",
       "main_category          0\n",
       "currency               0\n",
       "deadline               0\n",
       "goal                   0\n",
       "launched               0\n",
       "pledged                0\n",
       "state                  0\n",
       "backers                0\n",
       "country                0\n",
       "usd pledged         1482\n",
       "usd_pledged_real       0\n",
       "dtype: int64"
      ]
     },
     "execution_count": 13,
     "metadata": {},
     "output_type": "execute_result"
    }
   ],
   "source": [
    "df_ks.isna().sum()"
   ]
  },
  {
   "cell_type": "code",
   "execution_count": 14,
   "metadata": {
    "scrolled": true
   },
   "outputs": [
    {
     "data": {
      "text/html": [
       "<div>\n",
       "<style scoped>\n",
       "    .dataframe tbody tr th:only-of-type {\n",
       "        vertical-align: middle;\n",
       "    }\n",
       "\n",
       "    .dataframe tbody tr th {\n",
       "        vertical-align: top;\n",
       "    }\n",
       "\n",
       "    .dataframe thead th {\n",
       "        text-align: right;\n",
       "    }\n",
       "</style>\n",
       "<table border=\"1\" class=\"dataframe\">\n",
       "  <thead>\n",
       "    <tr style=\"text-align: right;\">\n",
       "      <th></th>\n",
       "      <th>ID</th>\n",
       "      <th>name</th>\n",
       "      <th>category</th>\n",
       "      <th>main_category</th>\n",
       "      <th>currency</th>\n",
       "      <th>deadline</th>\n",
       "      <th>goal</th>\n",
       "      <th>launched</th>\n",
       "      <th>pledged</th>\n",
       "      <th>state</th>\n",
       "      <th>backers</th>\n",
       "      <th>country</th>\n",
       "      <th>usd pledged</th>\n",
       "      <th>usd_pledged_real</th>\n",
       "    </tr>\n",
       "  </thead>\n",
       "  <tbody>\n",
       "    <tr>\n",
       "      <th>111797</th>\n",
       "      <td>1848699072</td>\n",
       "      <td>NaN</td>\n",
       "      <td>Narrative Film</td>\n",
       "      <td>Film &amp; Video</td>\n",
       "      <td>USD</td>\n",
       "      <td>2012-02-29</td>\n",
       "      <td>200000.0</td>\n",
       "      <td>2012-01-01 12:35:31</td>\n",
       "      <td>100.0</td>\n",
       "      <td>failed</td>\n",
       "      <td>1</td>\n",
       "      <td>US</td>\n",
       "      <td>100.000000</td>\n",
       "      <td>100.000000</td>\n",
       "    </tr>\n",
       "    <tr>\n",
       "      <th>119500</th>\n",
       "      <td>634871725</td>\n",
       "      <td>NaN</td>\n",
       "      <td>Video Games</td>\n",
       "      <td>Games</td>\n",
       "      <td>GBP</td>\n",
       "      <td>2013-01-06</td>\n",
       "      <td>2000.0</td>\n",
       "      <td>2012-12-19 23:57:48</td>\n",
       "      <td>196.0</td>\n",
       "      <td>failed</td>\n",
       "      <td>12</td>\n",
       "      <td>GB</td>\n",
       "      <td>317.728436</td>\n",
       "      <td>316.047472</td>\n",
       "    </tr>\n",
       "  </tbody>\n",
       "</table>\n",
       "</div>"
      ],
      "text/plain": [
       "                ID name        category main_category currency   deadline  \\\n",
       "111797  1848699072  NaN  Narrative Film  Film & Video      USD 2012-02-29   \n",
       "119500   634871725  NaN     Video Games         Games      GBP 2013-01-06   \n",
       "\n",
       "            goal            launched  pledged   state  backers country  \\\n",
       "111797  200000.0 2012-01-01 12:35:31    100.0  failed        1      US   \n",
       "119500    2000.0 2012-12-19 23:57:48    196.0  failed       12      GB   \n",
       "\n",
       "        usd pledged  usd_pledged_real  \n",
       "111797   100.000000        100.000000  \n",
       "119500   317.728436        316.047472  "
      ]
     },
     "execution_count": 14,
     "metadata": {},
     "output_type": "execute_result"
    }
   ],
   "source": [
    "df_ks[df_ks['name'].isna()]"
   ]
  },
  {
   "cell_type": "markdown",
   "metadata": {},
   "source": [
    "On drop les lignes où les names sont des Nan car on peut pas calculer/retrouver l'information"
   ]
  },
  {
   "cell_type": "code",
   "execution_count": 15,
   "metadata": {},
   "outputs": [],
   "source": [
    "df_ks=df_ks.drop(df_ks[df_ks['name'].isna()].index)"
   ]
  },
  {
   "cell_type": "markdown",
   "metadata": {},
   "source": [
    "On a 1482 lignes où la somme promise en USD n'est pas définie mais ce n'est pas trop grave car cette colonne n'est pas nécessaire pour répondre aux questions"
   ]
  },
  {
   "cell_type": "code",
   "execution_count": 16,
   "metadata": {
    "scrolled": true
   },
   "outputs": [
    {
     "data": {
      "text/html": [
       "<div>\n",
       "<style scoped>\n",
       "    .dataframe tbody tr th:only-of-type {\n",
       "        vertical-align: middle;\n",
       "    }\n",
       "\n",
       "    .dataframe tbody tr th {\n",
       "        vertical-align: top;\n",
       "    }\n",
       "\n",
       "    .dataframe thead th {\n",
       "        text-align: right;\n",
       "    }\n",
       "</style>\n",
       "<table border=\"1\" class=\"dataframe\">\n",
       "  <thead>\n",
       "    <tr style=\"text-align: right;\">\n",
       "      <th></th>\n",
       "      <th>ID</th>\n",
       "      <th>name</th>\n",
       "      <th>category</th>\n",
       "      <th>main_category</th>\n",
       "      <th>currency</th>\n",
       "      <th>deadline</th>\n",
       "      <th>goal</th>\n",
       "      <th>launched</th>\n",
       "      <th>pledged</th>\n",
       "      <th>state</th>\n",
       "      <th>backers</th>\n",
       "      <th>country</th>\n",
       "      <th>usd pledged</th>\n",
       "      <th>usd_pledged_real</th>\n",
       "    </tr>\n",
       "  </thead>\n",
       "  <tbody>\n",
       "    <tr>\n",
       "      <th>97</th>\n",
       "      <td>2146928537</td>\n",
       "      <td>Crimson Apple, Debut Album \"Hello\"</td>\n",
       "      <td>Music</td>\n",
       "      <td>Music</td>\n",
       "      <td>USD</td>\n",
       "      <td>2015-08-27</td>\n",
       "      <td>8000.0</td>\n",
       "      <td>2015-07-27 13:53:12</td>\n",
       "      <td>8805.0</td>\n",
       "      <td>undefined</td>\n",
       "      <td>0</td>\n",
       "      <td>N,0\"</td>\n",
       "      <td>NaN</td>\n",
       "      <td>8805.0</td>\n",
       "    </tr>\n",
       "    <tr>\n",
       "      <th>315</th>\n",
       "      <td>1927293317</td>\n",
       "      <td>Dillon King's Debut Album - Everything Changes</td>\n",
       "      <td>Music</td>\n",
       "      <td>Music</td>\n",
       "      <td>USD</td>\n",
       "      <td>2015-04-24</td>\n",
       "      <td>3500.0</td>\n",
       "      <td>2015-03-10 03:14:57</td>\n",
       "      <td>171.0</td>\n",
       "      <td>undefined</td>\n",
       "      <td>0</td>\n",
       "      <td>N,0\"</td>\n",
       "      <td>NaN</td>\n",
       "      <td>171.0</td>\n",
       "    </tr>\n",
       "  </tbody>\n",
       "</table>\n",
       "</div>"
      ],
      "text/plain": [
       "             ID                                            name category  \\\n",
       "97   2146928537              Crimson Apple, Debut Album \"Hello\"    Music   \n",
       "315  1927293317  Dillon King's Debut Album - Everything Changes    Music   \n",
       "\n",
       "    main_category currency   deadline    goal            launched  pledged  \\\n",
       "97          Music      USD 2015-08-27  8000.0 2015-07-27 13:53:12   8805.0   \n",
       "315         Music      USD 2015-04-24  3500.0 2015-03-10 03:14:57    171.0   \n",
       "\n",
       "         state  backers country  usd pledged  usd_pledged_real  \n",
       "97   undefined        0    N,0\"          NaN            8805.0  \n",
       "315  undefined        0    N,0\"          NaN             171.0  "
      ]
     },
     "execution_count": 16,
     "metadata": {},
     "output_type": "execute_result"
    }
   ],
   "source": [
    "df_ks[df_ks['usd pledged'].isna()][0:2]"
   ]
  },
  {
   "cell_type": "markdown",
   "metadata": {},
   "source": [
    "On vérifie si parmis les variables catégorielles il y a des valeurs étranges\n",
    "\n"
   ]
  },
  {
   "cell_type": "code",
   "execution_count": 17,
   "metadata": {},
   "outputs": [
    {
     "data": {
      "text/plain": [
       "array(['Rock', 'Fashion', 'Tabletop Games', 'Art Books', 'Sculpture'],\n",
       "      dtype=object)"
      ]
     },
     "execution_count": 17,
     "metadata": {},
     "output_type": "execute_result"
    }
   ],
   "source": [
    "df_ks['category'].unique()[0:5]"
   ]
  },
  {
   "cell_type": "code",
   "execution_count": 18,
   "metadata": {},
   "outputs": [
    {
     "data": {
      "text/plain": [
       "array(['Music', 'Fashion', 'Games', 'Publishing', 'Art', 'Technology',\n",
       "       'Film & Video', 'Journalism', 'Comics', 'Theater', 'Dance',\n",
       "       'Design', 'Crafts', 'Food', 'Photography'], dtype=object)"
      ]
     },
     "execution_count": 18,
     "metadata": {},
     "output_type": "execute_result"
    }
   ],
   "source": [
    "df_ks['main_category'].unique()"
   ]
  },
  {
   "cell_type": "code",
   "execution_count": 19,
   "metadata": {},
   "outputs": [
    {
     "data": {
      "text/plain": [
       "array(['USD', 'CAD', 'HKD', 'EUR', 'GBP', 'NOK', 'AUD', 'CHF', 'SEK',\n",
       "       'NZD', 'MXN', 'DKK', 'SGD', 'JPY'], dtype=object)"
      ]
     },
     "execution_count": 19,
     "metadata": {},
     "output_type": "execute_result"
    }
   ],
   "source": [
    "df_ks['currency'].unique()"
   ]
  },
  {
   "cell_type": "code",
   "execution_count": 20,
   "metadata": {},
   "outputs": [
    {
     "data": {
      "text/plain": [
       "array(['US', 'CA', 'HK', 'BE', 'GB', 'NO', 'NL', 'N,0\"', 'AU', 'CH', 'SE',\n",
       "       'AT', 'NZ', 'MX', 'FR', 'DK', 'IT', 'ES', 'DE', 'IE', 'SG', 'LU',\n",
       "       'JP'], dtype=object)"
      ]
     },
     "execution_count": 20,
     "metadata": {},
     "output_type": "execute_result"
    }
   ],
   "source": [
    "df_ks['country'].unique()"
   ]
  },
  {
   "cell_type": "markdown",
   "metadata": {},
   "source": [
    "On remarque un code pays inconnu N,0\", cependant il n'estpas possible de savoir à quel pays il appartient car les devises utilisées avec ce code pays sont multiples "
   ]
  },
  {
   "cell_type": "code",
   "execution_count": 21,
   "metadata": {},
   "outputs": [
    {
     "data": {
      "text/plain": [
       "country  currency\n",
       "AT       EUR            256\n",
       "AU       AUD           3122\n",
       "BE       EUR            234\n",
       "CA       CAD           5889\n",
       "CH       CHF            309\n",
       "DE       EUR           1678\n",
       "DK       DKK            431\n",
       "ES       EUR            880\n",
       "FR       EUR           1173\n",
       "GB       GBP          13203\n",
       "HK       HKD            251\n",
       "IE       EUR            319\n",
       "IT       EUR           1143\n",
       "JP       JPY             12\n",
       "LU       EUR             25\n",
       "MX       MXN            720\n",
       "N,0\"     AUD             45\n",
       "         CAD             93\n",
       "         CHF              1\n",
       "         DKK              5\n",
       "         EUR             67\n",
       "         GBP            185\n",
       "         NOK              5\n",
       "         NZD             13\n",
       "         SEK             11\n",
       "         USD           1057\n",
       "NL       EUR           1120\n",
       "NO       NOK            275\n",
       "NZ       NZD            556\n",
       "SE       SEK            713\n",
       "SG       SGD            230\n",
       "US       USD         115977\n",
       "dtype: int64"
      ]
     },
     "execution_count": 21,
     "metadata": {},
     "output_type": "execute_result"
    }
   ],
   "source": [
    "df_ks.groupby(['country','currency']).size()"
   ]
  },
  {
   "cell_type": "markdown",
   "metadata": {},
   "source": [
    "De plus les lignes où le code pays est N,0\" semblent être les mêmes que celles où usd pleged n'est pas défini"
   ]
  },
  {
   "cell_type": "code",
   "execution_count": 22,
   "metadata": {},
   "outputs": [
    {
     "data": {
      "text/plain": [
       "country\n",
       "AT         256\n",
       "AU        3122\n",
       "BE         234\n",
       "CA        5889\n",
       "CH         309\n",
       "DE        1678\n",
       "DK         431\n",
       "ES         880\n",
       "FR        1173\n",
       "GB       13203\n",
       "HK         251\n",
       "IE         319\n",
       "IT        1143\n",
       "JP          12\n",
       "LU          25\n",
       "MX         720\n",
       "N,0\"      1482\n",
       "NL        1120\n",
       "NO         275\n",
       "NZ         556\n",
       "SE         713\n",
       "SG         230\n",
       "US      115977\n",
       "dtype: int64"
      ]
     },
     "execution_count": 22,
     "metadata": {},
     "output_type": "execute_result"
    }
   ],
   "source": [
    "df_ks.groupby(['country']).size()"
   ]
  },
  {
   "cell_type": "markdown",
   "metadata": {},
   "source": [
    "On remarque aussi qu il y a 1217 lignes où n'y a aucun backers mais oú l'argent récolté est supérieur à zéro, cependant cela semble encore être les lignes ou le pays est N,0\""
   ]
  },
  {
   "cell_type": "code",
   "execution_count": 23,
   "metadata": {
    "scrolled": false
   },
   "outputs": [
    {
     "data": {
      "text/plain": [
       "(1217, 14)"
      ]
     },
     "execution_count": 23,
     "metadata": {},
     "output_type": "execute_result"
    }
   ],
   "source": [
    "df_ks[(df_ks['backers']==0) & (df_ks['pledged']>0.0)].shape"
   ]
  },
  {
   "cell_type": "code",
   "execution_count": 24,
   "metadata": {},
   "outputs": [
    {
     "data": {
      "text/html": [
       "<div>\n",
       "<style scoped>\n",
       "    .dataframe tbody tr th:only-of-type {\n",
       "        vertical-align: middle;\n",
       "    }\n",
       "\n",
       "    .dataframe tbody tr th {\n",
       "        vertical-align: top;\n",
       "    }\n",
       "\n",
       "    .dataframe thead th {\n",
       "        text-align: right;\n",
       "    }\n",
       "</style>\n",
       "<table border=\"1\" class=\"dataframe\">\n",
       "  <thead>\n",
       "    <tr style=\"text-align: right;\">\n",
       "      <th></th>\n",
       "      <th>ID</th>\n",
       "      <th>name</th>\n",
       "      <th>category</th>\n",
       "      <th>main_category</th>\n",
       "      <th>currency</th>\n",
       "      <th>deadline</th>\n",
       "      <th>goal</th>\n",
       "      <th>launched</th>\n",
       "      <th>pledged</th>\n",
       "      <th>state</th>\n",
       "      <th>backers</th>\n",
       "      <th>country</th>\n",
       "      <th>usd pledged</th>\n",
       "      <th>usd_pledged_real</th>\n",
       "    </tr>\n",
       "  </thead>\n",
       "  <tbody>\n",
       "    <tr>\n",
       "      <th>97</th>\n",
       "      <td>2146928537</td>\n",
       "      <td>Crimson Apple, Debut Album \"Hello\"</td>\n",
       "      <td>Music</td>\n",
       "      <td>Music</td>\n",
       "      <td>USD</td>\n",
       "      <td>2015-08-27</td>\n",
       "      <td>8000.0</td>\n",
       "      <td>2015-07-27 13:53:12</td>\n",
       "      <td>8805.0</td>\n",
       "      <td>undefined</td>\n",
       "      <td>0</td>\n",
       "      <td>N,0\"</td>\n",
       "      <td>NaN</td>\n",
       "      <td>8805.0</td>\n",
       "    </tr>\n",
       "    <tr>\n",
       "      <th>315</th>\n",
       "      <td>1927293317</td>\n",
       "      <td>Dillon King's Debut Album - Everything Changes</td>\n",
       "      <td>Music</td>\n",
       "      <td>Music</td>\n",
       "      <td>USD</td>\n",
       "      <td>2015-04-24</td>\n",
       "      <td>3500.0</td>\n",
       "      <td>2015-03-10 03:14:57</td>\n",
       "      <td>171.0</td>\n",
       "      <td>undefined</td>\n",
       "      <td>0</td>\n",
       "      <td>N,0\"</td>\n",
       "      <td>NaN</td>\n",
       "      <td>171.0</td>\n",
       "    </tr>\n",
       "    <tr>\n",
       "      <th>502</th>\n",
       "      <td>97037549</td>\n",
       "      <td>The UNC Tarpeggios Album Project</td>\n",
       "      <td>Music</td>\n",
       "      <td>Music</td>\n",
       "      <td>USD</td>\n",
       "      <td>2015-04-30</td>\n",
       "      <td>5000.0</td>\n",
       "      <td>2015-03-29 19:13:28</td>\n",
       "      <td>7000.0</td>\n",
       "      <td>undefined</td>\n",
       "      <td>0</td>\n",
       "      <td>N,0\"</td>\n",
       "      <td>NaN</td>\n",
       "      <td>7000.0</td>\n",
       "    </tr>\n",
       "  </tbody>\n",
       "</table>\n",
       "</div>"
      ],
      "text/plain": [
       "             ID                                            name category  \\\n",
       "97   2146928537              Crimson Apple, Debut Album \"Hello\"    Music   \n",
       "315  1927293317  Dillon King's Debut Album - Everything Changes    Music   \n",
       "502    97037549                The UNC Tarpeggios Album Project    Music   \n",
       "\n",
       "    main_category currency   deadline    goal            launched  pledged  \\\n",
       "97          Music      USD 2015-08-27  8000.0 2015-07-27 13:53:12   8805.0   \n",
       "315         Music      USD 2015-04-24  3500.0 2015-03-10 03:14:57    171.0   \n",
       "502         Music      USD 2015-04-30  5000.0 2015-03-29 19:13:28   7000.0   \n",
       "\n",
       "         state  backers country  usd pledged  usd_pledged_real  \n",
       "97   undefined        0    N,0\"          NaN            8805.0  \n",
       "315  undefined        0    N,0\"          NaN             171.0  \n",
       "502  undefined        0    N,0\"          NaN            7000.0  "
      ]
     },
     "execution_count": 24,
     "metadata": {},
     "output_type": "execute_result"
    }
   ],
   "source": [
    "df_ks[(df_ks['backers']==0) & (df_ks['pledged']>0.0)][0:3]"
   ]
  },
  {
   "cell_type": "code",
   "execution_count": 25,
   "metadata": {},
   "outputs": [],
   "source": [
    "df_ks = df_ks.drop(df_ks[df_ks['country']=='N,0\"'].index)"
   ]
  },
  {
   "cell_type": "markdown",
   "metadata": {},
   "source": [
    "On remarque en droppant les lignes où 'country' vaut N,0\" on résout nos problèmes précédents"
   ]
  },
  {
   "cell_type": "code",
   "execution_count": 26,
   "metadata": {
    "scrolled": true
   },
   "outputs": [
    {
     "data": {
      "text/html": [
       "<div>\n",
       "<style scoped>\n",
       "    .dataframe tbody tr th:only-of-type {\n",
       "        vertical-align: middle;\n",
       "    }\n",
       "\n",
       "    .dataframe tbody tr th {\n",
       "        vertical-align: top;\n",
       "    }\n",
       "\n",
       "    .dataframe thead th {\n",
       "        text-align: right;\n",
       "    }\n",
       "</style>\n",
       "<table border=\"1\" class=\"dataframe\">\n",
       "  <thead>\n",
       "    <tr style=\"text-align: right;\">\n",
       "      <th></th>\n",
       "      <th>ID</th>\n",
       "      <th>name</th>\n",
       "      <th>category</th>\n",
       "      <th>main_category</th>\n",
       "      <th>currency</th>\n",
       "      <th>deadline</th>\n",
       "      <th>goal</th>\n",
       "      <th>launched</th>\n",
       "      <th>pledged</th>\n",
       "      <th>state</th>\n",
       "      <th>backers</th>\n",
       "      <th>country</th>\n",
       "      <th>usd pledged</th>\n",
       "      <th>usd_pledged_real</th>\n",
       "    </tr>\n",
       "  </thead>\n",
       "  <tbody>\n",
       "    <tr>\n",
       "      <th>135961</th>\n",
       "      <td>950767056</td>\n",
       "      <td>Sins Of A Son</td>\n",
       "      <td>Documentary</td>\n",
       "      <td>Film &amp; Video</td>\n",
       "      <td>USD</td>\n",
       "      <td>2010-09-04</td>\n",
       "      <td>3500.0</td>\n",
       "      <td>2010-07-02 23:41:15</td>\n",
       "      <td>1.0</td>\n",
       "      <td>failed</td>\n",
       "      <td>0</td>\n",
       "      <td>US</td>\n",
       "      <td>1.0</td>\n",
       "      <td>1.0</td>\n",
       "    </tr>\n",
       "  </tbody>\n",
       "</table>\n",
       "</div>"
      ],
      "text/plain": [
       "               ID           name     category main_category currency  \\\n",
       "135961  950767056  Sins Of A Son  Documentary  Film & Video      USD   \n",
       "\n",
       "         deadline    goal            launched  pledged   state  backers  \\\n",
       "135961 2010-09-04  3500.0 2010-07-02 23:41:15      1.0  failed        0   \n",
       "\n",
       "       country  usd pledged  usd_pledged_real  \n",
       "135961      US          1.0               1.0  "
      ]
     },
     "execution_count": 26,
     "metadata": {},
     "output_type": "execute_result"
    }
   ],
   "source": [
    "df_ks[(df_ks['backers']==0) & (df_ks['pledged']>0.0)]"
   ]
  },
  {
   "cell_type": "code",
   "execution_count": 27,
   "metadata": {
    "scrolled": true
   },
   "outputs": [
    {
     "data": {
      "text/plain": [
       "ID                  0\n",
       "name                0\n",
       "category            0\n",
       "main_category       0\n",
       "currency            0\n",
       "deadline            0\n",
       "goal                0\n",
       "launched            0\n",
       "pledged             0\n",
       "state               0\n",
       "backers             0\n",
       "country             0\n",
       "usd pledged         0\n",
       "usd_pledged_real    0\n",
       "dtype: int64"
      ]
     },
     "execution_count": 27,
     "metadata": {},
     "output_type": "execute_result"
    }
   ],
   "source": [
    "df_ks.isna().sum()"
   ]
  },
  {
   "cell_type": "code",
   "execution_count": 28,
   "metadata": {},
   "outputs": [],
   "source": [
    "df_ks = df_ks.drop( df_ks[(df_ks['backers']==0) & (df_ks['pledged']>0.0)].index)"
   ]
  },
  {
   "cell_type": "code",
   "execution_count": 29,
   "metadata": {},
   "outputs": [
    {
     "data": {
      "text/plain": [
       "0.990000000000002"
      ]
     },
     "execution_count": 29,
     "metadata": {},
     "output_type": "execute_result"
    }
   ],
   "source": [
    "(1-df_ks.shape[0]/150000)*100 # % données supprimées"
   ]
  },
  {
   "cell_type": "markdown",
   "metadata": {
    "slideshow": {
     "slide_type": "slide"
    }
   },
   "source": [
    "### Importer les données"
   ]
  },
  {
   "cell_type": "code",
   "execution_count": 30,
   "metadata": {},
   "outputs": [],
   "source": [
    "import json"
   ]
  },
  {
   "cell_type": "code",
   "execution_count": 56,
   "metadata": {},
   "outputs": [],
   "source": [
    "result = df_ks.to_json(orient=\"records\",date_format=\"iso\")\n",
    "parsed = json.loads(result)"
   ]
  },
  {
   "cell_type": "code",
   "execution_count": 57,
   "metadata": {},
   "outputs": [
    {
     "data": {
      "text/plain": [
       "{'ID': 872782264,\n",
       " 'name': 'Scott Cooper\\'s Solo CD \"A Leg Trick\" (Canceled)',\n",
       " 'category': 'Rock',\n",
       " 'main_category': 'Music',\n",
       " 'currency': 'USD',\n",
       " 'deadline': '2011-09-16T00:00:00.000Z',\n",
       " 'goal': 2000.0,\n",
       " 'launched': '2011-08-17T06:31:31.000Z',\n",
       " 'pledged': 1145.0,\n",
       " 'state': 'canceled',\n",
       " 'backers': 24,\n",
       " 'country': 'US',\n",
       " 'usd pledged': 1145.0,\n",
       " 'usd_pledged_real': 1145.0}"
      ]
     },
     "execution_count": 57,
     "metadata": {},
     "output_type": "execute_result"
    }
   ],
   "source": [
    "parsed[0]"
   ]
  },
  {
   "cell_type": "code",
   "execution_count": 49,
   "metadata": {},
   "outputs": [],
   "source": [
    "database = client['exercices']\n",
    "collection = database['kickstarter']"
   ]
  },
  {
   "cell_type": "code",
   "execution_count": 50,
   "metadata": {},
   "outputs": [
    {
     "data": {
      "text/plain": [
       "<pymongo.results.InsertManyResult at 0x7facdfb76a00>"
      ]
     },
     "execution_count": 50,
     "metadata": {},
     "output_type": "execute_result"
    }
   ],
   "source": [
    "collection.insert_many(parsed)"
   ]
  },
  {
   "cell_type": "code",
   "execution_count": 51,
   "metadata": {},
   "outputs": [
    {
     "data": {
      "text/plain": [
       "{'_id': ObjectId('5fc50aa6996ce0eb6678787f'),\n",
       " 'ID': 872782264,\n",
       " 'name': 'Scott Cooper\\'s Solo CD \"A Leg Trick\" (Canceled)',\n",
       " 'category': 'Rock',\n",
       " 'main_category': 'Music',\n",
       " 'currency': 'USD',\n",
       " 'deadline': '2011-09-16T00:00:00.000Z',\n",
       " 'goal': 2000.0,\n",
       " 'launched': '2011-08-17T06:31:31.000Z',\n",
       " 'pledged': 1145.0,\n",
       " 'state': 'canceled',\n",
       " 'backers': 24,\n",
       " 'country': 'US',\n",
       " 'usd pledged': 1145.0,\n",
       " 'usd_pledged_real': 1145.0}"
      ]
     },
     "execution_count": 51,
     "metadata": {},
     "output_type": "execute_result"
    }
   ],
   "source": [
    "collection.find_one()"
   ]
  },
  {
   "cell_type": "markdown",
   "metadata": {},
   "source": [
    "\n",
    "- 1) Récupérer les 5 projets ayant reçu le plus de promesse de dons.\n",
    "- 2) Compter le nombre de projets ayant atteint leur but.\n",
    "- 3) Compter le nombre de projets pour chaque catégorie.\n",
    "- 4) Compter le nombre de projets français ayant été instanciés avant 2016.\n",
    "- 5) Récupérer les projets américains ayant demandé plus de 200 000 dollars.\n",
    "- 6) Compter le nombre de projet ayant \"Sport\" dans leur nom"
   ]
  },
  {
   "cell_type": "markdown",
   "metadata": {},
   "source": [
    "## Question 1  "
   ]
  },
  {
   "cell_type": "code",
   "execution_count": 62,
   "metadata": {},
   "outputs": [
    {
     "data": {
      "text/plain": [
       "[{'_id': ObjectId('5fc50aa7996ce0eb6679a09d'),\n",
       "  'ID': 342886736,\n",
       "  'name': \"COOLEST COOLER: 21st Century Cooler that's Actually Cooler\",\n",
       "  'category': 'Product Design',\n",
       "  'main_category': 'Design',\n",
       "  'currency': 'USD',\n",
       "  'deadline': '2014-08-30T00:00:00.000Z',\n",
       "  'goal': 50000.0,\n",
       "  'launched': '2014-07-08T10:14:37.000Z',\n",
       "  'pledged': 13285226.36,\n",
       "  'state': 'successful',\n",
       "  'backers': 62642,\n",
       "  'country': 'US',\n",
       "  'usd pledged': 13285226.36,\n",
       "  'usd_pledged_real': 13285226.36},\n",
       " {'_id': ObjectId('5fc50aa7996ce0eb6679fac7'),\n",
       "  'ID': 2103598555,\n",
       "  'name': 'Pebble 2, Time 2 + All-New Pebble Core',\n",
       "  'category': 'Product Design',\n",
       "  'main_category': 'Design',\n",
       "  'currency': 'USD',\n",
       "  'deadline': '2016-06-30T00:00:00.000Z',\n",
       "  'goal': 1000000.0,\n",
       "  'launched': '2016-05-24T15:49:52.000Z',\n",
       "  'pledged': 12779843.49,\n",
       "  'state': 'successful',\n",
       "  'backers': 66673,\n",
       "  'country': 'US',\n",
       "  'usd pledged': 12779843.49,\n",
       "  'usd_pledged_real': 12779843.49},\n",
       " {'_id': ObjectId('5fc50aa7996ce0eb6679acb5'),\n",
       "  'ID': 2111201788,\n",
       "  'name': 'Expect the Unexpected. digiFilmï¿½ Camera by YASHICA',\n",
       "  'category': 'Product Design',\n",
       "  'main_category': 'Design',\n",
       "  'currency': 'HKD',\n",
       "  'deadline': '2017-11-19T00:00:00.000Z',\n",
       "  'goal': 800000.0,\n",
       "  'launched': '2017-10-10T12:52:25.000Z',\n",
       "  'pledged': 10035296.0,\n",
       "  'state': 'successful',\n",
       "  'backers': 6935,\n",
       "  'country': 'HK',\n",
       "  'usd pledged': 4788.64216028,\n",
       "  'usd_pledged_real': 1285142.981546224},\n",
       " {'_id': ObjectId('5fc50aa8996ce0eb667a2f5e'),\n",
       "  'ID': 1033978702,\n",
       "  'name': 'OUYA: A New Kind of Video Game Console',\n",
       "  'category': 'Gaming Hardware',\n",
       "  'main_category': 'Games',\n",
       "  'currency': 'USD',\n",
       "  'deadline': '2012-08-09T00:00:00.000Z',\n",
       "  'goal': 950000.0,\n",
       "  'launched': '2012-07-10T14:44:41.000Z',\n",
       "  'pledged': 8596474.58,\n",
       "  'state': 'successful',\n",
       "  'backers': 63416,\n",
       "  'country': 'US',\n",
       "  'usd pledged': 8596474.58,\n",
       "  'usd_pledged_real': 8596474.58},\n",
       " {'_id': ObjectId('5fc50aa8996ce0eb667aa5df'),\n",
       "  'ID': 450099426,\n",
       "  'name': 'The Everyday Backpack, Tote, and Sling',\n",
       "  'category': 'Product Design',\n",
       "  'main_category': 'Design',\n",
       "  'currency': 'USD',\n",
       "  'deadline': '2016-09-10T00:00:00.000Z',\n",
       "  'goal': 500000.0,\n",
       "  'launched': '2016-07-13T00:47:35.000Z',\n",
       "  'pledged': 6565782.5,\n",
       "  'state': 'successful',\n",
       "  'backers': 26359,\n",
       "  'country': 'US',\n",
       "  'usd pledged': 1462611.0,\n",
       "  'usd_pledged_real': 6565782.5}]"
      ]
     },
     "execution_count": 62,
     "metadata": {},
     "output_type": "execute_result"
    }
   ],
   "source": [
    "list(collection.find().sort([('pledged',-1)]).limit(5))"
   ]
  },
  {
   "cell_type": "markdown",
   "metadata": {},
   "source": [
    "## Question 2"
   ]
  },
  {
   "cell_type": "code",
   "execution_count": 68,
   "metadata": {},
   "outputs": [
    {
     "data": {
      "text/plain": [
       "[{'nb_successful': 52999}]"
      ]
     },
     "execution_count": 68,
     "metadata": {},
     "output_type": "execute_result"
    }
   ],
   "source": [
    "list(collection.aggregate([\n",
    "    {\"$match\" : {\"state\" : \"successful\"}},\n",
    "    {\"$count\" : \"nb_successful\"}\n",
    "]))"
   ]
  },
  {
   "cell_type": "markdown",
   "metadata": {},
   "source": [
    "## Question 3"
   ]
  },
  {
   "cell_type": "code",
   "execution_count": 81,
   "metadata": {},
   "outputs": [
    {
     "data": {
      "text/plain": [
       "[{'_id': 'Video Games', 'count': 4797},\n",
       " {'_id': 'Calendars', 'count': 112},\n",
       " {'_id': 'Translations', 'count': 76},\n",
       " {'_id': 'Fiction', 'count': 3703},\n",
       " {'_id': 'Academic', 'count': 367},\n",
       " {'_id': 'Thrillers', 'count': 302},\n",
       " {'_id': \"Farmer's Markets\", 'count': 175},\n",
       " {'_id': 'Wearables', 'count': 508},\n",
       " {'_id': 'Comics', 'count': 1931},\n",
       " {'_id': 'Food', 'count': 4612},\n",
       " {'_id': 'Technology', 'count': 2689},\n",
       " {'_id': 'Periodicals', 'count': 517},\n",
       " {'_id': 'Documentary', 'count': 6496},\n",
       " {'_id': 'Action', 'count': 282},\n",
       " {'_id': 'Interactive Design', 'count': 146},\n",
       " {'_id': 'Festivals', 'count': 313},\n",
       " {'_id': 'Robots', 'count': 237},\n",
       " {'_id': 'Performance Art', 'count': 855},\n",
       " {'_id': 'Sound', 'count': 255},\n",
       " {'_id': 'Fabrication Tools', 'count': 96},\n",
       " {'_id': 'Narrative Film', 'count': 2097},\n",
       " {'_id': 'Vegan', 'count': 229},\n",
       " {'_id': 'Country & Folk', 'count': 1790},\n",
       " {'_id': 'Woodworking', 'count': 433},\n",
       " {'_id': 'Television', 'count': 401},\n",
       " {'_id': 'Fantasy', 'count': 132},\n",
       " {'_id': 'Drinks', 'count': 995},\n",
       " {'_id': 'Games', 'count': 1331},\n",
       " {'_id': 'Mobile Games', 'count': 650},\n",
       " {'_id': 'Civic Design', 'count': 130},\n",
       " {'_id': 'Graphic Novels', 'count': 702},\n",
       " {'_id': 'Nonfiction', 'count': 3390},\n",
       " {'_id': 'Comic Books', 'count': 1032},\n",
       " {'_id': 'Comedy', 'count': 923},\n",
       " {'_id': 'Dance', 'count': 900},\n",
       " {'_id': 'Ceramics', 'count': 128},\n",
       " {'_id': 'Immersive', 'count': 131},\n",
       " {'_id': 'Animation', 'count': 1017},\n",
       " {'_id': 'Print', 'count': 287},\n",
       " {'_id': 'Quilts', 'count': 32},\n",
       " {'_id': 'Nature', 'count': 219},\n",
       " {'_id': 'Apparel', 'count': 2827},\n",
       " {'_id': 'Literary Spaces', 'count': 10},\n",
       " {'_id': 'People', 'count': 440},\n",
       " {'_id': 'Crochet', 'count': 61},\n",
       " {'_id': '3D Printing', 'count': 271},\n",
       " {'_id': 'Footwear', 'count': 379},\n",
       " {'_id': 'Audio', 'count': 164},\n",
       " {'_id': 'Tabletop Games', 'count': 5579},\n",
       " {'_id': 'Embroidery', 'count': 49},\n",
       " {'_id': 'Conceptual Art', 'count': 393},\n",
       " {'_id': 'R&B', 'count': 172},\n",
       " {'_id': 'Jewelry', 'count': 472},\n",
       " {'_id': 'Webcomics', 'count': 259},\n",
       " {'_id': 'Small Batch', 'count': 701},\n",
       " {'_id': 'Experimental', 'count': 357},\n",
       " {'_id': 'Food Trucks', 'count': 687},\n",
       " {'_id': 'Romance', 'count': 74},\n",
       " {'_id': 'Textiles', 'count': 105},\n",
       " {'_id': 'Radio & Podcasts', 'count': 349},\n",
       " {'_id': 'Events', 'count': 321},\n",
       " {'_id': 'Latin', 'count': 63},\n",
       " {'_id': 'Performances', 'count': 414},\n",
       " {'_id': 'Indie Rock', 'count': 2193},\n",
       " {'_id': 'Photobooks', 'count': 608},\n",
       " {'_id': 'Video', 'count': 147},\n",
       " {'_id': 'Shorts', 'count': 4857},\n",
       " {'_id': 'Kids', 'count': 109},\n",
       " {'_id': 'Gaming Hardware', 'count': 178},\n",
       " {'_id': 'Graphic Design', 'count': 765},\n",
       " {'_id': 'Poetry', 'count': 532},\n",
       " {'_id': 'Public Art', 'count': 1248},\n",
       " {'_id': 'Mixed Media', 'count': 1118},\n",
       " {'_id': 'Punk', 'count': 127},\n",
       " {'_id': 'Community Gardens', 'count': 115},\n",
       " {'_id': 'Architecture', 'count': 300},\n",
       " {'_id': 'Animals', 'count': 97},\n",
       " {'_id': 'Weaving', 'count': 38},\n",
       " {'_id': 'Literary Journals', 'count': 118},\n",
       " {'_id': 'Plays', 'count': 539},\n",
       " {'_id': 'Digital Art', 'count': 524},\n",
       " {'_id': 'Space Exploration', 'count': 137},\n",
       " {'_id': 'Blues', 'count': 113},\n",
       " {'_id': 'Couture', 'count': 108},\n",
       " {'_id': 'Gadgets', 'count': 1210},\n",
       " {'_id': 'Electronic Music', 'count': 858},\n",
       " {'_id': 'Hip-Hop', 'count': 1555},\n",
       " {'_id': 'Webseries', 'count': 2316},\n",
       " {'_id': 'Pet Fashion', 'count': 51},\n",
       " {'_id': 'Crafts', 'count': 1834},\n",
       " {'_id': 'Photo', 'count': 58},\n",
       " {'_id': 'Bacon', 'count': 78},\n",
       " {'_id': 'Farms', 'count': 482},\n",
       " {'_id': 'World Music', 'count': 850},\n",
       " {'_id': 'Design', 'count': 1641},\n",
       " {'_id': 'Cookbooks', 'count': 217},\n",
       " {'_id': 'Illustration', 'count': 1263},\n",
       " {'_id': 'Candles', 'count': 168},\n",
       " {'_id': 'Web', 'count': 2017},\n",
       " {'_id': 'Pop', 'count': 1302},\n",
       " {'_id': 'Installations', 'count': 178},\n",
       " {'_id': 'Horror', 'count': 525},\n",
       " {'_id': 'Glass', 'count': 51},\n",
       " {'_id': 'Playing Cards', 'count': 963},\n",
       " {'_id': 'Jazz', 'count': 733},\n",
       " {'_id': 'Musical', 'count': 367},\n",
       " {'_id': 'Art Books', 'count': 1065},\n",
       " {'_id': 'Anthologies', 'count': 300},\n",
       " {'_id': 'Software', 'count': 1193},\n",
       " {'_id': 'Faith', 'count': 439},\n",
       " {'_id': 'Printing', 'count': 83},\n",
       " {'_id': 'Science Fiction', 'count': 274},\n",
       " {'_id': 'Painting', 'count': 1288},\n",
       " {'_id': 'DIY Electronics', 'count': 358},\n",
       " {'_id': 'Spaces', 'count': 331},\n",
       " {'_id': 'Music', 'count': 5293},\n",
       " {'_id': 'Drama', 'count': 871},\n",
       " {'_id': 'Workshops', 'count': 59},\n",
       " {'_id': 'Ready-to-wear', 'count': 332},\n",
       " {'_id': 'Apps', 'count': 2535},\n",
       " {'_id': 'Film & Video', 'count': 3657},\n",
       " {'_id': 'Music Videos', 'count': 299},\n",
       " {'_id': 'Taxidermy', 'count': 7},\n",
       " {'_id': 'Photography', 'count': 2239},\n",
       " {'_id': 'Knitting', 'count': 78},\n",
       " {'_id': 'Restaurants', 'count': 1088},\n",
       " {'_id': 'Pottery', 'count': 40},\n",
       " {'_id': 'Young Adult', 'count': 328},\n",
       " {'_id': 'Live Games', 'count': 394},\n",
       " {'_id': 'Fashion', 'count': 3379},\n",
       " {'_id': 'Residencies', 'count': 32},\n",
       " {'_id': 'Hardware', 'count': 1430},\n",
       " {'_id': 'Product Design', 'count': 8885},\n",
       " {'_id': 'Flight', 'count': 158},\n",
       " {'_id': 'Journalism', 'count': 672},\n",
       " {'_id': \"Children's Books\", 'count': 2686},\n",
       " {'_id': 'DIY', 'count': 480},\n",
       " {'_id': 'Art', 'count': 3358},\n",
       " {'_id': 'Makerspaces', 'count': 91},\n",
       " {'_id': 'Chiptune', 'count': 10},\n",
       " {'_id': 'Classical Music', 'count': 1064},\n",
       " {'_id': 'Sculpture', 'count': 737},\n",
       " {'_id': 'Typography', 'count': 44},\n",
       " {'_id': 'Puzzles', 'count': 95},\n",
       " {'_id': 'Publishing', 'count': 2147},\n",
       " {'_id': 'Camera Equipment', 'count': 165},\n",
       " {'_id': 'Zines', 'count': 144},\n",
       " {'_id': 'Metal', 'count': 274},\n",
       " {'_id': 'Letterpress', 'count': 24},\n",
       " {'_id': 'Movie Theaters', 'count': 90},\n",
       " {'_id': 'Fine Art', 'count': 290},\n",
       " {'_id': 'Theater', 'count': 2786},\n",
       " {'_id': 'Rock', 'count': 2707},\n",
       " {'_id': 'Places', 'count': 283},\n",
       " {'_id': 'Childrenswear', 'count': 192},\n",
       " {'_id': 'Family', 'count': 130},\n",
       " {'_id': 'Accessories', 'count': 1203},\n",
       " {'_id': 'Video Art', 'count': 65},\n",
       " {'_id': 'Stationery', 'count': 90}]"
      ]
     },
     "execution_count": 81,
     "metadata": {},
     "output_type": "execute_result"
    }
   ],
   "source": [
    "list(collection.aggregate([\n",
    "    {\"$group\" : { \"_id\" : \"$category\" , \"count\" : {\"$sum\":1}}},\n",
    "   \n",
    "]))"
   ]
  },
  {
   "cell_type": "markdown",
   "metadata": {},
   "source": [
    "## Question 4"
   ]
  },
  {
   "cell_type": "code",
   "execution_count": 89,
   "metadata": {},
   "outputs": [
    {
     "data": {
      "text/plain": [
       "[{'nb_FR_2016': 1173}]"
      ]
     },
     "execution_count": 89,
     "metadata": {},
     "output_type": "execute_result"
    }
   ],
   "source": [
    "#https://docs.mongodb.com/manual/reference/method/Date/index.html\n",
    "\n",
    "list(collection.aggregate([\n",
    "    {\"$match\" : {\"country\" : \"FR\" , \"launched\":{\"$lt\": 'new Date(\"2016-00-00T00:00:00Z\")'}}},\n",
    "    {\"$count\" : \"nb_FR_2016\"}\n",
    "]))"
   ]
  },
  {
   "cell_type": "markdown",
   "metadata": {},
   "source": [
    "## Question 5"
   ]
  },
  {
   "cell_type": "code",
   "execution_count": 93,
   "metadata": {},
   "outputs": [
    {
     "data": {
      "text/plain": [
       "{'_id': ObjectId('5fc50aa6996ce0eb66787920'),\n",
       " 'ID': 866634482,\n",
       " 'name': 'A CALL TO ADVENTURE',\n",
       " 'category': 'Film & Video',\n",
       " 'main_category': 'Film & Video',\n",
       " 'currency': 'USD',\n",
       " 'deadline': '2012-09-14T00:00:00.000Z',\n",
       " 'goal': 287000.0,\n",
       " 'launched': '2012-08-13T23:14:02.000Z',\n",
       " 'pledged': 1465.0,\n",
       " 'state': 'failed',\n",
       " 'backers': 11,\n",
       " 'country': 'US',\n",
       " 'usd pledged': 1465.0,\n",
       " 'usd_pledged_real': 1465.0}"
      ]
     },
     "execution_count": 93,
     "metadata": {},
     "output_type": "execute_result"
    }
   ],
   "source": [
    "next(collection.aggregate([\n",
    "    {\"$match\" : {\"country\" : \"US\" ,\"currency\":\"USD\", \"goal\":{\"$gt\": 200000}}}\n",
    "    \n",
    "]))"
   ]
  },
  {
   "cell_type": "markdown",
   "metadata": {},
   "source": [
    "## Question 6 "
   ]
  },
  {
   "cell_type": "code",
   "execution_count": 94,
   "metadata": {},
   "outputs": [
    {
     "data": {
      "text/plain": [
       "'name_text'"
      ]
     },
     "execution_count": 94,
     "metadata": {},
     "output_type": "execute_result"
    }
   ],
   "source": [
    "collection.create_index([(\"name\",  \"text\")])"
   ]
  },
  {
   "cell_type": "code",
   "execution_count": 95,
   "metadata": {},
   "outputs": [
    {
     "data": {
      "text/plain": [
       "{'_id_': {'v': 2, 'key': [('_id', 1)]},\n",
       " 'name_text': {'v': 2,\n",
       "  'key': [('_fts', 'text'), ('_ftsx', 1)],\n",
       "  'weights': SON([('name', 1)]),\n",
       "  'default_language': 'english',\n",
       "  'language_override': 'language',\n",
       "  'textIndexVersion': 3}}"
      ]
     },
     "execution_count": 95,
     "metadata": {},
     "output_type": "execute_result"
    }
   ],
   "source": [
    "collection.index_information()"
   ]
  },
  {
   "cell_type": "code",
   "execution_count": 100,
   "metadata": {},
   "outputs": [
    {
     "data": {
      "text/plain": [
       "{'_id': ObjectId('5fc50aa7996ce0eb6679260b'),\n",
       " 'ID': 1875366029,\n",
       " 'name': 'Sport Smart. A New Genre of Sports TV. Sport Fans Unite!!!',\n",
       " 'category': 'Webseries',\n",
       " 'main_category': 'Film & Video',\n",
       " 'currency': 'USD',\n",
       " 'deadline': '2011-01-15T00:00:00.000Z',\n",
       " 'goal': 4500.0,\n",
       " 'launched': '2010-12-16T08:40:02.000Z',\n",
       " 'pledged': 25.0,\n",
       " 'state': 'failed',\n",
       " 'backers': 1,\n",
       " 'country': 'US',\n",
       " 'usd pledged': 25.0,\n",
       " 'usd_pledged_real': 25.0}"
      ]
     },
     "execution_count": 100,
     "metadata": {},
     "output_type": "execute_result"
    }
   ],
   "source": [
    "next(collection.find( { \"$text\": { \"$search\": \"Sport\" } } ))"
   ]
  }
 ],
 "metadata": {
  "kernelspec": {
   "display_name": "Python 3",
   "language": "python",
   "name": "python3"
  },
  "language_info": {
   "codemirror_mode": {
    "name": "ipython",
    "version": 3
   },
   "file_extension": ".py",
   "mimetype": "text/x-python",
   "name": "python",
   "nbconvert_exporter": "python",
   "pygments_lexer": "ipython3",
   "version": "3.7.4"
  }
 },
 "nbformat": 4,
 "nbformat_minor": 2
}
